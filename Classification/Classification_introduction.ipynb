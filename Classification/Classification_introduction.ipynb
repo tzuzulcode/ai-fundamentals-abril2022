{
 "cells": [
  {
   "cell_type": "markdown",
   "source": [
    "# Naive bayes\n",
    "\n",
    "Probabilidad condicional\n",
    "La probabilidad de observar algún evento (digamos, X = i ) dado algún otro evento (digamos, Y = i )\n",
    "\n",
    "Probabilidad posterior\n",
    "La probabilidad de un resultado después de que se haya incorporado la información del predictor (en contraste con la probabilidad previa de resultados, sin tener en cuenta la información del predictor)."
   ],
   "metadata": {
    "collapsed": false,
    "pycharm": {
     "name": "#%% md\n"
    }
   }
  },
  {
   "cell_type": "code",
   "execution_count": null,
   "outputs": [],
   "source": [],
   "metadata": {
    "collapsed": false,
    "pycharm": {
     "name": "#%%\n"
    }
   }
  }
 ],
 "metadata": {
  "kernelspec": {
   "display_name": "Python 3",
   "language": "python",
   "name": "python3"
  },
  "language_info": {
   "codemirror_mode": {
    "name": "ipython",
    "version": 2
   },
   "file_extension": ".py",
   "mimetype": "text/x-python",
   "name": "python",
   "nbconvert_exporter": "python",
   "pygments_lexer": "ipython2",
   "version": "2.7.6"
  }
 },
 "nbformat": 4,
 "nbformat_minor": 0
}