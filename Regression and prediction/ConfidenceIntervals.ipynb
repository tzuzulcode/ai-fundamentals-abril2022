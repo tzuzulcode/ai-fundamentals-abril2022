{
 "cells": [
  {
   "cell_type": "code",
   "execution_count": 25,
   "outputs": [],
   "source": [
    "import pandas as pd\n",
    "from sklearn.linear_model import LinearRegression"
   ],
   "metadata": {
    "collapsed": false,
    "pycharm": {
     "name": "#%%\n"
    }
   }
  },
  {
   "cell_type": "code",
   "execution_count": 3,
   "outputs": [
    {
     "data": {
      "text/plain": "      DocumentDate  SalePrice  PropertyID   PropertyType          ym  zhvi_px  \\\n1       2014-09-16     280000     1000102      Multiplex  2014-09-01   405100   \n2       2006-06-16    1000000     1200013  Single Family  2006-06-01   404400   \n3       2007-01-29     745000     1200019  Single Family  2007-01-01   425600   \n4       2008-02-25     425000     2800016  Single Family  2008-02-01   418400   \n5       2013-03-29     240000     2800024  Single Family  2013-03-01   351600   \n...            ...        ...         ...            ...         ...      ...   \n27057   2011-04-08     325000  9842300710  Single Family  2011-04-01   318700   \n27058   2007-09-28    1580000  9845500010  Single Family  2007-09-01   433500   \n27061   2012-07-09     165000  9899200010  Single Family  2012-07-01   325300   \n27062   2006-05-26     315000  9900000355  Single Family  2006-05-01   400600   \n27063   2007-01-09     465000  9906000035  Single Family  2007-01-01   425600   \n\n       zhvi_idx  AdjSalePrice  NbrLivingUnits  SqFtLot  ...  Bathrooms  \\\n1      0.930836      300805.0               2     9373  ...       3.00   \n2      0.929228     1076162.0               1    20156  ...       3.75   \n3      0.977941      761805.0               1    26036  ...       1.75   \n4      0.961397      442065.0               1     8618  ...       3.75   \n5      0.807904      297065.0               1     8620  ...       1.75   \n...         ...           ...             ...      ...  ...        ...   \n27057  0.732307      443803.0               1     5468  ...       1.75   \n27058  0.996094     1586196.0               1    23914  ...       4.50   \n27061  0.747472      220744.0               1    11170  ...       1.00   \n27062  0.920496      342207.0               1     6223  ...       2.00   \n27063  0.977941      475489.0               1     4400  ...       1.50   \n\n       Bedrooms  BldgGrade  YrBuilt  YrRenovated  TrafficNoise  LandVal  \\\n1             6          7     1991            0             0    70000   \n2             4         10     2005            0             0   203000   \n3             4          8     1947            0             0   183000   \n4             5          7     1966            0             0   104000   \n5             4          7     1948            0             0   104000   \n...         ...        ...      ...          ...           ...      ...   \n27057         3          7     1951            0             0   201000   \n27058         4         11     2000            0             1   703000   \n27061         4          6     1971            0             0    92000   \n27062         3          7     1939            0             0   103000   \n27063         3          7     1928            0             0   311000   \n\n       ImpsVal  ZipCode  NewConstruction  \n1       229000    98002            False  \n2       590000    98166             True  \n3       275000    98166            False  \n4       229000    98168            False  \n5       205000    98168            False  \n...        ...      ...              ...  \n27057   172000    98126            False  \n27058   951000    98040            False  \n27061   130000    98055            False  \n27062   212000    98166            False  \n27063   268000    98103            False  \n\n[22687 rows x 22 columns]",
      "text/html": "<div>\n<style scoped>\n    .dataframe tbody tr th:only-of-type {\n        vertical-align: middle;\n    }\n\n    .dataframe tbody tr th {\n        vertical-align: top;\n    }\n\n    .dataframe thead th {\n        text-align: right;\n    }\n</style>\n<table border=\"1\" class=\"dataframe\">\n  <thead>\n    <tr style=\"text-align: right;\">\n      <th></th>\n      <th>DocumentDate</th>\n      <th>SalePrice</th>\n      <th>PropertyID</th>\n      <th>PropertyType</th>\n      <th>ym</th>\n      <th>zhvi_px</th>\n      <th>zhvi_idx</th>\n      <th>AdjSalePrice</th>\n      <th>NbrLivingUnits</th>\n      <th>SqFtLot</th>\n      <th>...</th>\n      <th>Bathrooms</th>\n      <th>Bedrooms</th>\n      <th>BldgGrade</th>\n      <th>YrBuilt</th>\n      <th>YrRenovated</th>\n      <th>TrafficNoise</th>\n      <th>LandVal</th>\n      <th>ImpsVal</th>\n      <th>ZipCode</th>\n      <th>NewConstruction</th>\n    </tr>\n  </thead>\n  <tbody>\n    <tr>\n      <th>1</th>\n      <td>2014-09-16</td>\n      <td>280000</td>\n      <td>1000102</td>\n      <td>Multiplex</td>\n      <td>2014-09-01</td>\n      <td>405100</td>\n      <td>0.930836</td>\n      <td>300805.0</td>\n      <td>2</td>\n      <td>9373</td>\n      <td>...</td>\n      <td>3.00</td>\n      <td>6</td>\n      <td>7</td>\n      <td>1991</td>\n      <td>0</td>\n      <td>0</td>\n      <td>70000</td>\n      <td>229000</td>\n      <td>98002</td>\n      <td>False</td>\n    </tr>\n    <tr>\n      <th>2</th>\n      <td>2006-06-16</td>\n      <td>1000000</td>\n      <td>1200013</td>\n      <td>Single Family</td>\n      <td>2006-06-01</td>\n      <td>404400</td>\n      <td>0.929228</td>\n      <td>1076162.0</td>\n      <td>1</td>\n      <td>20156</td>\n      <td>...</td>\n      <td>3.75</td>\n      <td>4</td>\n      <td>10</td>\n      <td>2005</td>\n      <td>0</td>\n      <td>0</td>\n      <td>203000</td>\n      <td>590000</td>\n      <td>98166</td>\n      <td>True</td>\n    </tr>\n    <tr>\n      <th>3</th>\n      <td>2007-01-29</td>\n      <td>745000</td>\n      <td>1200019</td>\n      <td>Single Family</td>\n      <td>2007-01-01</td>\n      <td>425600</td>\n      <td>0.977941</td>\n      <td>761805.0</td>\n      <td>1</td>\n      <td>26036</td>\n      <td>...</td>\n      <td>1.75</td>\n      <td>4</td>\n      <td>8</td>\n      <td>1947</td>\n      <td>0</td>\n      <td>0</td>\n      <td>183000</td>\n      <td>275000</td>\n      <td>98166</td>\n      <td>False</td>\n    </tr>\n    <tr>\n      <th>4</th>\n      <td>2008-02-25</td>\n      <td>425000</td>\n      <td>2800016</td>\n      <td>Single Family</td>\n      <td>2008-02-01</td>\n      <td>418400</td>\n      <td>0.961397</td>\n      <td>442065.0</td>\n      <td>1</td>\n      <td>8618</td>\n      <td>...</td>\n      <td>3.75</td>\n      <td>5</td>\n      <td>7</td>\n      <td>1966</td>\n      <td>0</td>\n      <td>0</td>\n      <td>104000</td>\n      <td>229000</td>\n      <td>98168</td>\n      <td>False</td>\n    </tr>\n    <tr>\n      <th>5</th>\n      <td>2013-03-29</td>\n      <td>240000</td>\n      <td>2800024</td>\n      <td>Single Family</td>\n      <td>2013-03-01</td>\n      <td>351600</td>\n      <td>0.807904</td>\n      <td>297065.0</td>\n      <td>1</td>\n      <td>8620</td>\n      <td>...</td>\n      <td>1.75</td>\n      <td>4</td>\n      <td>7</td>\n      <td>1948</td>\n      <td>0</td>\n      <td>0</td>\n      <td>104000</td>\n      <td>205000</td>\n      <td>98168</td>\n      <td>False</td>\n    </tr>\n    <tr>\n      <th>...</th>\n      <td>...</td>\n      <td>...</td>\n      <td>...</td>\n      <td>...</td>\n      <td>...</td>\n      <td>...</td>\n      <td>...</td>\n      <td>...</td>\n      <td>...</td>\n      <td>...</td>\n      <td>...</td>\n      <td>...</td>\n      <td>...</td>\n      <td>...</td>\n      <td>...</td>\n      <td>...</td>\n      <td>...</td>\n      <td>...</td>\n      <td>...</td>\n      <td>...</td>\n      <td>...</td>\n    </tr>\n    <tr>\n      <th>27057</th>\n      <td>2011-04-08</td>\n      <td>325000</td>\n      <td>9842300710</td>\n      <td>Single Family</td>\n      <td>2011-04-01</td>\n      <td>318700</td>\n      <td>0.732307</td>\n      <td>443803.0</td>\n      <td>1</td>\n      <td>5468</td>\n      <td>...</td>\n      <td>1.75</td>\n      <td>3</td>\n      <td>7</td>\n      <td>1951</td>\n      <td>0</td>\n      <td>0</td>\n      <td>201000</td>\n      <td>172000</td>\n      <td>98126</td>\n      <td>False</td>\n    </tr>\n    <tr>\n      <th>27058</th>\n      <td>2007-09-28</td>\n      <td>1580000</td>\n      <td>9845500010</td>\n      <td>Single Family</td>\n      <td>2007-09-01</td>\n      <td>433500</td>\n      <td>0.996094</td>\n      <td>1586196.0</td>\n      <td>1</td>\n      <td>23914</td>\n      <td>...</td>\n      <td>4.50</td>\n      <td>4</td>\n      <td>11</td>\n      <td>2000</td>\n      <td>0</td>\n      <td>1</td>\n      <td>703000</td>\n      <td>951000</td>\n      <td>98040</td>\n      <td>False</td>\n    </tr>\n    <tr>\n      <th>27061</th>\n      <td>2012-07-09</td>\n      <td>165000</td>\n      <td>9899200010</td>\n      <td>Single Family</td>\n      <td>2012-07-01</td>\n      <td>325300</td>\n      <td>0.747472</td>\n      <td>220744.0</td>\n      <td>1</td>\n      <td>11170</td>\n      <td>...</td>\n      <td>1.00</td>\n      <td>4</td>\n      <td>6</td>\n      <td>1971</td>\n      <td>0</td>\n      <td>0</td>\n      <td>92000</td>\n      <td>130000</td>\n      <td>98055</td>\n      <td>False</td>\n    </tr>\n    <tr>\n      <th>27062</th>\n      <td>2006-05-26</td>\n      <td>315000</td>\n      <td>9900000355</td>\n      <td>Single Family</td>\n      <td>2006-05-01</td>\n      <td>400600</td>\n      <td>0.920496</td>\n      <td>342207.0</td>\n      <td>1</td>\n      <td>6223</td>\n      <td>...</td>\n      <td>2.00</td>\n      <td>3</td>\n      <td>7</td>\n      <td>1939</td>\n      <td>0</td>\n      <td>0</td>\n      <td>103000</td>\n      <td>212000</td>\n      <td>98166</td>\n      <td>False</td>\n    </tr>\n    <tr>\n      <th>27063</th>\n      <td>2007-01-09</td>\n      <td>465000</td>\n      <td>9906000035</td>\n      <td>Single Family</td>\n      <td>2007-01-01</td>\n      <td>425600</td>\n      <td>0.977941</td>\n      <td>475489.0</td>\n      <td>1</td>\n      <td>4400</td>\n      <td>...</td>\n      <td>1.50</td>\n      <td>3</td>\n      <td>7</td>\n      <td>1928</td>\n      <td>0</td>\n      <td>0</td>\n      <td>311000</td>\n      <td>268000</td>\n      <td>98103</td>\n      <td>False</td>\n    </tr>\n  </tbody>\n</table>\n<p>22687 rows × 22 columns</p>\n</div>"
     },
     "execution_count": 3,
     "metadata": {},
     "output_type": "execute_result"
    }
   ],
   "source": [
    "data = pd.read_csv(\"../Datasets/house_sales.csv\",delimiter=\"\\t\")\n",
    "\n",
    "data"
   ],
   "metadata": {
    "collapsed": false,
    "pycharm": {
     "name": "#%%\n"
    }
   }
  },
  {
   "cell_type": "code",
   "execution_count": 4,
   "outputs": [],
   "source": [
    "predictors = ['SqFtLot','Bedrooms','SqFtFinBasement','Bathrooms']\n",
    "\n",
    "outcome='AdjSalePrice'"
   ],
   "metadata": {
    "collapsed": false,
    "pycharm": {
     "name": "#%%\n"
    }
   }
  },
  {
   "cell_type": "code",
   "execution_count": 5,
   "outputs": [],
   "source": [
    "coefficients = []\n",
    "\n",
    "#4. Repetir el algoritmo n veces\n",
    "for _ in range(1000):\n",
    "    #1. Obtener una muestra\n",
    "    sample = data.sample(1000)\n",
    "    #2. Ajustar un modelo\n",
    "    model = LinearRegression()\n",
    "    model.fit(sample[predictors],sample[outcome])\n",
    "    #3. Obtenemos los coeficientes y registrarlos\n",
    "    coefficients.append(model.coef_)\n",
    "\n",
    "\n",
    "bootstrap_results = pd.DataFrame(coefficients,columns=predictors)"
   ],
   "metadata": {
    "collapsed": false,
    "pycharm": {
     "name": "#%%\n"
    }
   }
  },
  {
   "cell_type": "code",
   "execution_count": 6,
   "outputs": [
    {
     "data": {
      "text/plain": "      SqFtLot      Bedrooms  SqFtFinBasement      Bathrooms\n0    0.585729   2019.399511       136.234881  231149.613215\n1    0.997381  12928.610568        42.382002  244818.675652\n2    1.922424  -1708.710492       148.661578  214626.637983\n3    0.666552  10834.884129        58.813958  244522.182122\n4    1.975072    420.776809       135.917851  267486.140476\n..        ...           ...              ...            ...\n995  0.738091  11539.411281       177.451654  249558.722393\n996  1.197412  -1664.698423       102.950872  220617.557399\n997  0.997473   7209.124720       146.469860  238375.142992\n998  0.651016   5462.262329       129.643155  205584.650967\n999  0.711424   7017.443946       168.985020  219120.399807\n\n[1000 rows x 4 columns]",
      "text/html": "<div>\n<style scoped>\n    .dataframe tbody tr th:only-of-type {\n        vertical-align: middle;\n    }\n\n    .dataframe tbody tr th {\n        vertical-align: top;\n    }\n\n    .dataframe thead th {\n        text-align: right;\n    }\n</style>\n<table border=\"1\" class=\"dataframe\">\n  <thead>\n    <tr style=\"text-align: right;\">\n      <th></th>\n      <th>SqFtLot</th>\n      <th>Bedrooms</th>\n      <th>SqFtFinBasement</th>\n      <th>Bathrooms</th>\n    </tr>\n  </thead>\n  <tbody>\n    <tr>\n      <th>0</th>\n      <td>0.585729</td>\n      <td>2019.399511</td>\n      <td>136.234881</td>\n      <td>231149.613215</td>\n    </tr>\n    <tr>\n      <th>1</th>\n      <td>0.997381</td>\n      <td>12928.610568</td>\n      <td>42.382002</td>\n      <td>244818.675652</td>\n    </tr>\n    <tr>\n      <th>2</th>\n      <td>1.922424</td>\n      <td>-1708.710492</td>\n      <td>148.661578</td>\n      <td>214626.637983</td>\n    </tr>\n    <tr>\n      <th>3</th>\n      <td>0.666552</td>\n      <td>10834.884129</td>\n      <td>58.813958</td>\n      <td>244522.182122</td>\n    </tr>\n    <tr>\n      <th>4</th>\n      <td>1.975072</td>\n      <td>420.776809</td>\n      <td>135.917851</td>\n      <td>267486.140476</td>\n    </tr>\n    <tr>\n      <th>...</th>\n      <td>...</td>\n      <td>...</td>\n      <td>...</td>\n      <td>...</td>\n    </tr>\n    <tr>\n      <th>995</th>\n      <td>0.738091</td>\n      <td>11539.411281</td>\n      <td>177.451654</td>\n      <td>249558.722393</td>\n    </tr>\n    <tr>\n      <th>996</th>\n      <td>1.197412</td>\n      <td>-1664.698423</td>\n      <td>102.950872</td>\n      <td>220617.557399</td>\n    </tr>\n    <tr>\n      <th>997</th>\n      <td>0.997473</td>\n      <td>7209.124720</td>\n      <td>146.469860</td>\n      <td>238375.142992</td>\n    </tr>\n    <tr>\n      <th>998</th>\n      <td>0.651016</td>\n      <td>5462.262329</td>\n      <td>129.643155</td>\n      <td>205584.650967</td>\n    </tr>\n    <tr>\n      <th>999</th>\n      <td>0.711424</td>\n      <td>7017.443946</td>\n      <td>168.985020</td>\n      <td>219120.399807</td>\n    </tr>\n  </tbody>\n</table>\n<p>1000 rows × 4 columns</p>\n</div>"
     },
     "execution_count": 6,
     "metadata": {},
     "output_type": "execute_result"
    }
   ],
   "source": [
    "bootstrap_results"
   ],
   "metadata": {
    "collapsed": false,
    "pycharm": {
     "name": "#%%\n"
    }
   }
  },
  {
   "cell_type": "code",
   "execution_count": 7,
   "outputs": [
    {
     "data": {
      "text/plain": "0.4086644648698895"
     },
     "execution_count": 7,
     "metadata": {},
     "output_type": "execute_result"
    }
   ],
   "source": [
    "#Confidence interval: 90%\n",
    "bootstrap_results.SqFtLot.quantile(0.05)"
   ],
   "metadata": {
    "collapsed": false,
    "pycharm": {
     "name": "#%%\n"
    }
   }
  },
  {
   "cell_type": "code",
   "execution_count": 8,
   "outputs": [
    {
     "data": {
      "text/plain": "2.36053250937968"
     },
     "execution_count": 8,
     "metadata": {},
     "output_type": "execute_result"
    }
   ],
   "source": [
    "bootstrap_results.SqFtLot.quantile(0.95)"
   ],
   "metadata": {
    "collapsed": false,
    "pycharm": {
     "name": "#%%\n"
    }
   }
  },
  {
   "cell_type": "code",
   "execution_count": 9,
   "outputs": [],
   "source": [
    "# Calcular el error de la predicción: 1000 sqftLot, 3 bedrooms, 500 sqftfinbasement,3 bathrooms"
   ],
   "metadata": {
    "collapsed": false,
    "pycharm": {
     "name": "#%%\n"
    }
   }
  },
  {
   "cell_type": "code",
   "execution_count": 24,
   "outputs": [
    {
     "name": "stdout",
     "output_type": "stream",
     "text": [
      "707046.0751215335\n",
      "856006.3770367171\n"
     ]
    }
   ],
   "source": [
    "predictions = []\n",
    "test = pd.DataFrame([[1000,3,500,3]],columns=predictors)\n",
    "\n",
    "#4. Repetir el algoritmo n veces\n",
    "for _ in range(1000):\n",
    "    #1. Obtener una muestra\n",
    "    sample = data.sample(1000)\n",
    "    #2. Ajustar un modelo\n",
    "    model = LinearRegression()\n",
    "    model.fit(sample[predictors],sample[outcome])\n",
    "\n",
    "\n",
    "\n",
    "    #3. Hacer una predicción\n",
    "    predict = model.predict(test)[0]\n",
    "    #3. Registramos las predicciones\n",
    "    predictions.append(predict)\n",
    "\n",
    "\n",
    "predictions = pd.Series(predictions)\n",
    "\n",
    "print(predictions.quantile(0.025)) # 2.5th percentile\n",
    "print(predictions.quantile(0.975)) # 97.5th percentile"
   ],
   "metadata": {
    "collapsed": false,
    "pycharm": {
     "name": "#%%\n"
    }
   }
  }
 ],
 "metadata": {
  "kernelspec": {
   "display_name": "Python 3",
   "language": "python",
   "name": "python3"
  },
  "language_info": {
   "codemirror_mode": {
    "name": "ipython",
    "version": 2
   },
   "file_extension": ".py",
   "mimetype": "text/x-python",
   "name": "python",
   "nbconvert_exporter": "python",
   "pygments_lexer": "ipython2",
   "version": "2.7.6"
  }
 },
 "nbformat": 4,
 "nbformat_minor": 0
}