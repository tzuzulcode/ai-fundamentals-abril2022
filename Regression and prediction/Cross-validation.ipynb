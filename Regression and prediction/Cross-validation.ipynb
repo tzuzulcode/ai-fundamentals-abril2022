{
 "cells": [
  {
   "cell_type": "markdown",
   "metadata": {
    "collapsed": true,
    "pycharm": {
     "name": "#%% md\n"
    }
   },
   "source": [
    "# Cross Validation\n",
    "\n",
    "1. Reservar 1/k de los datos como muestra reservada.\n",
    "2. Entrenar el modelo con los datos restantes\n",
    "3. Aplicar (puntuar) el modelo a la retención de 1/k y registrar las métricas de evaluación del modelo.\n",
    "4. Restaurar el primer 1/k de los datos y reservar el siguiente 1/k (excluyendo los registros que se seleccionaron la primera vez)\n",
    "5. Repetir los pasos 2 y 3\n",
    "6. Repetir hasta que cada registro se haya utilizado en la parte reservada\n",
    "7. Promediar o combinar las métricas de evaluación del modelo."
   ]
  },
  {
   "cell_type": "code",
   "execution_count": 9,
   "outputs": [],
   "source": [
    "# Reto: Seleccionar las caracteristicas que creen que son más importantes y hacer el proceso de regresión lineal y obtener métricas e interpretar."
   ],
   "metadata": {
    "collapsed": false,
    "pycharm": {
     "name": "#%%\n"
    }
   }
  },
  {
   "cell_type": "code",
   "execution_count": 10,
   "outputs": [],
   "source": [
    "import pandas as pd\n",
    "import statsmodels.api as sm\n",
    "from sklearn.linear_model import LinearRegression\n",
    "\n",
    "from dmba.featureSelection import stepwise_selection\n",
    "\n",
    "from dmba.metric import AIC_score"
   ],
   "metadata": {
    "collapsed": false,
    "pycharm": {
     "name": "#%%\n"
    }
   }
  },
  {
   "cell_type": "code",
   "execution_count": 11,
   "outputs": [],
   "source": [
    "csv = pd.read_csv(\"../Datasets/house_sales.csv\",delimiter=\"\\t\")\n",
    "csv.drop([\"DocumentDate\",\"ym\",\"PropertyType\",\"SalePrice\"], axis=1, inplace=True)"
   ],
   "metadata": {
    "collapsed": false,
    "pycharm": {
     "name": "#%%\n"
    }
   }
  },
  {
   "cell_type": "code",
   "execution_count": 12,
   "outputs": [],
   "source": [
    "predictors = ['SqFtLot','Bedrooms','SqFtFinBasement','Bathrooms','NewConstruction']\n",
    "outcome='AdjSalePrice'"
   ],
   "metadata": {
    "collapsed": false,
    "pycharm": {
     "name": "#%%\n"
    }
   }
  },
  {
   "cell_type": "code",
   "execution_count": 13,
   "outputs": [
    {
     "data": {
      "text/plain": "       SqFtLot  Bedrooms  SqFtFinBasement  Bathrooms  NewConstruction\n1         9373         6                0       3.00            False\n2        20156         4             1452       3.75             True\n3        26036         4              900       1.75            False\n4         8618         5             1640       3.75            False\n5         8620         4                0       1.75            False\n...        ...       ...              ...        ...              ...\n27057     5468         3              590       1.75            False\n27058    23914         4              910       4.50            False\n27061    11170         4                0       1.00            False\n27062     6223         3                0       2.00            False\n27063     4400         3                0       1.50            False\n\n[22687 rows x 5 columns]",
      "text/html": "<div>\n<style scoped>\n    .dataframe tbody tr th:only-of-type {\n        vertical-align: middle;\n    }\n\n    .dataframe tbody tr th {\n        vertical-align: top;\n    }\n\n    .dataframe thead th {\n        text-align: right;\n    }\n</style>\n<table border=\"1\" class=\"dataframe\">\n  <thead>\n    <tr style=\"text-align: right;\">\n      <th></th>\n      <th>SqFtLot</th>\n      <th>Bedrooms</th>\n      <th>SqFtFinBasement</th>\n      <th>Bathrooms</th>\n      <th>NewConstruction</th>\n    </tr>\n  </thead>\n  <tbody>\n    <tr>\n      <th>1</th>\n      <td>9373</td>\n      <td>6</td>\n      <td>0</td>\n      <td>3.00</td>\n      <td>False</td>\n    </tr>\n    <tr>\n      <th>2</th>\n      <td>20156</td>\n      <td>4</td>\n      <td>1452</td>\n      <td>3.75</td>\n      <td>True</td>\n    </tr>\n    <tr>\n      <th>3</th>\n      <td>26036</td>\n      <td>4</td>\n      <td>900</td>\n      <td>1.75</td>\n      <td>False</td>\n    </tr>\n    <tr>\n      <th>4</th>\n      <td>8618</td>\n      <td>5</td>\n      <td>1640</td>\n      <td>3.75</td>\n      <td>False</td>\n    </tr>\n    <tr>\n      <th>5</th>\n      <td>8620</td>\n      <td>4</td>\n      <td>0</td>\n      <td>1.75</td>\n      <td>False</td>\n    </tr>\n    <tr>\n      <th>...</th>\n      <td>...</td>\n      <td>...</td>\n      <td>...</td>\n      <td>...</td>\n      <td>...</td>\n    </tr>\n    <tr>\n      <th>27057</th>\n      <td>5468</td>\n      <td>3</td>\n      <td>590</td>\n      <td>1.75</td>\n      <td>False</td>\n    </tr>\n    <tr>\n      <th>27058</th>\n      <td>23914</td>\n      <td>4</td>\n      <td>910</td>\n      <td>4.50</td>\n      <td>False</td>\n    </tr>\n    <tr>\n      <th>27061</th>\n      <td>11170</td>\n      <td>4</td>\n      <td>0</td>\n      <td>1.00</td>\n      <td>False</td>\n    </tr>\n    <tr>\n      <th>27062</th>\n      <td>6223</td>\n      <td>3</td>\n      <td>0</td>\n      <td>2.00</td>\n      <td>False</td>\n    </tr>\n    <tr>\n      <th>27063</th>\n      <td>4400</td>\n      <td>3</td>\n      <td>0</td>\n      <td>1.50</td>\n      <td>False</td>\n    </tr>\n  </tbody>\n</table>\n<p>22687 rows × 5 columns</p>\n</div>"
     },
     "execution_count": 13,
     "metadata": {},
     "output_type": "execute_result"
    }
   ],
   "source": [
    "csv[predictors]"
   ],
   "metadata": {
    "collapsed": false,
    "pycharm": {
     "name": "#%%\n"
    }
   }
  },
  {
   "cell_type": "code",
   "execution_count": 14,
   "outputs": [
    {
     "data": {
      "text/plain": "       SqFtLot  Bedrooms  SqFtFinBasement  Bathrooms  NewConstruction\n1         9373         6                0       3.00            False\n2        20156         4             1452       3.75             True\n3        26036         4              900       1.75            False\n4         8618         5             1640       3.75            False\n5         8620         4                0       1.75            False\n...        ...       ...              ...        ...              ...\n27057     5468         3              590       1.75            False\n27058    23914         4              910       4.50            False\n27061    11170         4                0       1.00            False\n27062     6223         3                0       2.00            False\n27063     4400         3                0       1.50            False\n\n[22687 rows x 5 columns]",
      "text/html": "<div>\n<style scoped>\n    .dataframe tbody tr th:only-of-type {\n        vertical-align: middle;\n    }\n\n    .dataframe tbody tr th {\n        vertical-align: top;\n    }\n\n    .dataframe thead th {\n        text-align: right;\n    }\n</style>\n<table border=\"1\" class=\"dataframe\">\n  <thead>\n    <tr style=\"text-align: right;\">\n      <th></th>\n      <th>SqFtLot</th>\n      <th>Bedrooms</th>\n      <th>SqFtFinBasement</th>\n      <th>Bathrooms</th>\n      <th>NewConstruction</th>\n    </tr>\n  </thead>\n  <tbody>\n    <tr>\n      <th>1</th>\n      <td>9373</td>\n      <td>6</td>\n      <td>0</td>\n      <td>3.00</td>\n      <td>False</td>\n    </tr>\n    <tr>\n      <th>2</th>\n      <td>20156</td>\n      <td>4</td>\n      <td>1452</td>\n      <td>3.75</td>\n      <td>True</td>\n    </tr>\n    <tr>\n      <th>3</th>\n      <td>26036</td>\n      <td>4</td>\n      <td>900</td>\n      <td>1.75</td>\n      <td>False</td>\n    </tr>\n    <tr>\n      <th>4</th>\n      <td>8618</td>\n      <td>5</td>\n      <td>1640</td>\n      <td>3.75</td>\n      <td>False</td>\n    </tr>\n    <tr>\n      <th>5</th>\n      <td>8620</td>\n      <td>4</td>\n      <td>0</td>\n      <td>1.75</td>\n      <td>False</td>\n    </tr>\n    <tr>\n      <th>...</th>\n      <td>...</td>\n      <td>...</td>\n      <td>...</td>\n      <td>...</td>\n      <td>...</td>\n    </tr>\n    <tr>\n      <th>27057</th>\n      <td>5468</td>\n      <td>3</td>\n      <td>590</td>\n      <td>1.75</td>\n      <td>False</td>\n    </tr>\n    <tr>\n      <th>27058</th>\n      <td>23914</td>\n      <td>4</td>\n      <td>910</td>\n      <td>4.50</td>\n      <td>False</td>\n    </tr>\n    <tr>\n      <th>27061</th>\n      <td>11170</td>\n      <td>4</td>\n      <td>0</td>\n      <td>1.00</td>\n      <td>False</td>\n    </tr>\n    <tr>\n      <th>27062</th>\n      <td>6223</td>\n      <td>3</td>\n      <td>0</td>\n      <td>2.00</td>\n      <td>False</td>\n    </tr>\n    <tr>\n      <th>27063</th>\n      <td>4400</td>\n      <td>3</td>\n      <td>0</td>\n      <td>1.50</td>\n      <td>False</td>\n    </tr>\n  </tbody>\n</table>\n<p>22687 rows × 5 columns</p>\n</div>"
     },
     "execution_count": 14,
     "metadata": {},
     "output_type": "execute_result"
    }
   ],
   "source": [
    "data = pd.get_dummies(csv[predictors],drop_first=True)\n",
    "data"
   ],
   "metadata": {
    "collapsed": false,
    "pycharm": {
     "name": "#%%\n"
    }
   }
  },
  {
   "cell_type": "code",
   "execution_count": 27,
   "outputs": [
    {
     "name": "stderr",
     "output_type": "stream",
     "text": [
      "/var/folders/64/58xw9w1s67b6hb_zqj11t8480000gn/T/ipykernel_982/1788881200.py:1: SettingWithCopyWarning: \n",
      "A value is trying to be set on a copy of a slice from a DataFrame.\n",
      "Try using .loc[row_indexer,col_indexer] = value instead\n",
      "\n",
      "See the caveats in the documentation: https://pandas.pydata.org/pandas-docs/stable/user_guide/indexing.html#returning-a-view-versus-a-copy\n",
      "  data['NewConstruction'] = [1 if d else 0 for d in data['NewConstruction']]\n"
     ]
    },
    {
     "data": {
      "text/plain": "       PropertyID  zhvi_px  zhvi_idx  AdjSalePrice  NbrLivingUnits  SqFtLot  \\\n1         1000102   405100  0.930836      300805.0               2     9373   \n2         1200013   404400  0.929228     1076162.0               1    20156   \n3         1200019   425600  0.977941      761805.0               1    26036   \n4         2800016   418400  0.961397      442065.0               1     8618   \n5         2800024   351600  0.807904      297065.0               1     8620   \n...           ...      ...       ...           ...             ...      ...   \n27057  9842300710   318700  0.732307      443803.0               1     5468   \n27058  9845500010   433500  0.996094     1586196.0               1    23914   \n27061  9899200010   325300  0.747472      220744.0               1    11170   \n27062  9900000355   400600  0.920496      342207.0               1     6223   \n27063  9906000035   425600  0.977941      475489.0               1     4400   \n\n       SqFtTotLiving  SqFtFinBasement  Bathrooms  Bedrooms  BldgGrade  \\\n1               2400                0       3.00         6          7   \n2               3764             1452       3.75         4         10   \n3               2060              900       1.75         4          8   \n4               3200             1640       3.75         5          7   \n5               1720                0       1.75         4          7   \n...              ...              ...        ...       ...        ...   \n27057           1480              590       1.75         3          7   \n27058           4720              910       4.50         4         11   \n27061           1070                0       1.00         4          6   \n27062           1345                0       2.00         3          7   \n27063            790                0       1.50         3          7   \n\n       YrRenovated  TrafficNoise  LandVal  ImpsVal  ZipCode  NewConstruction  \n1                0             0    70000   229000    98002                0  \n2                0             0   203000   590000    98166                1  \n3                0             0   183000   275000    98166                0  \n4                0             0   104000   229000    98168                0  \n5                0             0   104000   205000    98168                0  \n...            ...           ...      ...      ...      ...              ...  \n27057            0             0   201000   172000    98126                0  \n27058            0             1   703000   951000    98040                0  \n27061            0             0    92000   130000    98055                0  \n27062            0             0   103000   212000    98166                0  \n27063            0             0   311000   268000    98103                0  \n\n[22687 rows x 17 columns]",
      "text/html": "<div>\n<style scoped>\n    .dataframe tbody tr th:only-of-type {\n        vertical-align: middle;\n    }\n\n    .dataframe tbody tr th {\n        vertical-align: top;\n    }\n\n    .dataframe thead th {\n        text-align: right;\n    }\n</style>\n<table border=\"1\" class=\"dataframe\">\n  <thead>\n    <tr style=\"text-align: right;\">\n      <th></th>\n      <th>PropertyID</th>\n      <th>zhvi_px</th>\n      <th>zhvi_idx</th>\n      <th>AdjSalePrice</th>\n      <th>NbrLivingUnits</th>\n      <th>SqFtLot</th>\n      <th>SqFtTotLiving</th>\n      <th>SqFtFinBasement</th>\n      <th>Bathrooms</th>\n      <th>Bedrooms</th>\n      <th>BldgGrade</th>\n      <th>YrRenovated</th>\n      <th>TrafficNoise</th>\n      <th>LandVal</th>\n      <th>ImpsVal</th>\n      <th>ZipCode</th>\n      <th>NewConstruction</th>\n    </tr>\n  </thead>\n  <tbody>\n    <tr>\n      <th>1</th>\n      <td>1000102</td>\n      <td>405100</td>\n      <td>0.930836</td>\n      <td>300805.0</td>\n      <td>2</td>\n      <td>9373</td>\n      <td>2400</td>\n      <td>0</td>\n      <td>3.00</td>\n      <td>6</td>\n      <td>7</td>\n      <td>0</td>\n      <td>0</td>\n      <td>70000</td>\n      <td>229000</td>\n      <td>98002</td>\n      <td>0</td>\n    </tr>\n    <tr>\n      <th>2</th>\n      <td>1200013</td>\n      <td>404400</td>\n      <td>0.929228</td>\n      <td>1076162.0</td>\n      <td>1</td>\n      <td>20156</td>\n      <td>3764</td>\n      <td>1452</td>\n      <td>3.75</td>\n      <td>4</td>\n      <td>10</td>\n      <td>0</td>\n      <td>0</td>\n      <td>203000</td>\n      <td>590000</td>\n      <td>98166</td>\n      <td>1</td>\n    </tr>\n    <tr>\n      <th>3</th>\n      <td>1200019</td>\n      <td>425600</td>\n      <td>0.977941</td>\n      <td>761805.0</td>\n      <td>1</td>\n      <td>26036</td>\n      <td>2060</td>\n      <td>900</td>\n      <td>1.75</td>\n      <td>4</td>\n      <td>8</td>\n      <td>0</td>\n      <td>0</td>\n      <td>183000</td>\n      <td>275000</td>\n      <td>98166</td>\n      <td>0</td>\n    </tr>\n    <tr>\n      <th>4</th>\n      <td>2800016</td>\n      <td>418400</td>\n      <td>0.961397</td>\n      <td>442065.0</td>\n      <td>1</td>\n      <td>8618</td>\n      <td>3200</td>\n      <td>1640</td>\n      <td>3.75</td>\n      <td>5</td>\n      <td>7</td>\n      <td>0</td>\n      <td>0</td>\n      <td>104000</td>\n      <td>229000</td>\n      <td>98168</td>\n      <td>0</td>\n    </tr>\n    <tr>\n      <th>5</th>\n      <td>2800024</td>\n      <td>351600</td>\n      <td>0.807904</td>\n      <td>297065.0</td>\n      <td>1</td>\n      <td>8620</td>\n      <td>1720</td>\n      <td>0</td>\n      <td>1.75</td>\n      <td>4</td>\n      <td>7</td>\n      <td>0</td>\n      <td>0</td>\n      <td>104000</td>\n      <td>205000</td>\n      <td>98168</td>\n      <td>0</td>\n    </tr>\n    <tr>\n      <th>...</th>\n      <td>...</td>\n      <td>...</td>\n      <td>...</td>\n      <td>...</td>\n      <td>...</td>\n      <td>...</td>\n      <td>...</td>\n      <td>...</td>\n      <td>...</td>\n      <td>...</td>\n      <td>...</td>\n      <td>...</td>\n      <td>...</td>\n      <td>...</td>\n      <td>...</td>\n      <td>...</td>\n      <td>...</td>\n    </tr>\n    <tr>\n      <th>27057</th>\n      <td>9842300710</td>\n      <td>318700</td>\n      <td>0.732307</td>\n      <td>443803.0</td>\n      <td>1</td>\n      <td>5468</td>\n      <td>1480</td>\n      <td>590</td>\n      <td>1.75</td>\n      <td>3</td>\n      <td>7</td>\n      <td>0</td>\n      <td>0</td>\n      <td>201000</td>\n      <td>172000</td>\n      <td>98126</td>\n      <td>0</td>\n    </tr>\n    <tr>\n      <th>27058</th>\n      <td>9845500010</td>\n      <td>433500</td>\n      <td>0.996094</td>\n      <td>1586196.0</td>\n      <td>1</td>\n      <td>23914</td>\n      <td>4720</td>\n      <td>910</td>\n      <td>4.50</td>\n      <td>4</td>\n      <td>11</td>\n      <td>0</td>\n      <td>1</td>\n      <td>703000</td>\n      <td>951000</td>\n      <td>98040</td>\n      <td>0</td>\n    </tr>\n    <tr>\n      <th>27061</th>\n      <td>9899200010</td>\n      <td>325300</td>\n      <td>0.747472</td>\n      <td>220744.0</td>\n      <td>1</td>\n      <td>11170</td>\n      <td>1070</td>\n      <td>0</td>\n      <td>1.00</td>\n      <td>4</td>\n      <td>6</td>\n      <td>0</td>\n      <td>0</td>\n      <td>92000</td>\n      <td>130000</td>\n      <td>98055</td>\n      <td>0</td>\n    </tr>\n    <tr>\n      <th>27062</th>\n      <td>9900000355</td>\n      <td>400600</td>\n      <td>0.920496</td>\n      <td>342207.0</td>\n      <td>1</td>\n      <td>6223</td>\n      <td>1345</td>\n      <td>0</td>\n      <td>2.00</td>\n      <td>3</td>\n      <td>7</td>\n      <td>0</td>\n      <td>0</td>\n      <td>103000</td>\n      <td>212000</td>\n      <td>98166</td>\n      <td>0</td>\n    </tr>\n    <tr>\n      <th>27063</th>\n      <td>9906000035</td>\n      <td>425600</td>\n      <td>0.977941</td>\n      <td>475489.0</td>\n      <td>1</td>\n      <td>4400</td>\n      <td>790</td>\n      <td>0</td>\n      <td>1.50</td>\n      <td>3</td>\n      <td>7</td>\n      <td>0</td>\n      <td>0</td>\n      <td>311000</td>\n      <td>268000</td>\n      <td>98103</td>\n      <td>0</td>\n    </tr>\n  </tbody>\n</table>\n<p>22687 rows × 17 columns</p>\n</div>"
     },
     "execution_count": 27,
     "metadata": {},
     "output_type": "execute_result"
    }
   ],
   "source": [
    "data['NewConstruction'] = [1 if d else 0 for d in data['NewConstruction']]\n",
    "data"
   ],
   "metadata": {
    "collapsed": false,
    "pycharm": {
     "name": "#%%\n"
    }
   }
  },
  {
   "cell_type": "code",
   "execution_count": 15,
   "outputs": [],
   "source": [],
   "metadata": {
    "collapsed": false,
    "pycharm": {
     "name": "#%%\n"
    }
   }
  },
  {
   "cell_type": "code",
   "execution_count": 28,
   "outputs": [
    {
     "data": {
      "text/plain": "<class 'statsmodels.iolib.summary.Summary'>\n\"\"\"\n                            OLS Regression Results                            \n==============================================================================\nDep. Variable:           AdjSalePrice   R-squared:                       1.000\nModel:                            OLS   Adj. R-squared:                  1.000\nMethod:                 Least Squares   F-statistic:                 3.833e+28\nDate:                Thu, 05 May 2022   Prob (F-statistic):               0.00\nTime:                        18:32:06   Log-Likelihood:             3.4028e+05\nNo. Observations:               22687   AIC:                        -6.805e+05\nDf Residuals:                   22670   BIC:                        -6.804e+05\nDf Model:                          16                                         \nCovariance Type:            nonrobust                                         \n===================================================================================\n                      coef    std err          t      P>|t|      [0.025      0.975]\n-----------------------------------------------------------------------------------\nPropertyID      -2.925e-20   1.73e-19     -0.169      0.865   -3.68e-19    3.09e-19\nzhvi_px         -8.132e-17   1.36e-14     -0.006      0.995   -2.67e-14    2.66e-14\nzhvi_idx         2.486e-18   4.84e-17      0.051      0.959   -9.24e-17    9.74e-17\nAdjSalePrice        1.0000   3.56e-15   2.81e+14      0.000       1.000       1.000\nNbrLivingUnits   5.325e-11    3.2e-09      0.017      0.987   -6.22e-09    6.33e-09\nSqFtLot          2.138e-16   1.77e-14      0.012      0.990   -3.46e-14     3.5e-14\nSqFtTotLiving   -4.891e-14   1.31e-12     -0.037      0.970   -2.61e-12    2.51e-12\nSqFtFinBasement  4.698e-14   1.37e-12      0.034      0.973   -2.63e-12    2.72e-12\nBathrooms        2.098e-11   1.06e-09      0.020      0.984   -2.07e-09    2.11e-09\nBedrooms         2.032e-12   7.26e-10      0.003      0.998   -1.42e-09    1.43e-09\nBldgGrade        8.285e-12   7.76e-10      0.011      0.991   -1.51e-09    1.53e-09\nYrRenovated      1.218e-14   1.14e-12      0.011      0.991   -2.23e-12    2.25e-12\nTrafficNoise    -4.064e-12      9e-10     -0.005      0.996   -1.77e-09    1.76e-09\nLandVal          1.678e-16   5.08e-15      0.033      0.974    -9.8e-15    1.01e-14\nImpsVal          2.045e-16   4.93e-15      0.042      0.967   -9.45e-15    9.86e-15\nZipCode         -5.791e-13   1.03e-11     -0.056      0.955   -2.09e-11    1.97e-11\nNewConstruction  3.951e-11   1.71e-09      0.023      0.982    -3.3e-09    3.38e-09\nconst           -1.732e-08   1.02e-06     -0.017      0.986   -2.01e-06    1.97e-06\n==============================================================================\nOmnibus:                     6586.968   Durbin-Watson:                   0.000\nProb(Omnibus):                  0.000   Jarque-Bera (JB):            24952.166\nSkew:                          -1.416   Prob(JB):                         0.00\nKurtosis:                       7.286   Cond. No.                     1.18e+21\n==============================================================================\n\nNotes:\n[1] Standard Errors assume that the covariance matrix of the errors is correctly specified.\n[2] The smallest eigenvalue is 4.87e-19. This might indicate that there are\nstrong multicollinearity problems or that the design matrix is singular.\n\"\"\"",
      "text/html": "<table class=\"simpletable\">\n<caption>OLS Regression Results</caption>\n<tr>\n  <th>Dep. Variable:</th>      <td>AdjSalePrice</td>   <th>  R-squared:         </th>  <td>   1.000</td> \n</tr>\n<tr>\n  <th>Model:</th>                   <td>OLS</td>       <th>  Adj. R-squared:    </th>  <td>   1.000</td> \n</tr>\n<tr>\n  <th>Method:</th>             <td>Least Squares</td>  <th>  F-statistic:       </th>  <td>3.833e+28</td>\n</tr>\n<tr>\n  <th>Date:</th>             <td>Thu, 05 May 2022</td> <th>  Prob (F-statistic):</th>   <td>  0.00</td>  \n</tr>\n<tr>\n  <th>Time:</th>                 <td>18:32:06</td>     <th>  Log-Likelihood:    </th> <td>3.4028e+05</td>\n</tr>\n<tr>\n  <th>No. Observations:</th>      <td> 22687</td>      <th>  AIC:               </th> <td>-6.805e+05</td>\n</tr>\n<tr>\n  <th>Df Residuals:</th>          <td> 22670</td>      <th>  BIC:               </th> <td>-6.804e+05</td>\n</tr>\n<tr>\n  <th>Df Model:</th>              <td>    16</td>      <th>                     </th>      <td> </td>    \n</tr>\n<tr>\n  <th>Covariance Type:</th>      <td>nonrobust</td>    <th>                     </th>      <td> </td>    \n</tr>\n</table>\n<table class=\"simpletable\">\n<tr>\n         <td></td>            <th>coef</th>     <th>std err</th>      <th>t</th>      <th>P>|t|</th>  <th>[0.025</th>    <th>0.975]</th>  \n</tr>\n<tr>\n  <th>PropertyID</th>      <td>-2.925e-20</td> <td> 1.73e-19</td> <td>   -0.169</td> <td> 0.865</td> <td>-3.68e-19</td> <td> 3.09e-19</td>\n</tr>\n<tr>\n  <th>zhvi_px</th>         <td>-8.132e-17</td> <td> 1.36e-14</td> <td>   -0.006</td> <td> 0.995</td> <td>-2.67e-14</td> <td> 2.66e-14</td>\n</tr>\n<tr>\n  <th>zhvi_idx</th>        <td> 2.486e-18</td> <td> 4.84e-17</td> <td>    0.051</td> <td> 0.959</td> <td>-9.24e-17</td> <td> 9.74e-17</td>\n</tr>\n<tr>\n  <th>AdjSalePrice</th>    <td>    1.0000</td> <td> 3.56e-15</td> <td> 2.81e+14</td> <td> 0.000</td> <td>    1.000</td> <td>    1.000</td>\n</tr>\n<tr>\n  <th>NbrLivingUnits</th>  <td> 5.325e-11</td> <td>  3.2e-09</td> <td>    0.017</td> <td> 0.987</td> <td>-6.22e-09</td> <td> 6.33e-09</td>\n</tr>\n<tr>\n  <th>SqFtLot</th>         <td> 2.138e-16</td> <td> 1.77e-14</td> <td>    0.012</td> <td> 0.990</td> <td>-3.46e-14</td> <td>  3.5e-14</td>\n</tr>\n<tr>\n  <th>SqFtTotLiving</th>   <td>-4.891e-14</td> <td> 1.31e-12</td> <td>   -0.037</td> <td> 0.970</td> <td>-2.61e-12</td> <td> 2.51e-12</td>\n</tr>\n<tr>\n  <th>SqFtFinBasement</th> <td> 4.698e-14</td> <td> 1.37e-12</td> <td>    0.034</td> <td> 0.973</td> <td>-2.63e-12</td> <td> 2.72e-12</td>\n</tr>\n<tr>\n  <th>Bathrooms</th>       <td> 2.098e-11</td> <td> 1.06e-09</td> <td>    0.020</td> <td> 0.984</td> <td>-2.07e-09</td> <td> 2.11e-09</td>\n</tr>\n<tr>\n  <th>Bedrooms</th>        <td> 2.032e-12</td> <td> 7.26e-10</td> <td>    0.003</td> <td> 0.998</td> <td>-1.42e-09</td> <td> 1.43e-09</td>\n</tr>\n<tr>\n  <th>BldgGrade</th>       <td> 8.285e-12</td> <td> 7.76e-10</td> <td>    0.011</td> <td> 0.991</td> <td>-1.51e-09</td> <td> 1.53e-09</td>\n</tr>\n<tr>\n  <th>YrRenovated</th>     <td> 1.218e-14</td> <td> 1.14e-12</td> <td>    0.011</td> <td> 0.991</td> <td>-2.23e-12</td> <td> 2.25e-12</td>\n</tr>\n<tr>\n  <th>TrafficNoise</th>    <td>-4.064e-12</td> <td>    9e-10</td> <td>   -0.005</td> <td> 0.996</td> <td>-1.77e-09</td> <td> 1.76e-09</td>\n</tr>\n<tr>\n  <th>LandVal</th>         <td> 1.678e-16</td> <td> 5.08e-15</td> <td>    0.033</td> <td> 0.974</td> <td> -9.8e-15</td> <td> 1.01e-14</td>\n</tr>\n<tr>\n  <th>ImpsVal</th>         <td> 2.045e-16</td> <td> 4.93e-15</td> <td>    0.042</td> <td> 0.967</td> <td>-9.45e-15</td> <td> 9.86e-15</td>\n</tr>\n<tr>\n  <th>ZipCode</th>         <td>-5.791e-13</td> <td> 1.03e-11</td> <td>   -0.056</td> <td> 0.955</td> <td>-2.09e-11</td> <td> 1.97e-11</td>\n</tr>\n<tr>\n  <th>NewConstruction</th> <td> 3.951e-11</td> <td> 1.71e-09</td> <td>    0.023</td> <td> 0.982</td> <td> -3.3e-09</td> <td> 3.38e-09</td>\n</tr>\n<tr>\n  <th>const</th>           <td>-1.732e-08</td> <td> 1.02e-06</td> <td>   -0.017</td> <td> 0.986</td> <td>-2.01e-06</td> <td> 1.97e-06</td>\n</tr>\n</table>\n<table class=\"simpletable\">\n<tr>\n  <th>Omnibus:</th>       <td>6586.968</td> <th>  Durbin-Watson:     </th> <td>   0.000</td> \n</tr>\n<tr>\n  <th>Prob(Omnibus):</th>  <td> 0.000</td>  <th>  Jarque-Bera (JB):  </th> <td>24952.166</td>\n</tr>\n<tr>\n  <th>Skew:</th>           <td>-1.416</td>  <th>  Prob(JB):          </th> <td>    0.00</td> \n</tr>\n<tr>\n  <th>Kurtosis:</th>       <td> 7.286</td>  <th>  Cond. No.          </th> <td>1.18e+21</td> \n</tr>\n</table><br/><br/>Notes:<br/>[1] Standard Errors assume that the covariance matrix of the errors is correctly specified.<br/>[2] The smallest eigenvalue is 4.87e-19. This might indicate that there are<br/>strong multicollinearity problems or that the design matrix is singular."
     },
     "execution_count": 28,
     "metadata": {},
     "output_type": "execute_result"
    }
   ],
   "source": [
    "# Entrenamiento con los datos\n",
    "model = sm.OLS(csv[outcome],data.assign(const=1))\n",
    "results = model.fit()\n",
    "\n",
    "results.summary()"
   ],
   "metadata": {
    "collapsed": false,
    "pycharm": {
     "name": "#%%\n"
    }
   }
  },
  {
   "cell_type": "code",
   "execution_count": 19,
   "outputs": [
    {
     "name": "stdout",
     "output_type": "stream",
     "text": [
      "Variables: PropertyID, zhvi_px, zhvi_idx, AdjSalePrice, NbrLivingUnits, SqFtLot, SqFtTotLiving, SqFtFinBasement, Bathrooms, Bedrooms, BldgGrade, YrBuilt, YrRenovated, TrafficNoise, LandVal, ImpsVal, ZipCode, NewConstruction\n",
      "Start: score=-956257.48, constant\n",
      "Step: score=-992251.84, remove YrBuilt\n",
      "Step: score=-992251.84, unchanged None\n"
     ]
    },
    {
     "data": {
      "text/plain": "['PropertyID',\n 'zhvi_px',\n 'zhvi_idx',\n 'AdjSalePrice',\n 'NbrLivingUnits',\n 'SqFtLot',\n 'SqFtTotLiving',\n 'SqFtFinBasement',\n 'Bathrooms',\n 'Bedrooms',\n 'BldgGrade',\n 'YrRenovated',\n 'TrafficNoise',\n 'LandVal',\n 'ImpsVal',\n 'ZipCode',\n 'NewConstruction']"
     },
     "execution_count": 19,
     "metadata": {},
     "output_type": "execute_result"
    }
   ],
   "source": [
    "\n",
    "def train(variables):\n",
    "    if len(variables)==0:\n",
    "        return None\n",
    "    model = LinearRegression()\n",
    "    model.fit(csv[variables],csv[outcome])\n",
    "    return model\n",
    "\n",
    "def score_model(model,variables):\n",
    "    if len(variables)==0:\n",
    "        return None # Como obtener el AIC_score cuando no hay variables\n",
    "    return AIC_score(csv[outcome],model.predict(csv[variables]),model)\n",
    "\n",
    "model,variables = stepwise_selection(csv.columns,train_model=train,score_model=score_model,verbose=True,direction='backward')\n",
    "\n",
    "variables"
   ],
   "metadata": {
    "collapsed": false,
    "pycharm": {
     "name": "#%%\n"
    }
   }
  },
  {
   "cell_type": "code",
   "execution_count": 32,
   "outputs": [
    {
     "name": "stderr",
     "output_type": "stream",
     "text": [
      "/var/folders/64/58xw9w1s67b6hb_zqj11t8480000gn/T/ipykernel_982/1115457811.py:2: SettingWithCopyWarning: \n",
      "A value is trying to be set on a copy of a slice from a DataFrame.\n",
      "Try using .loc[row_indexer,col_indexer] = value instead\n",
      "\n",
      "See the caveats in the documentation: https://pandas.pydata.org/pandas-docs/stable/user_guide/indexing.html#returning-a-view-versus-a-copy\n",
      "  data2['NewConstruction'] = [1 if d else 0 for d in data2['NewConstruction']]\n"
     ]
    },
    {
     "data": {
      "text/plain": "<class 'statsmodels.iolib.summary.Summary'>\n\"\"\"\n                            OLS Regression Results                            \n==============================================================================\nDep. Variable:           AdjSalePrice   R-squared:                       1.000\nModel:                            OLS   Adj. R-squared:                  1.000\nMethod:                 Least Squares   F-statistic:                 3.833e+28\nDate:                Thu, 05 May 2022   Prob (F-statistic):               0.00\nTime:                        18:35:23   Log-Likelihood:             3.4028e+05\nNo. Observations:               22687   AIC:                        -6.805e+05\nDf Residuals:                   22670   BIC:                        -6.804e+05\nDf Model:                          16                                         \nCovariance Type:            nonrobust                                         \n===================================================================================\n                      coef    std err          t      P>|t|      [0.025      0.975]\n-----------------------------------------------------------------------------------\nPropertyID      -2.925e-20   1.73e-19     -0.169      0.865   -3.68e-19    3.09e-19\nzhvi_px         -8.132e-17   1.36e-14     -0.006      0.995   -2.67e-14    2.66e-14\nzhvi_idx         2.486e-18   4.84e-17      0.051      0.959   -9.24e-17    9.74e-17\nAdjSalePrice        1.0000   3.56e-15   2.81e+14      0.000       1.000       1.000\nNbrLivingUnits   5.325e-11    3.2e-09      0.017      0.987   -6.22e-09    6.33e-09\nSqFtLot          2.138e-16   1.77e-14      0.012      0.990   -3.46e-14     3.5e-14\nSqFtTotLiving   -4.891e-14   1.31e-12     -0.037      0.970   -2.61e-12    2.51e-12\nSqFtFinBasement  4.698e-14   1.37e-12      0.034      0.973   -2.63e-12    2.72e-12\nBathrooms        2.098e-11   1.06e-09      0.020      0.984   -2.07e-09    2.11e-09\nBedrooms         2.032e-12   7.26e-10      0.003      0.998   -1.42e-09    1.43e-09\nBldgGrade        8.285e-12   7.76e-10      0.011      0.991   -1.51e-09    1.53e-09\nYrRenovated      1.218e-14   1.14e-12      0.011      0.991   -2.23e-12    2.25e-12\nTrafficNoise    -4.064e-12      9e-10     -0.005      0.996   -1.77e-09    1.76e-09\nLandVal          1.678e-16   5.08e-15      0.033      0.974    -9.8e-15    1.01e-14\nImpsVal          2.045e-16   4.93e-15      0.042      0.967   -9.45e-15    9.86e-15\nZipCode         -5.791e-13   1.03e-11     -0.056      0.955   -2.09e-11    1.97e-11\nNewConstruction  3.951e-11   1.71e-09      0.023      0.982    -3.3e-09    3.38e-09\nconst           -1.732e-08   1.02e-06     -0.017      0.986   -2.01e-06    1.97e-06\n==============================================================================\nOmnibus:                     6586.968   Durbin-Watson:                   0.000\nProb(Omnibus):                  0.000   Jarque-Bera (JB):            24952.166\nSkew:                          -1.416   Prob(JB):                         0.00\nKurtosis:                       7.286   Cond. No.                     1.18e+21\n==============================================================================\n\nNotes:\n[1] Standard Errors assume that the covariance matrix of the errors is correctly specified.\n[2] The smallest eigenvalue is 4.87e-19. This might indicate that there are\nstrong multicollinearity problems or that the design matrix is singular.\n\"\"\"",
      "text/html": "<table class=\"simpletable\">\n<caption>OLS Regression Results</caption>\n<tr>\n  <th>Dep. Variable:</th>      <td>AdjSalePrice</td>   <th>  R-squared:         </th>  <td>   1.000</td> \n</tr>\n<tr>\n  <th>Model:</th>                   <td>OLS</td>       <th>  Adj. R-squared:    </th>  <td>   1.000</td> \n</tr>\n<tr>\n  <th>Method:</th>             <td>Least Squares</td>  <th>  F-statistic:       </th>  <td>3.833e+28</td>\n</tr>\n<tr>\n  <th>Date:</th>             <td>Thu, 05 May 2022</td> <th>  Prob (F-statistic):</th>   <td>  0.00</td>  \n</tr>\n<tr>\n  <th>Time:</th>                 <td>18:35:23</td>     <th>  Log-Likelihood:    </th> <td>3.4028e+05</td>\n</tr>\n<tr>\n  <th>No. Observations:</th>      <td> 22687</td>      <th>  AIC:               </th> <td>-6.805e+05</td>\n</tr>\n<tr>\n  <th>Df Residuals:</th>          <td> 22670</td>      <th>  BIC:               </th> <td>-6.804e+05</td>\n</tr>\n<tr>\n  <th>Df Model:</th>              <td>    16</td>      <th>                     </th>      <td> </td>    \n</tr>\n<tr>\n  <th>Covariance Type:</th>      <td>nonrobust</td>    <th>                     </th>      <td> </td>    \n</tr>\n</table>\n<table class=\"simpletable\">\n<tr>\n         <td></td>            <th>coef</th>     <th>std err</th>      <th>t</th>      <th>P>|t|</th>  <th>[0.025</th>    <th>0.975]</th>  \n</tr>\n<tr>\n  <th>PropertyID</th>      <td>-2.925e-20</td> <td> 1.73e-19</td> <td>   -0.169</td> <td> 0.865</td> <td>-3.68e-19</td> <td> 3.09e-19</td>\n</tr>\n<tr>\n  <th>zhvi_px</th>         <td>-8.132e-17</td> <td> 1.36e-14</td> <td>   -0.006</td> <td> 0.995</td> <td>-2.67e-14</td> <td> 2.66e-14</td>\n</tr>\n<tr>\n  <th>zhvi_idx</th>        <td> 2.486e-18</td> <td> 4.84e-17</td> <td>    0.051</td> <td> 0.959</td> <td>-9.24e-17</td> <td> 9.74e-17</td>\n</tr>\n<tr>\n  <th>AdjSalePrice</th>    <td>    1.0000</td> <td> 3.56e-15</td> <td> 2.81e+14</td> <td> 0.000</td> <td>    1.000</td> <td>    1.000</td>\n</tr>\n<tr>\n  <th>NbrLivingUnits</th>  <td> 5.325e-11</td> <td>  3.2e-09</td> <td>    0.017</td> <td> 0.987</td> <td>-6.22e-09</td> <td> 6.33e-09</td>\n</tr>\n<tr>\n  <th>SqFtLot</th>         <td> 2.138e-16</td> <td> 1.77e-14</td> <td>    0.012</td> <td> 0.990</td> <td>-3.46e-14</td> <td>  3.5e-14</td>\n</tr>\n<tr>\n  <th>SqFtTotLiving</th>   <td>-4.891e-14</td> <td> 1.31e-12</td> <td>   -0.037</td> <td> 0.970</td> <td>-2.61e-12</td> <td> 2.51e-12</td>\n</tr>\n<tr>\n  <th>SqFtFinBasement</th> <td> 4.698e-14</td> <td> 1.37e-12</td> <td>    0.034</td> <td> 0.973</td> <td>-2.63e-12</td> <td> 2.72e-12</td>\n</tr>\n<tr>\n  <th>Bathrooms</th>       <td> 2.098e-11</td> <td> 1.06e-09</td> <td>    0.020</td> <td> 0.984</td> <td>-2.07e-09</td> <td> 2.11e-09</td>\n</tr>\n<tr>\n  <th>Bedrooms</th>        <td> 2.032e-12</td> <td> 7.26e-10</td> <td>    0.003</td> <td> 0.998</td> <td>-1.42e-09</td> <td> 1.43e-09</td>\n</tr>\n<tr>\n  <th>BldgGrade</th>       <td> 8.285e-12</td> <td> 7.76e-10</td> <td>    0.011</td> <td> 0.991</td> <td>-1.51e-09</td> <td> 1.53e-09</td>\n</tr>\n<tr>\n  <th>YrRenovated</th>     <td> 1.218e-14</td> <td> 1.14e-12</td> <td>    0.011</td> <td> 0.991</td> <td>-2.23e-12</td> <td> 2.25e-12</td>\n</tr>\n<tr>\n  <th>TrafficNoise</th>    <td>-4.064e-12</td> <td>    9e-10</td> <td>   -0.005</td> <td> 0.996</td> <td>-1.77e-09</td> <td> 1.76e-09</td>\n</tr>\n<tr>\n  <th>LandVal</th>         <td> 1.678e-16</td> <td> 5.08e-15</td> <td>    0.033</td> <td> 0.974</td> <td> -9.8e-15</td> <td> 1.01e-14</td>\n</tr>\n<tr>\n  <th>ImpsVal</th>         <td> 2.045e-16</td> <td> 4.93e-15</td> <td>    0.042</td> <td> 0.967</td> <td>-9.45e-15</td> <td> 9.86e-15</td>\n</tr>\n<tr>\n  <th>ZipCode</th>         <td>-5.791e-13</td> <td> 1.03e-11</td> <td>   -0.056</td> <td> 0.955</td> <td>-2.09e-11</td> <td> 1.97e-11</td>\n</tr>\n<tr>\n  <th>NewConstruction</th> <td> 3.951e-11</td> <td> 1.71e-09</td> <td>    0.023</td> <td> 0.982</td> <td> -3.3e-09</td> <td> 3.38e-09</td>\n</tr>\n<tr>\n  <th>const</th>           <td>-1.732e-08</td> <td> 1.02e-06</td> <td>   -0.017</td> <td> 0.986</td> <td>-2.01e-06</td> <td> 1.97e-06</td>\n</tr>\n</table>\n<table class=\"simpletable\">\n<tr>\n  <th>Omnibus:</th>       <td>6586.968</td> <th>  Durbin-Watson:     </th> <td>   0.000</td> \n</tr>\n<tr>\n  <th>Prob(Omnibus):</th>  <td> 0.000</td>  <th>  Jarque-Bera (JB):  </th> <td>24952.166</td>\n</tr>\n<tr>\n  <th>Skew:</th>           <td>-1.416</td>  <th>  Prob(JB):          </th> <td>    0.00</td> \n</tr>\n<tr>\n  <th>Kurtosis:</th>       <td> 7.286</td>  <th>  Cond. No.          </th> <td>1.18e+21</td> \n</tr>\n</table><br/><br/>Notes:<br/>[1] Standard Errors assume that the covariance matrix of the errors is correctly specified.<br/>[2] The smallest eigenvalue is 4.87e-19. This might indicate that there are<br/>strong multicollinearity problems or that the design matrix is singular."
     },
     "execution_count": 32,
     "metadata": {},
     "output_type": "execute_result"
    }
   ],
   "source": [
    "data2 = csv[variables]\n",
    "data2['NewConstruction'] = [1 if d else 0 for d in data2['NewConstruction']]\n",
    "\n",
    "model = sm.OLS(csv[outcome],data2.assign(const=1))\n",
    "results = model.fit()\n",
    "\n",
    "results.summary()"
   ],
   "metadata": {
    "collapsed": false,
    "pycharm": {
     "name": "#%%\n"
    }
   }
  },
  {
   "cell_type": "code",
   "execution_count": null,
   "outputs": [],
   "source": [],
   "metadata": {
    "collapsed": false,
    "pycharm": {
     "name": "#%%\n"
    }
   }
  }
 ],
 "metadata": {
  "kernelspec": {
   "display_name": "Python 3",
   "language": "python",
   "name": "python3"
  },
  "language_info": {
   "codemirror_mode": {
    "name": "ipython",
    "version": 2
   },
   "file_extension": ".py",
   "mimetype": "text/x-python",
   "name": "python",
   "nbconvert_exporter": "python",
   "pygments_lexer": "ipython2",
   "version": "2.7.6"
  }
 },
 "nbformat": 4,
 "nbformat_minor": 0
}