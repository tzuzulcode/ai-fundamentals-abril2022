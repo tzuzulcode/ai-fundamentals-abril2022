{
 "cells": [
  {
   "cell_type": "markdown",
   "metadata": {
    "collapsed": true,
    "pycharm": {
     "name": "#%% md\n"
    }
   },
   "source": [
    "# Cross Validation\n",
    "\n",
    "1. Reservar 1/k de los datos como muestra reservada.\n",
    "2. Entrenar el modelo con los datos restantes\n",
    "3. Aplicar (puntuar) el modelo a la retención de 1/k y registrar las métricas de evaluación del modelo.\n",
    "4. Restaurar el primer 1/k de los datos y reservar el siguiente 1/k (excluyendo los registros que se seleccionaron la primera vez)\n",
    "5. Repetir los pasos 2 y 3\n",
    "6. Repetir hasta que cada registro se haya utilizado en la parte reservada\n",
    "7. Promediar o combinar las métricas de evaluación del modelo."
   ]
  },
  {
   "cell_type": "code",
   "execution_count": 31,
   "outputs": [],
   "source": [
    "# Reto: Seleccionar las caracteristicas que creen que son más importantes y hacer el proceso de regresión lineal y obtener métricas e interpretar."
   ],
   "metadata": {
    "collapsed": false,
    "pycharm": {
     "name": "#%%\n"
    }
   }
  },
  {
   "cell_type": "code",
   "execution_count": 32,
   "outputs": [],
   "source": [
    "import pandas as pd"
   ],
   "metadata": {
    "collapsed": false,
    "pycharm": {
     "name": "#%%\n"
    }
   }
  },
  {
   "cell_type": "code",
   "execution_count": 33,
   "outputs": [],
   "source": [
    "data = pd.read_csv(\"../Datasets/house_sales.csv\",delimiter=\"\\t\")"
   ],
   "metadata": {
    "collapsed": false,
    "pycharm": {
     "name": "#%%\n"
    }
   }
  },
  {
   "cell_type": "code",
   "execution_count": 34,
   "outputs": [],
   "source": [
    "predictors = ['SqFtLot','Bedrooms','SqFtFinBasement','Bathrooms','NewConstruction']\n",
    "outcome='AdjSalePrice'"
   ],
   "metadata": {
    "collapsed": false,
    "pycharm": {
     "name": "#%%\n"
    }
   }
  },
  {
   "cell_type": "code",
   "execution_count": 35,
   "outputs": [
    {
     "data": {
      "text/plain": "       SqFtLot  Bedrooms  SqFtFinBasement  Bathrooms  NewConstruction\n1         9373         6                0       3.00            False\n2        20156         4             1452       3.75             True\n3        26036         4              900       1.75            False\n4         8618         5             1640       3.75            False\n5         8620         4                0       1.75            False\n...        ...       ...              ...        ...              ...\n27057     5468         3              590       1.75            False\n27058    23914         4              910       4.50            False\n27061    11170         4                0       1.00            False\n27062     6223         3                0       2.00            False\n27063     4400         3                0       1.50            False\n\n[22687 rows x 5 columns]",
      "text/html": "<div>\n<style scoped>\n    .dataframe tbody tr th:only-of-type {\n        vertical-align: middle;\n    }\n\n    .dataframe tbody tr th {\n        vertical-align: top;\n    }\n\n    .dataframe thead th {\n        text-align: right;\n    }\n</style>\n<table border=\"1\" class=\"dataframe\">\n  <thead>\n    <tr style=\"text-align: right;\">\n      <th></th>\n      <th>SqFtLot</th>\n      <th>Bedrooms</th>\n      <th>SqFtFinBasement</th>\n      <th>Bathrooms</th>\n      <th>NewConstruction</th>\n    </tr>\n  </thead>\n  <tbody>\n    <tr>\n      <th>1</th>\n      <td>9373</td>\n      <td>6</td>\n      <td>0</td>\n      <td>3.00</td>\n      <td>False</td>\n    </tr>\n    <tr>\n      <th>2</th>\n      <td>20156</td>\n      <td>4</td>\n      <td>1452</td>\n      <td>3.75</td>\n      <td>True</td>\n    </tr>\n    <tr>\n      <th>3</th>\n      <td>26036</td>\n      <td>4</td>\n      <td>900</td>\n      <td>1.75</td>\n      <td>False</td>\n    </tr>\n    <tr>\n      <th>4</th>\n      <td>8618</td>\n      <td>5</td>\n      <td>1640</td>\n      <td>3.75</td>\n      <td>False</td>\n    </tr>\n    <tr>\n      <th>5</th>\n      <td>8620</td>\n      <td>4</td>\n      <td>0</td>\n      <td>1.75</td>\n      <td>False</td>\n    </tr>\n    <tr>\n      <th>...</th>\n      <td>...</td>\n      <td>...</td>\n      <td>...</td>\n      <td>...</td>\n      <td>...</td>\n    </tr>\n    <tr>\n      <th>27057</th>\n      <td>5468</td>\n      <td>3</td>\n      <td>590</td>\n      <td>1.75</td>\n      <td>False</td>\n    </tr>\n    <tr>\n      <th>27058</th>\n      <td>23914</td>\n      <td>4</td>\n      <td>910</td>\n      <td>4.50</td>\n      <td>False</td>\n    </tr>\n    <tr>\n      <th>27061</th>\n      <td>11170</td>\n      <td>4</td>\n      <td>0</td>\n      <td>1.00</td>\n      <td>False</td>\n    </tr>\n    <tr>\n      <th>27062</th>\n      <td>6223</td>\n      <td>3</td>\n      <td>0</td>\n      <td>2.00</td>\n      <td>False</td>\n    </tr>\n    <tr>\n      <th>27063</th>\n      <td>4400</td>\n      <td>3</td>\n      <td>0</td>\n      <td>1.50</td>\n      <td>False</td>\n    </tr>\n  </tbody>\n</table>\n<p>22687 rows × 5 columns</p>\n</div>"
     },
     "execution_count": 35,
     "metadata": {},
     "output_type": "execute_result"
    }
   ],
   "source": [
    "data[predictors]"
   ],
   "metadata": {
    "collapsed": false,
    "pycharm": {
     "name": "#%%\n"
    }
   }
  },
  {
   "cell_type": "code",
   "execution_count": 36,
   "outputs": [
    {
     "data": {
      "text/plain": "       SqFtLot  Bedrooms  SqFtFinBasement  Bathrooms  NewConstruction\n1         9373         6                0       3.00            False\n2        20156         4             1452       3.75             True\n3        26036         4              900       1.75            False\n4         8618         5             1640       3.75            False\n5         8620         4                0       1.75            False\n...        ...       ...              ...        ...              ...\n27057     5468         3              590       1.75            False\n27058    23914         4              910       4.50            False\n27061    11170         4                0       1.00            False\n27062     6223         3                0       2.00            False\n27063     4400         3                0       1.50            False\n\n[22687 rows x 5 columns]",
      "text/html": "<div>\n<style scoped>\n    .dataframe tbody tr th:only-of-type {\n        vertical-align: middle;\n    }\n\n    .dataframe tbody tr th {\n        vertical-align: top;\n    }\n\n    .dataframe thead th {\n        text-align: right;\n    }\n</style>\n<table border=\"1\" class=\"dataframe\">\n  <thead>\n    <tr style=\"text-align: right;\">\n      <th></th>\n      <th>SqFtLot</th>\n      <th>Bedrooms</th>\n      <th>SqFtFinBasement</th>\n      <th>Bathrooms</th>\n      <th>NewConstruction</th>\n    </tr>\n  </thead>\n  <tbody>\n    <tr>\n      <th>1</th>\n      <td>9373</td>\n      <td>6</td>\n      <td>0</td>\n      <td>3.00</td>\n      <td>False</td>\n    </tr>\n    <tr>\n      <th>2</th>\n      <td>20156</td>\n      <td>4</td>\n      <td>1452</td>\n      <td>3.75</td>\n      <td>True</td>\n    </tr>\n    <tr>\n      <th>3</th>\n      <td>26036</td>\n      <td>4</td>\n      <td>900</td>\n      <td>1.75</td>\n      <td>False</td>\n    </tr>\n    <tr>\n      <th>4</th>\n      <td>8618</td>\n      <td>5</td>\n      <td>1640</td>\n      <td>3.75</td>\n      <td>False</td>\n    </tr>\n    <tr>\n      <th>5</th>\n      <td>8620</td>\n      <td>4</td>\n      <td>0</td>\n      <td>1.75</td>\n      <td>False</td>\n    </tr>\n    <tr>\n      <th>...</th>\n      <td>...</td>\n      <td>...</td>\n      <td>...</td>\n      <td>...</td>\n      <td>...</td>\n    </tr>\n    <tr>\n      <th>27057</th>\n      <td>5468</td>\n      <td>3</td>\n      <td>590</td>\n      <td>1.75</td>\n      <td>False</td>\n    </tr>\n    <tr>\n      <th>27058</th>\n      <td>23914</td>\n      <td>4</td>\n      <td>910</td>\n      <td>4.50</td>\n      <td>False</td>\n    </tr>\n    <tr>\n      <th>27061</th>\n      <td>11170</td>\n      <td>4</td>\n      <td>0</td>\n      <td>1.00</td>\n      <td>False</td>\n    </tr>\n    <tr>\n      <th>27062</th>\n      <td>6223</td>\n      <td>3</td>\n      <td>0</td>\n      <td>2.00</td>\n      <td>False</td>\n    </tr>\n    <tr>\n      <th>27063</th>\n      <td>4400</td>\n      <td>3</td>\n      <td>0</td>\n      <td>1.50</td>\n      <td>False</td>\n    </tr>\n  </tbody>\n</table>\n<p>22687 rows × 5 columns</p>\n</div>"
     },
     "execution_count": 36,
     "metadata": {},
     "output_type": "execute_result"
    }
   ],
   "source": [
    "data = pd.get_dummies(data[predictors],drop_first=True)\n",
    "data"
   ],
   "metadata": {
    "collapsed": false,
    "pycharm": {
     "name": "#%%\n"
    }
   }
  },
  {
   "cell_type": "code",
   "execution_count": 37,
   "outputs": [
    {
     "data": {
      "text/plain": "       SqFtLot  Bedrooms  SqFtFinBasement  Bathrooms  NewConstruction\n1         9373         6                0       3.00                0\n2        20156         4             1452       3.75                1\n3        26036         4              900       1.75                0\n4         8618         5             1640       3.75                0\n5         8620         4                0       1.75                0\n...        ...       ...              ...        ...              ...\n27057     5468         3              590       1.75                0\n27058    23914         4              910       4.50                0\n27061    11170         4                0       1.00                0\n27062     6223         3                0       2.00                0\n27063     4400         3                0       1.50                0\n\n[22687 rows x 5 columns]",
      "text/html": "<div>\n<style scoped>\n    .dataframe tbody tr th:only-of-type {\n        vertical-align: middle;\n    }\n\n    .dataframe tbody tr th {\n        vertical-align: top;\n    }\n\n    .dataframe thead th {\n        text-align: right;\n    }\n</style>\n<table border=\"1\" class=\"dataframe\">\n  <thead>\n    <tr style=\"text-align: right;\">\n      <th></th>\n      <th>SqFtLot</th>\n      <th>Bedrooms</th>\n      <th>SqFtFinBasement</th>\n      <th>Bathrooms</th>\n      <th>NewConstruction</th>\n    </tr>\n  </thead>\n  <tbody>\n    <tr>\n      <th>1</th>\n      <td>9373</td>\n      <td>6</td>\n      <td>0</td>\n      <td>3.00</td>\n      <td>0</td>\n    </tr>\n    <tr>\n      <th>2</th>\n      <td>20156</td>\n      <td>4</td>\n      <td>1452</td>\n      <td>3.75</td>\n      <td>1</td>\n    </tr>\n    <tr>\n      <th>3</th>\n      <td>26036</td>\n      <td>4</td>\n      <td>900</td>\n      <td>1.75</td>\n      <td>0</td>\n    </tr>\n    <tr>\n      <th>4</th>\n      <td>8618</td>\n      <td>5</td>\n      <td>1640</td>\n      <td>3.75</td>\n      <td>0</td>\n    </tr>\n    <tr>\n      <th>5</th>\n      <td>8620</td>\n      <td>4</td>\n      <td>0</td>\n      <td>1.75</td>\n      <td>0</td>\n    </tr>\n    <tr>\n      <th>...</th>\n      <td>...</td>\n      <td>...</td>\n      <td>...</td>\n      <td>...</td>\n      <td>...</td>\n    </tr>\n    <tr>\n      <th>27057</th>\n      <td>5468</td>\n      <td>3</td>\n      <td>590</td>\n      <td>1.75</td>\n      <td>0</td>\n    </tr>\n    <tr>\n      <th>27058</th>\n      <td>23914</td>\n      <td>4</td>\n      <td>910</td>\n      <td>4.50</td>\n      <td>0</td>\n    </tr>\n    <tr>\n      <th>27061</th>\n      <td>11170</td>\n      <td>4</td>\n      <td>0</td>\n      <td>1.00</td>\n      <td>0</td>\n    </tr>\n    <tr>\n      <th>27062</th>\n      <td>6223</td>\n      <td>3</td>\n      <td>0</td>\n      <td>2.00</td>\n      <td>0</td>\n    </tr>\n    <tr>\n      <th>27063</th>\n      <td>4400</td>\n      <td>3</td>\n      <td>0</td>\n      <td>1.50</td>\n      <td>0</td>\n    </tr>\n  </tbody>\n</table>\n<p>22687 rows × 5 columns</p>\n</div>"
     },
     "execution_count": 37,
     "metadata": {},
     "output_type": "execute_result"
    }
   ],
   "source": [
    "data['NewConstruction'] = [1 if d else 0 for d in data['NewConstruction']]\n",
    "data"
   ],
   "metadata": {
    "collapsed": false,
    "pycharm": {
     "name": "#%%\n"
    }
   }
  },
  {
   "cell_type": "code",
   "execution_count": 38,
   "outputs": [
    {
     "data": {
      "text/plain": "       SqFtLot  Bedrooms  SqFtFinBasement  Bathrooms  NewConstruction\n2        20156         4             1452       3.75                1\n3        26036         4              900       1.75                0\n4         8618         5             1640       3.75                0\n8        14659         4              620       1.75                0\n12        5200         3              600       1.00                0\n...        ...       ...              ...        ...              ...\n27053     5019         4              790       1.50                0\n27054     6021         4              640       3.25                0\n27055     5150         2              800       1.00                0\n27057     5468         3              590       1.75                0\n27058    23914         4              910       4.50                0\n\n[8918 rows x 5 columns]",
      "text/html": "<div>\n<style scoped>\n    .dataframe tbody tr th:only-of-type {\n        vertical-align: middle;\n    }\n\n    .dataframe tbody tr th {\n        vertical-align: top;\n    }\n\n    .dataframe thead th {\n        text-align: right;\n    }\n</style>\n<table border=\"1\" class=\"dataframe\">\n  <thead>\n    <tr style=\"text-align: right;\">\n      <th></th>\n      <th>SqFtLot</th>\n      <th>Bedrooms</th>\n      <th>SqFtFinBasement</th>\n      <th>Bathrooms</th>\n      <th>NewConstruction</th>\n    </tr>\n  </thead>\n  <tbody>\n    <tr>\n      <th>2</th>\n      <td>20156</td>\n      <td>4</td>\n      <td>1452</td>\n      <td>3.75</td>\n      <td>1</td>\n    </tr>\n    <tr>\n      <th>3</th>\n      <td>26036</td>\n      <td>4</td>\n      <td>900</td>\n      <td>1.75</td>\n      <td>0</td>\n    </tr>\n    <tr>\n      <th>4</th>\n      <td>8618</td>\n      <td>5</td>\n      <td>1640</td>\n      <td>3.75</td>\n      <td>0</td>\n    </tr>\n    <tr>\n      <th>8</th>\n      <td>14659</td>\n      <td>4</td>\n      <td>620</td>\n      <td>1.75</td>\n      <td>0</td>\n    </tr>\n    <tr>\n      <th>12</th>\n      <td>5200</td>\n      <td>3</td>\n      <td>600</td>\n      <td>1.00</td>\n      <td>0</td>\n    </tr>\n    <tr>\n      <th>...</th>\n      <td>...</td>\n      <td>...</td>\n      <td>...</td>\n      <td>...</td>\n      <td>...</td>\n    </tr>\n    <tr>\n      <th>27053</th>\n      <td>5019</td>\n      <td>4</td>\n      <td>790</td>\n      <td>1.50</td>\n      <td>0</td>\n    </tr>\n    <tr>\n      <th>27054</th>\n      <td>6021</td>\n      <td>4</td>\n      <td>640</td>\n      <td>3.25</td>\n      <td>0</td>\n    </tr>\n    <tr>\n      <th>27055</th>\n      <td>5150</td>\n      <td>2</td>\n      <td>800</td>\n      <td>1.00</td>\n      <td>0</td>\n    </tr>\n    <tr>\n      <th>27057</th>\n      <td>5468</td>\n      <td>3</td>\n      <td>590</td>\n      <td>1.75</td>\n      <td>0</td>\n    </tr>\n    <tr>\n      <th>27058</th>\n      <td>23914</td>\n      <td>4</td>\n      <td>910</td>\n      <td>4.50</td>\n      <td>0</td>\n    </tr>\n  </tbody>\n</table>\n<p>8918 rows × 5 columns</p>\n</div>"
     },
     "execution_count": 38,
     "metadata": {},
     "output_type": "execute_result"
    }
   ],
   "source": [
    "data = data[data['SqFtFinBasement']>0]\n",
    "data"
   ],
   "metadata": {
    "collapsed": false,
    "pycharm": {
     "name": "#%%\n"
    }
   }
  },
  {
   "cell_type": "code",
   "execution_count": 37,
   "outputs": [],
   "source": [
    "# Entrenamiento con los datos"
   ],
   "metadata": {
    "collapsed": false,
    "pycharm": {
     "name": "#%%\n"
    }
   }
  }
 ],
 "metadata": {
  "kernelspec": {
   "display_name": "Python 3",
   "language": "python",
   "name": "python3"
  },
  "language_info": {
   "codemirror_mode": {
    "name": "ipython",
    "version": 2
   },
   "file_extension": ".py",
   "mimetype": "text/x-python",
   "name": "python",
   "nbconvert_exporter": "python",
   "pygments_lexer": "ipython2",
   "version": "2.7.6"
  }
 },
 "nbformat": 4,
 "nbformat_minor": 0
}