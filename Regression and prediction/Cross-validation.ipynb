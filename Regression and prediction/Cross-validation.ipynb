{
 "cells": [
  {
   "cell_type": "markdown",
   "metadata": {
    "collapsed": true,
    "pycharm": {
     "name": "#%% md\n"
    }
   },
   "source": [
    "# Cross Validation\n",
    "\n",
    "1. Reservar 1/k de los datos como muestra reservada.\n",
    "2. Entrenar el modelo con los datos restantes\n",
    "3. Aplicar (puntuar) el modelo a la retención de 1/k y registrar las métricas de evaluación del modelo.\n",
    "4. Restaurar el primer 1/k de los datos y reservar el siguiente 1/k (excluyendo los registros que se seleccionaron la primera vez)\n",
    "5. Repetir los pasos 2 y 3\n",
    "6. Repetir hasta que cada registro se haya utilizado en la parte reservada\n",
    "7. Promediar o combinar las métricas de evaluación del modelo."
   ]
  },
  {
   "cell_type": "code",
   "execution_count": 3,
   "outputs": [],
   "source": [
    "# Reto: Seleccionar las caracteristicas que creen que son más importantes y hacer el proceso de regresión lineal y obtener métricas e interpretar."
   ],
   "metadata": {
    "collapsed": false,
    "pycharm": {
     "name": "#%%\n"
    }
   }
  },
  {
   "cell_type": "code",
   "execution_count": 15,
   "outputs": [
    {
     "name": "stdout",
     "output_type": "stream",
     "text": [
      "no display found. Using non-interactive Agg backend\n"
     ]
    }
   ],
   "source": [
    "import pandas as pd\n",
    "import statsmodels.api as sm\n",
    "from sklearn.linear_model import LinearRegression\n",
    "\n",
    "from dmba.featureSelection import stepwise_selection\n",
    "\n",
    "from dmba.metric import AIC_score"
   ],
   "metadata": {
    "collapsed": false,
    "pycharm": {
     "name": "#%%\n"
    }
   }
  },
  {
   "cell_type": "code",
   "execution_count": 11,
   "outputs": [],
   "source": [
    "csv = pd.read_csv(\"../Datasets/house_sales.csv\",delimiter=\"\\t\")"
   ],
   "metadata": {
    "collapsed": false,
    "pycharm": {
     "name": "#%%\n"
    }
   }
  },
  {
   "cell_type": "code",
   "execution_count": 6,
   "outputs": [],
   "source": [
    "predictors = ['SqFtLot','Bedrooms','SqFtFinBasement','Bathrooms','NewConstruction']\n",
    "outcome='AdjSalePrice'"
   ],
   "metadata": {
    "collapsed": false,
    "pycharm": {
     "name": "#%%\n"
    }
   }
  },
  {
   "cell_type": "code",
   "execution_count": 7,
   "outputs": [
    {
     "data": {
      "text/plain": "       SqFtLot  Bedrooms  SqFtFinBasement  Bathrooms  NewConstruction\n1         9373         6                0       3.00            False\n2        20156         4             1452       3.75             True\n3        26036         4              900       1.75            False\n4         8618         5             1640       3.75            False\n5         8620         4                0       1.75            False\n...        ...       ...              ...        ...              ...\n27057     5468         3              590       1.75            False\n27058    23914         4              910       4.50            False\n27061    11170         4                0       1.00            False\n27062     6223         3                0       2.00            False\n27063     4400         3                0       1.50            False\n\n[22687 rows x 5 columns]",
      "text/html": "<div>\n<style scoped>\n    .dataframe tbody tr th:only-of-type {\n        vertical-align: middle;\n    }\n\n    .dataframe tbody tr th {\n        vertical-align: top;\n    }\n\n    .dataframe thead th {\n        text-align: right;\n    }\n</style>\n<table border=\"1\" class=\"dataframe\">\n  <thead>\n    <tr style=\"text-align: right;\">\n      <th></th>\n      <th>SqFtLot</th>\n      <th>Bedrooms</th>\n      <th>SqFtFinBasement</th>\n      <th>Bathrooms</th>\n      <th>NewConstruction</th>\n    </tr>\n  </thead>\n  <tbody>\n    <tr>\n      <th>1</th>\n      <td>9373</td>\n      <td>6</td>\n      <td>0</td>\n      <td>3.00</td>\n      <td>False</td>\n    </tr>\n    <tr>\n      <th>2</th>\n      <td>20156</td>\n      <td>4</td>\n      <td>1452</td>\n      <td>3.75</td>\n      <td>True</td>\n    </tr>\n    <tr>\n      <th>3</th>\n      <td>26036</td>\n      <td>4</td>\n      <td>900</td>\n      <td>1.75</td>\n      <td>False</td>\n    </tr>\n    <tr>\n      <th>4</th>\n      <td>8618</td>\n      <td>5</td>\n      <td>1640</td>\n      <td>3.75</td>\n      <td>False</td>\n    </tr>\n    <tr>\n      <th>5</th>\n      <td>8620</td>\n      <td>4</td>\n      <td>0</td>\n      <td>1.75</td>\n      <td>False</td>\n    </tr>\n    <tr>\n      <th>...</th>\n      <td>...</td>\n      <td>...</td>\n      <td>...</td>\n      <td>...</td>\n      <td>...</td>\n    </tr>\n    <tr>\n      <th>27057</th>\n      <td>5468</td>\n      <td>3</td>\n      <td>590</td>\n      <td>1.75</td>\n      <td>False</td>\n    </tr>\n    <tr>\n      <th>27058</th>\n      <td>23914</td>\n      <td>4</td>\n      <td>910</td>\n      <td>4.50</td>\n      <td>False</td>\n    </tr>\n    <tr>\n      <th>27061</th>\n      <td>11170</td>\n      <td>4</td>\n      <td>0</td>\n      <td>1.00</td>\n      <td>False</td>\n    </tr>\n    <tr>\n      <th>27062</th>\n      <td>6223</td>\n      <td>3</td>\n      <td>0</td>\n      <td>2.00</td>\n      <td>False</td>\n    </tr>\n    <tr>\n      <th>27063</th>\n      <td>4400</td>\n      <td>3</td>\n      <td>0</td>\n      <td>1.50</td>\n      <td>False</td>\n    </tr>\n  </tbody>\n</table>\n<p>22687 rows × 5 columns</p>\n</div>"
     },
     "execution_count": 7,
     "metadata": {},
     "output_type": "execute_result"
    }
   ],
   "source": [
    "data[predictors]"
   ],
   "metadata": {
    "collapsed": false,
    "pycharm": {
     "name": "#%%\n"
    }
   }
  },
  {
   "cell_type": "code",
   "execution_count": 8,
   "outputs": [
    {
     "data": {
      "text/plain": "       SqFtLot  Bedrooms  SqFtFinBasement  Bathrooms  NewConstruction\n1         9373         6                0       3.00            False\n2        20156         4             1452       3.75             True\n3        26036         4              900       1.75            False\n4         8618         5             1640       3.75            False\n5         8620         4                0       1.75            False\n...        ...       ...              ...        ...              ...\n27057     5468         3              590       1.75            False\n27058    23914         4              910       4.50            False\n27061    11170         4                0       1.00            False\n27062     6223         3                0       2.00            False\n27063     4400         3                0       1.50            False\n\n[22687 rows x 5 columns]",
      "text/html": "<div>\n<style scoped>\n    .dataframe tbody tr th:only-of-type {\n        vertical-align: middle;\n    }\n\n    .dataframe tbody tr th {\n        vertical-align: top;\n    }\n\n    .dataframe thead th {\n        text-align: right;\n    }\n</style>\n<table border=\"1\" class=\"dataframe\">\n  <thead>\n    <tr style=\"text-align: right;\">\n      <th></th>\n      <th>SqFtLot</th>\n      <th>Bedrooms</th>\n      <th>SqFtFinBasement</th>\n      <th>Bathrooms</th>\n      <th>NewConstruction</th>\n    </tr>\n  </thead>\n  <tbody>\n    <tr>\n      <th>1</th>\n      <td>9373</td>\n      <td>6</td>\n      <td>0</td>\n      <td>3.00</td>\n      <td>False</td>\n    </tr>\n    <tr>\n      <th>2</th>\n      <td>20156</td>\n      <td>4</td>\n      <td>1452</td>\n      <td>3.75</td>\n      <td>True</td>\n    </tr>\n    <tr>\n      <th>3</th>\n      <td>26036</td>\n      <td>4</td>\n      <td>900</td>\n      <td>1.75</td>\n      <td>False</td>\n    </tr>\n    <tr>\n      <th>4</th>\n      <td>8618</td>\n      <td>5</td>\n      <td>1640</td>\n      <td>3.75</td>\n      <td>False</td>\n    </tr>\n    <tr>\n      <th>5</th>\n      <td>8620</td>\n      <td>4</td>\n      <td>0</td>\n      <td>1.75</td>\n      <td>False</td>\n    </tr>\n    <tr>\n      <th>...</th>\n      <td>...</td>\n      <td>...</td>\n      <td>...</td>\n      <td>...</td>\n      <td>...</td>\n    </tr>\n    <tr>\n      <th>27057</th>\n      <td>5468</td>\n      <td>3</td>\n      <td>590</td>\n      <td>1.75</td>\n      <td>False</td>\n    </tr>\n    <tr>\n      <th>27058</th>\n      <td>23914</td>\n      <td>4</td>\n      <td>910</td>\n      <td>4.50</td>\n      <td>False</td>\n    </tr>\n    <tr>\n      <th>27061</th>\n      <td>11170</td>\n      <td>4</td>\n      <td>0</td>\n      <td>1.00</td>\n      <td>False</td>\n    </tr>\n    <tr>\n      <th>27062</th>\n      <td>6223</td>\n      <td>3</td>\n      <td>0</td>\n      <td>2.00</td>\n      <td>False</td>\n    </tr>\n    <tr>\n      <th>27063</th>\n      <td>4400</td>\n      <td>3</td>\n      <td>0</td>\n      <td>1.50</td>\n      <td>False</td>\n    </tr>\n  </tbody>\n</table>\n<p>22687 rows × 5 columns</p>\n</div>"
     },
     "execution_count": 8,
     "metadata": {},
     "output_type": "execute_result"
    }
   ],
   "source": [
    "data = pd.get_dummies(data[predictors],drop_first=True)\n",
    "data"
   ],
   "metadata": {
    "collapsed": false,
    "pycharm": {
     "name": "#%%\n"
    }
   }
  },
  {
   "cell_type": "code",
   "execution_count": 9,
   "outputs": [
    {
     "data": {
      "text/plain": "       SqFtLot  Bedrooms  SqFtFinBasement  Bathrooms  NewConstruction\n1         9373         6                0       3.00                0\n2        20156         4             1452       3.75                1\n3        26036         4              900       1.75                0\n4         8618         5             1640       3.75                0\n5         8620         4                0       1.75                0\n...        ...       ...              ...        ...              ...\n27057     5468         3              590       1.75                0\n27058    23914         4              910       4.50                0\n27061    11170         4                0       1.00                0\n27062     6223         3                0       2.00                0\n27063     4400         3                0       1.50                0\n\n[22687 rows x 5 columns]",
      "text/html": "<div>\n<style scoped>\n    .dataframe tbody tr th:only-of-type {\n        vertical-align: middle;\n    }\n\n    .dataframe tbody tr th {\n        vertical-align: top;\n    }\n\n    .dataframe thead th {\n        text-align: right;\n    }\n</style>\n<table border=\"1\" class=\"dataframe\">\n  <thead>\n    <tr style=\"text-align: right;\">\n      <th></th>\n      <th>SqFtLot</th>\n      <th>Bedrooms</th>\n      <th>SqFtFinBasement</th>\n      <th>Bathrooms</th>\n      <th>NewConstruction</th>\n    </tr>\n  </thead>\n  <tbody>\n    <tr>\n      <th>1</th>\n      <td>9373</td>\n      <td>6</td>\n      <td>0</td>\n      <td>3.00</td>\n      <td>0</td>\n    </tr>\n    <tr>\n      <th>2</th>\n      <td>20156</td>\n      <td>4</td>\n      <td>1452</td>\n      <td>3.75</td>\n      <td>1</td>\n    </tr>\n    <tr>\n      <th>3</th>\n      <td>26036</td>\n      <td>4</td>\n      <td>900</td>\n      <td>1.75</td>\n      <td>0</td>\n    </tr>\n    <tr>\n      <th>4</th>\n      <td>8618</td>\n      <td>5</td>\n      <td>1640</td>\n      <td>3.75</td>\n      <td>0</td>\n    </tr>\n    <tr>\n      <th>5</th>\n      <td>8620</td>\n      <td>4</td>\n      <td>0</td>\n      <td>1.75</td>\n      <td>0</td>\n    </tr>\n    <tr>\n      <th>...</th>\n      <td>...</td>\n      <td>...</td>\n      <td>...</td>\n      <td>...</td>\n      <td>...</td>\n    </tr>\n    <tr>\n      <th>27057</th>\n      <td>5468</td>\n      <td>3</td>\n      <td>590</td>\n      <td>1.75</td>\n      <td>0</td>\n    </tr>\n    <tr>\n      <th>27058</th>\n      <td>23914</td>\n      <td>4</td>\n      <td>910</td>\n      <td>4.50</td>\n      <td>0</td>\n    </tr>\n    <tr>\n      <th>27061</th>\n      <td>11170</td>\n      <td>4</td>\n      <td>0</td>\n      <td>1.00</td>\n      <td>0</td>\n    </tr>\n    <tr>\n      <th>27062</th>\n      <td>6223</td>\n      <td>3</td>\n      <td>0</td>\n      <td>2.00</td>\n      <td>0</td>\n    </tr>\n    <tr>\n      <th>27063</th>\n      <td>4400</td>\n      <td>3</td>\n      <td>0</td>\n      <td>1.50</td>\n      <td>0</td>\n    </tr>\n  </tbody>\n</table>\n<p>22687 rows × 5 columns</p>\n</div>"
     },
     "execution_count": 9,
     "metadata": {},
     "output_type": "execute_result"
    }
   ],
   "source": [
    "data['NewConstruction'] = [1 if d else 0 for d in data['NewConstruction']]\n",
    "data"
   ],
   "metadata": {
    "collapsed": false,
    "pycharm": {
     "name": "#%%\n"
    }
   }
  },
  {
   "cell_type": "code",
   "execution_count": 9,
   "outputs": [],
   "source": [],
   "metadata": {
    "collapsed": false,
    "pycharm": {
     "name": "#%%\n"
    }
   }
  },
  {
   "cell_type": "code",
   "execution_count": 12,
   "outputs": [
    {
     "data": {
      "text/plain": "<class 'statsmodels.iolib.summary.Summary'>\n\"\"\"\n                            OLS Regression Results                            \n==============================================================================\nDep. Variable:           AdjSalePrice   R-squared:                       0.313\nModel:                            OLS   Adj. R-squared:                  0.312\nMethod:                 Least Squares   F-statistic:                     2063.\nDate:                Wed, 04 May 2022   Prob (F-statistic):               0.00\nTime:                        18:22:17   Log-Likelihood:            -3.1974e+05\nNo. Observations:               22687   AIC:                         6.395e+05\nDf Residuals:                   22681   BIC:                         6.395e+05\nDf Model:                           5                                         \nCovariance Type:            nonrobust                                         \n===================================================================================\n                      coef    std err          t      P>|t|      [0.025      0.975]\n-----------------------------------------------------------------------------------\nSqFtLot             1.0293      0.074     13.936      0.000       0.885       1.174\nBedrooms        -1790.1275   2852.539     -0.628      0.530   -7381.299    3801.044\nSqFtFinBasement   140.5929      5.192     27.079      0.000     130.416     150.769\nBathrooms        2.436e+05   3428.979     71.047      0.000    2.37e+05     2.5e+05\nNewConstruction  -3.92e+04   7211.965     -5.435      0.000   -5.33e+04   -2.51e+04\nconst           -8159.1692   8558.826     -0.953      0.340   -2.49e+04    8616.717\n==============================================================================\nOmnibus:                    25897.944   Durbin-Watson:                   1.205\nProb(Omnibus):                  0.000   Jarque-Bera (JB):          7339792.177\nSkew:                           5.561   Prob(JB):                         0.00\nKurtosis:                      90.412   Cond. No.                     1.30e+05\n==============================================================================\n\nNotes:\n[1] Standard Errors assume that the covariance matrix of the errors is correctly specified.\n[2] The condition number is large, 1.3e+05. This might indicate that there are\nstrong multicollinearity or other numerical problems.\n\"\"\"",
      "text/html": "<table class=\"simpletable\">\n<caption>OLS Regression Results</caption>\n<tr>\n  <th>Dep. Variable:</th>      <td>AdjSalePrice</td>   <th>  R-squared:         </th>  <td>   0.313</td>  \n</tr>\n<tr>\n  <th>Model:</th>                   <td>OLS</td>       <th>  Adj. R-squared:    </th>  <td>   0.312</td>  \n</tr>\n<tr>\n  <th>Method:</th>             <td>Least Squares</td>  <th>  F-statistic:       </th>  <td>   2063.</td>  \n</tr>\n<tr>\n  <th>Date:</th>             <td>Wed, 04 May 2022</td> <th>  Prob (F-statistic):</th>   <td>  0.00</td>   \n</tr>\n<tr>\n  <th>Time:</th>                 <td>18:22:17</td>     <th>  Log-Likelihood:    </th> <td>-3.1974e+05</td>\n</tr>\n<tr>\n  <th>No. Observations:</th>      <td> 22687</td>      <th>  AIC:               </th>  <td>6.395e+05</td> \n</tr>\n<tr>\n  <th>Df Residuals:</th>          <td> 22681</td>      <th>  BIC:               </th>  <td>6.395e+05</td> \n</tr>\n<tr>\n  <th>Df Model:</th>              <td>     5</td>      <th>                     </th>      <td> </td>     \n</tr>\n<tr>\n  <th>Covariance Type:</th>      <td>nonrobust</td>    <th>                     </th>      <td> </td>     \n</tr>\n</table>\n<table class=\"simpletable\">\n<tr>\n         <td></td>            <th>coef</th>     <th>std err</th>      <th>t</th>      <th>P>|t|</th>  <th>[0.025</th>    <th>0.975]</th>  \n</tr>\n<tr>\n  <th>SqFtLot</th>         <td>    1.0293</td> <td>    0.074</td> <td>   13.936</td> <td> 0.000</td> <td>    0.885</td> <td>    1.174</td>\n</tr>\n<tr>\n  <th>Bedrooms</th>        <td>-1790.1275</td> <td> 2852.539</td> <td>   -0.628</td> <td> 0.530</td> <td>-7381.299</td> <td> 3801.044</td>\n</tr>\n<tr>\n  <th>SqFtFinBasement</th> <td>  140.5929</td> <td>    5.192</td> <td>   27.079</td> <td> 0.000</td> <td>  130.416</td> <td>  150.769</td>\n</tr>\n<tr>\n  <th>Bathrooms</th>       <td> 2.436e+05</td> <td> 3428.979</td> <td>   71.047</td> <td> 0.000</td> <td> 2.37e+05</td> <td>  2.5e+05</td>\n</tr>\n<tr>\n  <th>NewConstruction</th> <td> -3.92e+04</td> <td> 7211.965</td> <td>   -5.435</td> <td> 0.000</td> <td>-5.33e+04</td> <td>-2.51e+04</td>\n</tr>\n<tr>\n  <th>const</th>           <td>-8159.1692</td> <td> 8558.826</td> <td>   -0.953</td> <td> 0.340</td> <td>-2.49e+04</td> <td> 8616.717</td>\n</tr>\n</table>\n<table class=\"simpletable\">\n<tr>\n  <th>Omnibus:</th>       <td>25897.944</td> <th>  Durbin-Watson:     </th>  <td>   1.205</td>  \n</tr>\n<tr>\n  <th>Prob(Omnibus):</th>  <td> 0.000</td>   <th>  Jarque-Bera (JB):  </th> <td>7339792.177</td>\n</tr>\n<tr>\n  <th>Skew:</th>           <td> 5.561</td>   <th>  Prob(JB):          </th>  <td>    0.00</td>  \n</tr>\n<tr>\n  <th>Kurtosis:</th>       <td>90.412</td>   <th>  Cond. No.          </th>  <td>1.30e+05</td>  \n</tr>\n</table><br/><br/>Notes:<br/>[1] Standard Errors assume that the covariance matrix of the errors is correctly specified.<br/>[2] The condition number is large, 1.3e+05. This might indicate that there are<br/>strong multicollinearity or other numerical problems."
     },
     "execution_count": 12,
     "metadata": {},
     "output_type": "execute_result"
    }
   ],
   "source": [
    "# Entrenamiento con los datos\n",
    "model = sm.OLS(csv[outcome],data.assign(const=1))\n",
    "results = model.fit()\n",
    "\n",
    "results.summary()"
   ],
   "metadata": {
    "collapsed": false,
    "pycharm": {
     "name": "#%%\n"
    }
   }
  },
  {
   "cell_type": "code",
   "execution_count": 16,
   "outputs": [
    {
     "name": "stdout",
     "output_type": "stream",
     "text": [
      "Variables: DocumentDate, SalePrice, PropertyID, PropertyType, ym, zhvi_px, zhvi_idx, AdjSalePrice, NbrLivingUnits, SqFtLot, SqFtTotLiving, SqFtFinBasement, Bathrooms, Bedrooms, BldgGrade, YrBuilt, YrRenovated, TrafficNoise, LandVal, ImpsVal, ZipCode, NewConstruction\n"
     ]
    },
    {
     "ename": "TypeError",
     "evalue": "unsupported format string passed to NoneType.__format__",
     "output_type": "error",
     "traceback": [
      "\u001B[0;31m---------------------------------------------------------------------------\u001B[0m",
      "\u001B[0;31mTypeError\u001B[0m                                 Traceback (most recent call last)",
      "Input \u001B[0;32mIn [16]\u001B[0m, in \u001B[0;36m<cell line: 13>\u001B[0;34m()\u001B[0m\n\u001B[1;32m     10\u001B[0m         \u001B[38;5;28;01mreturn\u001B[39;00m \u001B[38;5;28;01mNone\u001B[39;00m\n\u001B[1;32m     11\u001B[0m     \u001B[38;5;28;01mreturn\u001B[39;00m AIC_score(csv[outcome],model\u001B[38;5;241m=\u001B[39mmodel\u001B[38;5;241m.\u001B[39mpredict(csv[variables],model))\n\u001B[0;32m---> 13\u001B[0m best \u001B[38;5;241m=\u001B[39m \u001B[43mstepwise_selection\u001B[49m\u001B[43m(\u001B[49m\u001B[43mcsv\u001B[49m\u001B[38;5;241;43m.\u001B[39;49m\u001B[43mcolumns\u001B[49m\u001B[43m,\u001B[49m\u001B[43mtrain_model\u001B[49m\u001B[38;5;241;43m=\u001B[39;49m\u001B[43mtrain\u001B[49m\u001B[43m,\u001B[49m\u001B[43mscore_model\u001B[49m\u001B[38;5;241;43m=\u001B[39;49m\u001B[43mscore_model\u001B[49m\u001B[43m,\u001B[49m\u001B[43mverbose\u001B[49m\u001B[38;5;241;43m=\u001B[39;49m\u001B[38;5;28;43;01mTrue\u001B[39;49;00m\u001B[43m)\u001B[49m\n",
      "File \u001B[0;32m~/PycharmProjects/ai-fundamentals-abril2022/venv/lib/python3.10/site-packages/dmba/featureSelection.py:153\u001B[0m, in \u001B[0;36mstepwise_selection\u001B[0;34m(variables, train_model, score_model, direction, verbose)\u001B[0m\n\u001B[1;32m    151\u001B[0m \u001B[38;5;28;01mif\u001B[39;00m verbose:\n\u001B[1;32m    152\u001B[0m     \u001B[38;5;28mprint\u001B[39m(\u001B[38;5;124m'\u001B[39m\u001B[38;5;124mVariables: \u001B[39m\u001B[38;5;124m'\u001B[39m \u001B[38;5;241m+\u001B[39m \u001B[38;5;124m'\u001B[39m\u001B[38;5;124m, \u001B[39m\u001B[38;5;124m'\u001B[39m\u001B[38;5;241m.\u001B[39mjoin(variables))\n\u001B[0;32m--> 153\u001B[0m     \u001B[38;5;28mprint\u001B[39m(\u001B[38;5;124mf\u001B[39m\u001B[38;5;124m'\u001B[39m\u001B[38;5;124mStart: score=\u001B[39m\u001B[38;5;132;01m{\u001B[39;00mbest_score\u001B[38;5;132;01m:\u001B[39;00m\u001B[38;5;124m.2f\u001B[39m\u001B[38;5;132;01m}\u001B[39;00m\u001B[38;5;124m, constant\u001B[39m\u001B[38;5;124m'\u001B[39m)\n\u001B[1;32m    155\u001B[0m \u001B[38;5;28;01mwhile\u001B[39;00m \u001B[38;5;28;01mTrue\u001B[39;00m:\n\u001B[1;32m    156\u001B[0m     step \u001B[38;5;241m=\u001B[39m [(best_score, \u001B[38;5;28;01mNone\u001B[39;00m, best_model, \u001B[38;5;124m'\u001B[39m\u001B[38;5;124munchanged\u001B[39m\u001B[38;5;124m'\u001B[39m)]\n",
      "\u001B[0;31mTypeError\u001B[0m: unsupported format string passed to NoneType.__format__"
     ]
    }
   ],
   "source": [
    "\n",
    "def train(variables):\n",
    "    if len(variables)==0:\n",
    "        return None\n",
    "    model = LinearRegression()\n",
    "    model.fit(csv[variables],csv[outcome])\n",
    "    return model\n",
    "\n",
    "def score_model(model,variables):\n",
    "    if len(variables)==0:\n",
    "        return None # Como obtener el AIC_score cuando no hay variables\n",
    "    return AIC_score(csv[outcome],model=model.predict(csv[variables],model))\n",
    "\n",
    "best = stepwise_selection(csv.columns,train_model=train,score_model=score_model,verbose=True)"
   ],
   "metadata": {
    "collapsed": false,
    "pycharm": {
     "name": "#%%\n"
    }
   }
  },
  {
   "cell_type": "code",
   "execution_count": null,
   "outputs": [],
   "source": [],
   "metadata": {
    "collapsed": false,
    "pycharm": {
     "name": "#%%\n"
    }
   }
  }
 ],
 "metadata": {
  "kernelspec": {
   "display_name": "Python 3",
   "language": "python",
   "name": "python3"
  },
  "language_info": {
   "codemirror_mode": {
    "name": "ipython",
    "version": 2
   },
   "file_extension": ".py",
   "mimetype": "text/x-python",
   "name": "python",
   "nbconvert_exporter": "python",
   "pygments_lexer": "ipython2",
   "version": "2.7.6"
  }
 },
 "nbformat": 4,
 "nbformat_minor": 0
}