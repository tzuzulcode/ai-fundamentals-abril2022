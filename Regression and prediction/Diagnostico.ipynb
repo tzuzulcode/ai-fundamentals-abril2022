{
 "cells": [
  {
   "cell_type": "markdown",
   "source": [
    "# Diagnóstico\n",
    "- Standardized residuals:\n",
    "    Residuos divididos por el error estándar de los residuos.\n",
    "- Outliers:\n",
    "    Registros (o valores de resultado) que están distantes del resto de los datos (o del resultado previsto).\n",
    "- Influential value\n",
    "    Un valor o registro cuya presencia o ausencia hace una gran diferencia en la ecuación de regresión.\n",
    "- Leverage\n",
    "    El grado de influencia que tiene un solo registro en una ecuación de regresión.\n",
    "- Non-normal residuals\n",
    "    Los residuos que no se distribuyen normalmente pueden invalidar algunos requisitos técnicos de la regresión, pero generalmente no son una preocupación en la ciencia de datos.\n",
    "- Heteroskedasticity\n",
    "    Cuando algunos rangos del resultado experimentan residuos con mayor varianza (puede indicar que falta un predictor en la ecuación).\n",
    "- Partial residual plots\n",
    "    Un diagrama de diagnóstico para iluminar la relación entre la variable de resultado y un predictor único."
   ],
   "metadata": {
    "collapsed": false,
    "pycharm": {
     "name": "#%% md\n"
    }
   }
  },
  {
   "cell_type": "code",
   "execution_count": 20,
   "outputs": [],
   "source": [
    "import numpy as np\n",
    "import pandas as pd\n",
    "import statsmodels.api as sm\n",
    "from statsmodels.stats.outliers_influence import OLSInfluence\n",
    "import matplotlib.pyplot as plt"
   ],
   "metadata": {
    "collapsed": false,
    "pycharm": {
     "name": "#%%\n"
    }
   }
  },
  {
   "cell_type": "code",
   "execution_count": 11,
   "outputs": [],
   "source": [
    "data = pd.read_csv(\"../Datasets/cleaned_data.csv\")\n",
    "data.drop(['Unnamed: 0'],inplace=True,axis=1)"
   ],
   "metadata": {
    "collapsed": false,
    "pycharm": {
     "name": "#%%\n"
    }
   }
  },
  {
   "cell_type": "code",
   "execution_count": 11,
   "outputs": [],
   "source": [],
   "metadata": {
    "collapsed": false,
    "pycharm": {
     "name": "#%%\n"
    }
   }
  },
  {
   "cell_type": "code",
   "execution_count": 12,
   "outputs": [
    {
     "data": {
      "text/plain": "       SalePrice  zhvi_px  zhvi_idx  NbrLivingUnits  SqFtLot  SqFtTotLiving  \\\n0         280000   405100  0.930836               2     9373           2400   \n1        1000000   404400  0.929228               1    20156           3764   \n2         745000   425600  0.977941               1    26036           2060   \n3         425000   418400  0.961397               1     8618           3200   \n4         240000   351600  0.807904               1     8620           1720   \n...          ...      ...       ...             ...      ...            ...   \n22682     325000   318700  0.732307               1     5468           1480   \n22683    1580000   433500  0.996094               1    23914           4720   \n22684     165000   325300  0.747472               1    11170           1070   \n22685     315000   400600  0.920496               1     6223           1345   \n22686     465000   425600  0.977941               1     4400            790   \n\n       SqFtFinBasement  Bathrooms  Bedrooms  BldgGrade  ...  YrRenovated  \\\n0                    0       3.00         6          7  ...            0   \n1                 1452       3.75         4         10  ...            0   \n2                  900       1.75         4          8  ...            0   \n3                 1640       3.75         5          7  ...            0   \n4                    0       1.75         4          7  ...            0   \n...                ...        ...       ...        ...  ...          ...   \n22682              590       1.75         3          7  ...            0   \n22683              910       4.50         4         11  ...            0   \n22684                0       1.00         4          6  ...            0   \n22685                0       2.00         3          7  ...            0   \n22686                0       1.50         3          7  ...            0   \n\n       TrafficNoise  LandVal  ImpsVal  NewConstruction  \\\n0                 0    70000   229000                0   \n1                 0   203000   590000                1   \n2                 0   183000   275000                0   \n3                 0   104000   229000                0   \n4                 0   104000   205000                0   \n...             ...      ...      ...              ...   \n22682             0   201000   172000                0   \n22683             1   703000   951000                0   \n22684             0    92000   130000                0   \n22685             0   103000   212000                0   \n22686             0   311000   268000                0   \n\n       PropertyType_Multiplex  PropertyType_Single Family  \\\n0                           1                           0   \n1                           0                           1   \n2                           0                           1   \n3                           0                           1   \n4                           0                           1   \n...                       ...                         ...   \n22682                       0                           1   \n22683                       0                           1   \n22684                       0                           1   \n22685                       0                           1   \n22686                       0                           1   \n\n       PropertyType_Townhouse  ZipGroup  AdjSalePrice  \n0                           0         1      300805.0  \n1                           0         1     1076162.0  \n2                           0         1      761805.0  \n3                           0         1      442065.0  \n4                           0         1      297065.0  \n...                       ...       ...           ...  \n22682                       0         2      443803.0  \n22683                       0         3     1586196.0  \n22684                       0         1      220744.0  \n22685                       0         1      342207.0  \n22686                       0         3      475489.0  \n\n[22687 rows x 21 columns]",
      "text/html": "<div>\n<style scoped>\n    .dataframe tbody tr th:only-of-type {\n        vertical-align: middle;\n    }\n\n    .dataframe tbody tr th {\n        vertical-align: top;\n    }\n\n    .dataframe thead th {\n        text-align: right;\n    }\n</style>\n<table border=\"1\" class=\"dataframe\">\n  <thead>\n    <tr style=\"text-align: right;\">\n      <th></th>\n      <th>SalePrice</th>\n      <th>zhvi_px</th>\n      <th>zhvi_idx</th>\n      <th>NbrLivingUnits</th>\n      <th>SqFtLot</th>\n      <th>SqFtTotLiving</th>\n      <th>SqFtFinBasement</th>\n      <th>Bathrooms</th>\n      <th>Bedrooms</th>\n      <th>BldgGrade</th>\n      <th>...</th>\n      <th>YrRenovated</th>\n      <th>TrafficNoise</th>\n      <th>LandVal</th>\n      <th>ImpsVal</th>\n      <th>NewConstruction</th>\n      <th>PropertyType_Multiplex</th>\n      <th>PropertyType_Single Family</th>\n      <th>PropertyType_Townhouse</th>\n      <th>ZipGroup</th>\n      <th>AdjSalePrice</th>\n    </tr>\n  </thead>\n  <tbody>\n    <tr>\n      <th>0</th>\n      <td>280000</td>\n      <td>405100</td>\n      <td>0.930836</td>\n      <td>2</td>\n      <td>9373</td>\n      <td>2400</td>\n      <td>0</td>\n      <td>3.00</td>\n      <td>6</td>\n      <td>7</td>\n      <td>...</td>\n      <td>0</td>\n      <td>0</td>\n      <td>70000</td>\n      <td>229000</td>\n      <td>0</td>\n      <td>1</td>\n      <td>0</td>\n      <td>0</td>\n      <td>1</td>\n      <td>300805.0</td>\n    </tr>\n    <tr>\n      <th>1</th>\n      <td>1000000</td>\n      <td>404400</td>\n      <td>0.929228</td>\n      <td>1</td>\n      <td>20156</td>\n      <td>3764</td>\n      <td>1452</td>\n      <td>3.75</td>\n      <td>4</td>\n      <td>10</td>\n      <td>...</td>\n      <td>0</td>\n      <td>0</td>\n      <td>203000</td>\n      <td>590000</td>\n      <td>1</td>\n      <td>0</td>\n      <td>1</td>\n      <td>0</td>\n      <td>1</td>\n      <td>1076162.0</td>\n    </tr>\n    <tr>\n      <th>2</th>\n      <td>745000</td>\n      <td>425600</td>\n      <td>0.977941</td>\n      <td>1</td>\n      <td>26036</td>\n      <td>2060</td>\n      <td>900</td>\n      <td>1.75</td>\n      <td>4</td>\n      <td>8</td>\n      <td>...</td>\n      <td>0</td>\n      <td>0</td>\n      <td>183000</td>\n      <td>275000</td>\n      <td>0</td>\n      <td>0</td>\n      <td>1</td>\n      <td>0</td>\n      <td>1</td>\n      <td>761805.0</td>\n    </tr>\n    <tr>\n      <th>3</th>\n      <td>425000</td>\n      <td>418400</td>\n      <td>0.961397</td>\n      <td>1</td>\n      <td>8618</td>\n      <td>3200</td>\n      <td>1640</td>\n      <td>3.75</td>\n      <td>5</td>\n      <td>7</td>\n      <td>...</td>\n      <td>0</td>\n      <td>0</td>\n      <td>104000</td>\n      <td>229000</td>\n      <td>0</td>\n      <td>0</td>\n      <td>1</td>\n      <td>0</td>\n      <td>1</td>\n      <td>442065.0</td>\n    </tr>\n    <tr>\n      <th>4</th>\n      <td>240000</td>\n      <td>351600</td>\n      <td>0.807904</td>\n      <td>1</td>\n      <td>8620</td>\n      <td>1720</td>\n      <td>0</td>\n      <td>1.75</td>\n      <td>4</td>\n      <td>7</td>\n      <td>...</td>\n      <td>0</td>\n      <td>0</td>\n      <td>104000</td>\n      <td>205000</td>\n      <td>0</td>\n      <td>0</td>\n      <td>1</td>\n      <td>0</td>\n      <td>1</td>\n      <td>297065.0</td>\n    </tr>\n    <tr>\n      <th>...</th>\n      <td>...</td>\n      <td>...</td>\n      <td>...</td>\n      <td>...</td>\n      <td>...</td>\n      <td>...</td>\n      <td>...</td>\n      <td>...</td>\n      <td>...</td>\n      <td>...</td>\n      <td>...</td>\n      <td>...</td>\n      <td>...</td>\n      <td>...</td>\n      <td>...</td>\n      <td>...</td>\n      <td>...</td>\n      <td>...</td>\n      <td>...</td>\n      <td>...</td>\n      <td>...</td>\n    </tr>\n    <tr>\n      <th>22682</th>\n      <td>325000</td>\n      <td>318700</td>\n      <td>0.732307</td>\n      <td>1</td>\n      <td>5468</td>\n      <td>1480</td>\n      <td>590</td>\n      <td>1.75</td>\n      <td>3</td>\n      <td>7</td>\n      <td>...</td>\n      <td>0</td>\n      <td>0</td>\n      <td>201000</td>\n      <td>172000</td>\n      <td>0</td>\n      <td>0</td>\n      <td>1</td>\n      <td>0</td>\n      <td>2</td>\n      <td>443803.0</td>\n    </tr>\n    <tr>\n      <th>22683</th>\n      <td>1580000</td>\n      <td>433500</td>\n      <td>0.996094</td>\n      <td>1</td>\n      <td>23914</td>\n      <td>4720</td>\n      <td>910</td>\n      <td>4.50</td>\n      <td>4</td>\n      <td>11</td>\n      <td>...</td>\n      <td>0</td>\n      <td>1</td>\n      <td>703000</td>\n      <td>951000</td>\n      <td>0</td>\n      <td>0</td>\n      <td>1</td>\n      <td>0</td>\n      <td>3</td>\n      <td>1586196.0</td>\n    </tr>\n    <tr>\n      <th>22684</th>\n      <td>165000</td>\n      <td>325300</td>\n      <td>0.747472</td>\n      <td>1</td>\n      <td>11170</td>\n      <td>1070</td>\n      <td>0</td>\n      <td>1.00</td>\n      <td>4</td>\n      <td>6</td>\n      <td>...</td>\n      <td>0</td>\n      <td>0</td>\n      <td>92000</td>\n      <td>130000</td>\n      <td>0</td>\n      <td>0</td>\n      <td>1</td>\n      <td>0</td>\n      <td>1</td>\n      <td>220744.0</td>\n    </tr>\n    <tr>\n      <th>22685</th>\n      <td>315000</td>\n      <td>400600</td>\n      <td>0.920496</td>\n      <td>1</td>\n      <td>6223</td>\n      <td>1345</td>\n      <td>0</td>\n      <td>2.00</td>\n      <td>3</td>\n      <td>7</td>\n      <td>...</td>\n      <td>0</td>\n      <td>0</td>\n      <td>103000</td>\n      <td>212000</td>\n      <td>0</td>\n      <td>0</td>\n      <td>1</td>\n      <td>0</td>\n      <td>1</td>\n      <td>342207.0</td>\n    </tr>\n    <tr>\n      <th>22686</th>\n      <td>465000</td>\n      <td>425600</td>\n      <td>0.977941</td>\n      <td>1</td>\n      <td>4400</td>\n      <td>790</td>\n      <td>0</td>\n      <td>1.50</td>\n      <td>3</td>\n      <td>7</td>\n      <td>...</td>\n      <td>0</td>\n      <td>0</td>\n      <td>311000</td>\n      <td>268000</td>\n      <td>0</td>\n      <td>0</td>\n      <td>1</td>\n      <td>0</td>\n      <td>3</td>\n      <td>475489.0</td>\n    </tr>\n  </tbody>\n</table>\n<p>22687 rows × 21 columns</p>\n</div>"
     },
     "execution_count": 12,
     "metadata": {},
     "output_type": "execute_result"
    }
   ],
   "source": [
    "data"
   ],
   "metadata": {
    "collapsed": false,
    "pycharm": {
     "name": "#%%\n"
    }
   }
  },
  {
   "cell_type": "code",
   "execution_count": 13,
   "outputs": [],
   "source": [
    "predictors = ['Bedrooms','Bathrooms','BldgGrade','NbrLivingUnits','NewConstruction']\n",
    "\n",
    "outcome = \"AdjSalePrice\""
   ],
   "metadata": {
    "collapsed": false,
    "pycharm": {
     "name": "#%%\n"
    }
   }
  },
  {
   "cell_type": "code",
   "execution_count": 14,
   "outputs": [],
   "source": [
    "model = sm.OLS(data[outcome],data[predictors].assign(const=1))\n",
    "\n",
    "fitted_model = model.fit()"
   ],
   "metadata": {
    "collapsed": false,
    "pycharm": {
     "name": "#%%\n"
    }
   }
  },
  {
   "cell_type": "code",
   "execution_count": 15,
   "outputs": [
    {
     "name": "stdout",
     "output_type": "stream",
     "text": [
      "-4.090177523961998\n",
      "34.65418946682027\n"
     ]
    }
   ],
   "source": [
    "influence = OLSInfluence(fitted_model)\n",
    "residuals_std = influence.resid_studentized_internal\n",
    "print(residuals_std.min())\n",
    "print(residuals_std.max())"
   ],
   "metadata": {
    "collapsed": false,
    "pycharm": {
     "name": "#%%\n"
    }
   }
  },
  {
   "cell_type": "code",
   "execution_count": 16,
   "outputs": [
    {
     "data": {
      "text/plain": "SalePrice                     5.550000e+05\nzhvi_px                       4.006000e+05\nzhvi_idx                      9.204963e-01\nNbrLivingUnits                1.000000e+00\nSqFtLot                       1.502100e+04\nSqFtTotLiving                 6.380000e+03\nSqFtFinBasement               0.000000e+00\nBathrooms                     6.500000e+00\nBedrooms                      6.000000e+00\nBldgGrade                     1.200000e+01\nYrBuilt                       2.007000e+03\nYrRenovated                   0.000000e+00\nTrafficNoise                  2.000000e+00\nLandVal                       3.280000e+05\nImpsVal                       1.389000e+06\nNewConstruction               0.000000e+00\nPropertyType_Multiplex        0.000000e+00\nPropertyType_Single Family    1.000000e+00\nPropertyType_Townhouse        0.000000e+00\nZipGroup                      3.000000e+00\nAdjSalePrice                  6.029360e+05\nName: 8356, dtype: float64"
     },
     "execution_count": 16,
     "metadata": {},
     "output_type": "execute_result"
    }
   ],
   "source": [
    "data.loc[residuals_std.idxmin(),:]"
   ],
   "metadata": {
    "collapsed": false,
    "pycharm": {
     "name": "#%%\n"
    }
   }
  },
  {
   "cell_type": "code",
   "execution_count": 17,
   "outputs": [
    {
     "data": {
      "text/plain": "SalePrice                     1.100000e+07\nzhvi_px                       4.111000e+05\nzhvi_idx                      9.446232e-01\nNbrLivingUnits                2.000000e+00\nSqFtLot                       4.400000e+04\nSqFtTotLiving                 7.560000e+03\nSqFtFinBasement               1.300000e+03\nBathrooms                     6.500000e+00\nBedrooms                      6.000000e+00\nBldgGrade                     1.300000e+01\nYrBuilt                       1.995000e+03\nYrRenovated                   0.000000e+00\nTrafficNoise                  0.000000e+00\nLandVal                       3.612000e+06\nImpsVal                       4.846000e+06\nNewConstruction               0.000000e+00\nPropertyType_Multiplex        0.000000e+00\nPropertyType_Single Family    1.000000e+00\nPropertyType_Townhouse        0.000000e+00\nZipGroup                      3.000000e+00\nAdjSalePrice                  1.164486e+07\nName: 16973, dtype: float64"
     },
     "execution_count": 17,
     "metadata": {},
     "output_type": "execute_result"
    }
   ],
   "source": [
    "data.loc[residuals_std.idxmax(),:]"
   ],
   "metadata": {
    "collapsed": false,
    "pycharm": {
     "name": "#%%\n"
    }
   }
  },
  {
   "cell_type": "code",
   "execution_count": 25,
   "outputs": [
    {
     "data": {
      "text/plain": "Text(0, 0.5, 'residuals')"
     },
     "execution_count": 25,
     "metadata": {},
     "output_type": "execute_result"
    },
    {
     "data": {
      "text/plain": "<Figure size 360x360 with 1 Axes>",
      "image/png": "[encoded data removed]"
     },
     "metadata": {
      "needs_background": "light"
     },
     "output_type": "display_data"
    }
   ],
   "source": [
    "fig, ax = plt.subplots(figsize=(5,5))\n",
    "\n",
    "ax.scatter(influence.hat_matrix_diag, influence.resid_studentized_internal,s=1000*np.sqrt(influence.cooks_distance[0]))\n",
    "\n",
    "ax.axhline(-2.5)\n",
    "ax.axhline(2.5)\n",
    "\n",
    "ax.set_xlabel(\"hat values\")\n",
    "ax.set_ylabel(\"residuals\")"
   ],
   "metadata": {
    "collapsed": false,
    "pycharm": {
     "name": "#%%\n"
    }
   }
  },
  {
   "cell_type": "code",
   "execution_count": null,
   "outputs": [],
   "source": [],
   "metadata": {
    "collapsed": false,
    "pycharm": {
     "name": "#%%\n"
    }
   }
  }
 ],
 "metadata": {
  "kernelspec": {
   "display_name": "Python 3",
   "language": "python",
   "name": "python3"
  },
  "language_info": {
   "codemirror_mode": {
    "name": "ipython",
    "version": 2
   },
   "file_extension": ".py",
   "mimetype": "text/x-python",
   "name": "python",
   "nbconvert_exporter": "python",
   "pygments_lexer": "ipython2",
   "version": "2.7.6"
  }
 },
 "nbformat": 4,
 "nbformat_minor": 0
}