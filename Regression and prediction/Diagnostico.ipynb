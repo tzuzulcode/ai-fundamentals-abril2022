{
 "cells": [
  {
   "cell_type": "markdown",
   "source": [
    "# Diagnóstico\n",
    "- Standardized residuals:\n",
    "    Residuos divididos por el error estándar de los residuos.\n",
    "- Outliers:\n",
    "    Registros (o valores de resultado) que están distantes del resto de los datos (o del resultado previsto).\n",
    "- Influential value\n",
    "    Un valor o registro cuya presencia o ausencia hace una gran diferencia en la ecuación de regresión.\n",
    "- Leverage\n",
    "    El grado de influencia que tiene un solo registro en una ecuación de regresión.\n",
    "- Non-normal residuals\n",
    "    Los residuos que no se distribuyen normalmente pueden invalidar algunos requisitos técnicos de la regresión, pero generalmente no son una preocupación en la ciencia de datos.\n",
    "- Heteroskedasticity\n",
    "    Cuando algunos rangos del resultado experimentan residuos con mayor varianza (puede indicar que falta un predictor en la ecuación).\n",
    "- Partial residual plots\n",
    "    Un diagrama de diagnóstico para iluminar la relación entre la variable de resultado y un predictor único."
   ],
   "metadata": {
    "collapsed": false,
    "pycharm": {
     "name": "#%% md\n"
    }
   }
  }
 ],
 "metadata": {
  "kernelspec": {
   "display_name": "Python 3",
   "language": "python",
   "name": "python3"
  },
  "language_info": {
   "codemirror_mode": {
    "name": "ipython",
    "version": 2
   },
   "file_extension": ".py",
   "mimetype": "text/x-python",
   "name": "python",
   "nbconvert_exporter": "python",
   "pygments_lexer": "ipython2",
   "version": "2.7.6"
  }
 },
 "nbformat": 4,
 "nbformat_minor": 0
}