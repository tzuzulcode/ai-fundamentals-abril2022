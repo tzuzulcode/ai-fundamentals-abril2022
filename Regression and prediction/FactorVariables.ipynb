{
 "cells": [
  {
   "cell_type": "code",
   "execution_count": 1,
   "outputs": [],
   "source": [
    "import pandas as pd\n",
    "import numpy as np\n",
    "from sklearn.linear_model import LinearRegression"
   ],
   "metadata": {
    "collapsed": false,
    "pycharm": {
     "name": "#%%\n"
    }
   }
  },
  {
   "cell_type": "code",
   "execution_count": 2,
   "outputs": [
    {
     "data": {
      "text/plain": "      DocumentDate  SalePrice  PropertyID   PropertyType          ym  zhvi_px  \\\n1       2014-09-16     280000     1000102      Multiplex  2014-09-01   405100   \n2       2006-06-16    1000000     1200013  Single Family  2006-06-01   404400   \n3       2007-01-29     745000     1200019  Single Family  2007-01-01   425600   \n4       2008-02-25     425000     2800016  Single Family  2008-02-01   418400   \n5       2013-03-29     240000     2800024  Single Family  2013-03-01   351600   \n...            ...        ...         ...            ...         ...      ...   \n27057   2011-04-08     325000  9842300710  Single Family  2011-04-01   318700   \n27058   2007-09-28    1580000  9845500010  Single Family  2007-09-01   433500   \n27061   2012-07-09     165000  9899200010  Single Family  2012-07-01   325300   \n27062   2006-05-26     315000  9900000355  Single Family  2006-05-01   400600   \n27063   2007-01-09     465000  9906000035  Single Family  2007-01-01   425600   \n\n       zhvi_idx  AdjSalePrice  NbrLivingUnits  SqFtLot  ...  Bathrooms  \\\n1      0.930836      300805.0               2     9373  ...       3.00   \n2      0.929228     1076162.0               1    20156  ...       3.75   \n3      0.977941      761805.0               1    26036  ...       1.75   \n4      0.961397      442065.0               1     8618  ...       3.75   \n5      0.807904      297065.0               1     8620  ...       1.75   \n...         ...           ...             ...      ...  ...        ...   \n27057  0.732307      443803.0               1     5468  ...       1.75   \n27058  0.996094     1586196.0               1    23914  ...       4.50   \n27061  0.747472      220744.0               1    11170  ...       1.00   \n27062  0.920496      342207.0               1     6223  ...       2.00   \n27063  0.977941      475489.0               1     4400  ...       1.50   \n\n       Bedrooms  BldgGrade  YrBuilt  YrRenovated  TrafficNoise  LandVal  \\\n1             6          7     1991            0             0    70000   \n2             4         10     2005            0             0   203000   \n3             4          8     1947            0             0   183000   \n4             5          7     1966            0             0   104000   \n5             4          7     1948            0             0   104000   \n...         ...        ...      ...          ...           ...      ...   \n27057         3          7     1951            0             0   201000   \n27058         4         11     2000            0             1   703000   \n27061         4          6     1971            0             0    92000   \n27062         3          7     1939            0             0   103000   \n27063         3          7     1928            0             0   311000   \n\n       ImpsVal  ZipCode  NewConstruction  \n1       229000    98002            False  \n2       590000    98166             True  \n3       275000    98166            False  \n4       229000    98168            False  \n5       205000    98168            False  \n...        ...      ...              ...  \n27057   172000    98126            False  \n27058   951000    98040            False  \n27061   130000    98055            False  \n27062   212000    98166            False  \n27063   268000    98103            False  \n\n[22687 rows x 22 columns]",
      "text/html": "<div>\n<style scoped>\n    .dataframe tbody tr th:only-of-type {\n        vertical-align: middle;\n    }\n\n    .dataframe tbody tr th {\n        vertical-align: top;\n    }\n\n    .dataframe thead th {\n        text-align: right;\n    }\n</style>\n<table border=\"1\" class=\"dataframe\">\n  <thead>\n    <tr style=\"text-align: right;\">\n      <th></th>\n      <th>DocumentDate</th>\n      <th>SalePrice</th>\n      <th>PropertyID</th>\n      <th>PropertyType</th>\n      <th>ym</th>\n      <th>zhvi_px</th>\n      <th>zhvi_idx</th>\n      <th>AdjSalePrice</th>\n      <th>NbrLivingUnits</th>\n      <th>SqFtLot</th>\n      <th>...</th>\n      <th>Bathrooms</th>\n      <th>Bedrooms</th>\n      <th>BldgGrade</th>\n      <th>YrBuilt</th>\n      <th>YrRenovated</th>\n      <th>TrafficNoise</th>\n      <th>LandVal</th>\n      <th>ImpsVal</th>\n      <th>ZipCode</th>\n      <th>NewConstruction</th>\n    </tr>\n  </thead>\n  <tbody>\n    <tr>\n      <th>1</th>\n      <td>2014-09-16</td>\n      <td>280000</td>\n      <td>1000102</td>\n      <td>Multiplex</td>\n      <td>2014-09-01</td>\n      <td>405100</td>\n      <td>0.930836</td>\n      <td>300805.0</td>\n      <td>2</td>\n      <td>9373</td>\n      <td>...</td>\n      <td>3.00</td>\n      <td>6</td>\n      <td>7</td>\n      <td>1991</td>\n      <td>0</td>\n      <td>0</td>\n      <td>70000</td>\n      <td>229000</td>\n      <td>98002</td>\n      <td>False</td>\n    </tr>\n    <tr>\n      <th>2</th>\n      <td>2006-06-16</td>\n      <td>1000000</td>\n      <td>1200013</td>\n      <td>Single Family</td>\n      <td>2006-06-01</td>\n      <td>404400</td>\n      <td>0.929228</td>\n      <td>1076162.0</td>\n      <td>1</td>\n      <td>20156</td>\n      <td>...</td>\n      <td>3.75</td>\n      <td>4</td>\n      <td>10</td>\n      <td>2005</td>\n      <td>0</td>\n      <td>0</td>\n      <td>203000</td>\n      <td>590000</td>\n      <td>98166</td>\n      <td>True</td>\n    </tr>\n    <tr>\n      <th>3</th>\n      <td>2007-01-29</td>\n      <td>745000</td>\n      <td>1200019</td>\n      <td>Single Family</td>\n      <td>2007-01-01</td>\n      <td>425600</td>\n      <td>0.977941</td>\n      <td>761805.0</td>\n      <td>1</td>\n      <td>26036</td>\n      <td>...</td>\n      <td>1.75</td>\n      <td>4</td>\n      <td>8</td>\n      <td>1947</td>\n      <td>0</td>\n      <td>0</td>\n      <td>183000</td>\n      <td>275000</td>\n      <td>98166</td>\n      <td>False</td>\n    </tr>\n    <tr>\n      <th>4</th>\n      <td>2008-02-25</td>\n      <td>425000</td>\n      <td>2800016</td>\n      <td>Single Family</td>\n      <td>2008-02-01</td>\n      <td>418400</td>\n      <td>0.961397</td>\n      <td>442065.0</td>\n      <td>1</td>\n      <td>8618</td>\n      <td>...</td>\n      <td>3.75</td>\n      <td>5</td>\n      <td>7</td>\n      <td>1966</td>\n      <td>0</td>\n      <td>0</td>\n      <td>104000</td>\n      <td>229000</td>\n      <td>98168</td>\n      <td>False</td>\n    </tr>\n    <tr>\n      <th>5</th>\n      <td>2013-03-29</td>\n      <td>240000</td>\n      <td>2800024</td>\n      <td>Single Family</td>\n      <td>2013-03-01</td>\n      <td>351600</td>\n      <td>0.807904</td>\n      <td>297065.0</td>\n      <td>1</td>\n      <td>8620</td>\n      <td>...</td>\n      <td>1.75</td>\n      <td>4</td>\n      <td>7</td>\n      <td>1948</td>\n      <td>0</td>\n      <td>0</td>\n      <td>104000</td>\n      <td>205000</td>\n      <td>98168</td>\n      <td>False</td>\n    </tr>\n    <tr>\n      <th>...</th>\n      <td>...</td>\n      <td>...</td>\n      <td>...</td>\n      <td>...</td>\n      <td>...</td>\n      <td>...</td>\n      <td>...</td>\n      <td>...</td>\n      <td>...</td>\n      <td>...</td>\n      <td>...</td>\n      <td>...</td>\n      <td>...</td>\n      <td>...</td>\n      <td>...</td>\n      <td>...</td>\n      <td>...</td>\n      <td>...</td>\n      <td>...</td>\n      <td>...</td>\n      <td>...</td>\n    </tr>\n    <tr>\n      <th>27057</th>\n      <td>2011-04-08</td>\n      <td>325000</td>\n      <td>9842300710</td>\n      <td>Single Family</td>\n      <td>2011-04-01</td>\n      <td>318700</td>\n      <td>0.732307</td>\n      <td>443803.0</td>\n      <td>1</td>\n      <td>5468</td>\n      <td>...</td>\n      <td>1.75</td>\n      <td>3</td>\n      <td>7</td>\n      <td>1951</td>\n      <td>0</td>\n      <td>0</td>\n      <td>201000</td>\n      <td>172000</td>\n      <td>98126</td>\n      <td>False</td>\n    </tr>\n    <tr>\n      <th>27058</th>\n      <td>2007-09-28</td>\n      <td>1580000</td>\n      <td>9845500010</td>\n      <td>Single Family</td>\n      <td>2007-09-01</td>\n      <td>433500</td>\n      <td>0.996094</td>\n      <td>1586196.0</td>\n      <td>1</td>\n      <td>23914</td>\n      <td>...</td>\n      <td>4.50</td>\n      <td>4</td>\n      <td>11</td>\n      <td>2000</td>\n      <td>0</td>\n      <td>1</td>\n      <td>703000</td>\n      <td>951000</td>\n      <td>98040</td>\n      <td>False</td>\n    </tr>\n    <tr>\n      <th>27061</th>\n      <td>2012-07-09</td>\n      <td>165000</td>\n      <td>9899200010</td>\n      <td>Single Family</td>\n      <td>2012-07-01</td>\n      <td>325300</td>\n      <td>0.747472</td>\n      <td>220744.0</td>\n      <td>1</td>\n      <td>11170</td>\n      <td>...</td>\n      <td>1.00</td>\n      <td>4</td>\n      <td>6</td>\n      <td>1971</td>\n      <td>0</td>\n      <td>0</td>\n      <td>92000</td>\n      <td>130000</td>\n      <td>98055</td>\n      <td>False</td>\n    </tr>\n    <tr>\n      <th>27062</th>\n      <td>2006-05-26</td>\n      <td>315000</td>\n      <td>9900000355</td>\n      <td>Single Family</td>\n      <td>2006-05-01</td>\n      <td>400600</td>\n      <td>0.920496</td>\n      <td>342207.0</td>\n      <td>1</td>\n      <td>6223</td>\n      <td>...</td>\n      <td>2.00</td>\n      <td>3</td>\n      <td>7</td>\n      <td>1939</td>\n      <td>0</td>\n      <td>0</td>\n      <td>103000</td>\n      <td>212000</td>\n      <td>98166</td>\n      <td>False</td>\n    </tr>\n    <tr>\n      <th>27063</th>\n      <td>2007-01-09</td>\n      <td>465000</td>\n      <td>9906000035</td>\n      <td>Single Family</td>\n      <td>2007-01-01</td>\n      <td>425600</td>\n      <td>0.977941</td>\n      <td>475489.0</td>\n      <td>1</td>\n      <td>4400</td>\n      <td>...</td>\n      <td>1.50</td>\n      <td>3</td>\n      <td>7</td>\n      <td>1928</td>\n      <td>0</td>\n      <td>0</td>\n      <td>311000</td>\n      <td>268000</td>\n      <td>98103</td>\n      <td>False</td>\n    </tr>\n  </tbody>\n</table>\n<p>22687 rows × 22 columns</p>\n</div>"
     },
     "execution_count": 2,
     "metadata": {},
     "output_type": "execute_result"
    }
   ],
   "source": [
    "data = pd.read_csv(\"../Datasets/house_sales.csv\",delimiter=\"\\t\")\n",
    "data"
   ],
   "metadata": {
    "collapsed": false,
    "pycharm": {
     "name": "#%%\n"
    }
   }
  },
  {
   "cell_type": "code",
   "execution_count": 3,
   "outputs": [
    {
     "data": {
      "text/plain": "      DocumentDate  SalePrice  PropertyID          ym  zhvi_px  zhvi_idx  \\\n1       2014-09-16     280000     1000102  2014-09-01   405100  0.930836   \n2       2006-06-16    1000000     1200013  2006-06-01   404400  0.929228   \n3       2007-01-29     745000     1200019  2007-01-01   425600  0.977941   \n4       2008-02-25     425000     2800016  2008-02-01   418400  0.961397   \n5       2013-03-29     240000     2800024  2013-03-01   351600  0.807904   \n...            ...        ...         ...         ...      ...       ...   \n27057   2011-04-08     325000  9842300710  2011-04-01   318700  0.732307   \n27058   2007-09-28    1580000  9845500010  2007-09-01   433500  0.996094   \n27061   2012-07-09     165000  9899200010  2012-07-01   325300  0.747472   \n27062   2006-05-26     315000  9900000355  2006-05-01   400600  0.920496   \n27063   2007-01-09     465000  9906000035  2007-01-01   425600  0.977941   \n\n       AdjSalePrice  NbrLivingUnits  SqFtLot  SqFtTotLiving  ...  YrBuilt  \\\n1          300805.0               2     9373           2400  ...     1991   \n2         1076162.0               1    20156           3764  ...     2005   \n3          761805.0               1    26036           2060  ...     1947   \n4          442065.0               1     8618           3200  ...     1966   \n5          297065.0               1     8620           1720  ...     1948   \n...             ...             ...      ...            ...  ...      ...   \n27057      443803.0               1     5468           1480  ...     1951   \n27058     1586196.0               1    23914           4720  ...     2000   \n27061      220744.0               1    11170           1070  ...     1971   \n27062      342207.0               1     6223           1345  ...     1939   \n27063      475489.0               1     4400            790  ...     1928   \n\n       YrRenovated  TrafficNoise  LandVal  ImpsVal  ZipCode  NewConstruction  \\\n1                0             0    70000   229000    98002                0   \n2                0             0   203000   590000    98166                1   \n3                0             0   183000   275000    98166                0   \n4                0             0   104000   229000    98168                0   \n5                0             0   104000   205000    98168                0   \n...            ...           ...      ...      ...      ...              ...   \n27057            0             0   201000   172000    98126                0   \n27058            0             1   703000   951000    98040                0   \n27061            0             0    92000   130000    98055                0   \n27062            0             0   103000   212000    98166                0   \n27063            0             0   311000   268000    98103                0   \n\n       PropertyType_Multiplex  PropertyType_Single Family  \\\n1                           1                           0   \n2                           0                           1   \n3                           0                           1   \n4                           0                           1   \n5                           0                           1   \n...                       ...                         ...   \n27057                       0                           1   \n27058                       0                           1   \n27061                       0                           1   \n27062                       0                           1   \n27063                       0                           1   \n\n       PropertyType_Townhouse  \n1                           0  \n2                           0  \n3                           0  \n4                           0  \n5                           0  \n...                       ...  \n27057                       0  \n27058                       0  \n27061                       0  \n27062                       0  \n27063                       0  \n\n[22687 rows x 24 columns]",
      "text/html": "<div>\n<style scoped>\n    .dataframe tbody tr th:only-of-type {\n        vertical-align: middle;\n    }\n\n    .dataframe tbody tr th {\n        vertical-align: top;\n    }\n\n    .dataframe thead th {\n        text-align: right;\n    }\n</style>\n<table border=\"1\" class=\"dataframe\">\n  <thead>\n    <tr style=\"text-align: right;\">\n      <th></th>\n      <th>DocumentDate</th>\n      <th>SalePrice</th>\n      <th>PropertyID</th>\n      <th>ym</th>\n      <th>zhvi_px</th>\n      <th>zhvi_idx</th>\n      <th>AdjSalePrice</th>\n      <th>NbrLivingUnits</th>\n      <th>SqFtLot</th>\n      <th>SqFtTotLiving</th>\n      <th>...</th>\n      <th>YrBuilt</th>\n      <th>YrRenovated</th>\n      <th>TrafficNoise</th>\n      <th>LandVal</th>\n      <th>ImpsVal</th>\n      <th>ZipCode</th>\n      <th>NewConstruction</th>\n      <th>PropertyType_Multiplex</th>\n      <th>PropertyType_Single Family</th>\n      <th>PropertyType_Townhouse</th>\n    </tr>\n  </thead>\n  <tbody>\n    <tr>\n      <th>1</th>\n      <td>2014-09-16</td>\n      <td>280000</td>\n      <td>1000102</td>\n      <td>2014-09-01</td>\n      <td>405100</td>\n      <td>0.930836</td>\n      <td>300805.0</td>\n      <td>2</td>\n      <td>9373</td>\n      <td>2400</td>\n      <td>...</td>\n      <td>1991</td>\n      <td>0</td>\n      <td>0</td>\n      <td>70000</td>\n      <td>229000</td>\n      <td>98002</td>\n      <td>0</td>\n      <td>1</td>\n      <td>0</td>\n      <td>0</td>\n    </tr>\n    <tr>\n      <th>2</th>\n      <td>2006-06-16</td>\n      <td>1000000</td>\n      <td>1200013</td>\n      <td>2006-06-01</td>\n      <td>404400</td>\n      <td>0.929228</td>\n      <td>1076162.0</td>\n      <td>1</td>\n      <td>20156</td>\n      <td>3764</td>\n      <td>...</td>\n      <td>2005</td>\n      <td>0</td>\n      <td>0</td>\n      <td>203000</td>\n      <td>590000</td>\n      <td>98166</td>\n      <td>1</td>\n      <td>0</td>\n      <td>1</td>\n      <td>0</td>\n    </tr>\n    <tr>\n      <th>3</th>\n      <td>2007-01-29</td>\n      <td>745000</td>\n      <td>1200019</td>\n      <td>2007-01-01</td>\n      <td>425600</td>\n      <td>0.977941</td>\n      <td>761805.0</td>\n      <td>1</td>\n      <td>26036</td>\n      <td>2060</td>\n      <td>...</td>\n      <td>1947</td>\n      <td>0</td>\n      <td>0</td>\n      <td>183000</td>\n      <td>275000</td>\n      <td>98166</td>\n      <td>0</td>\n      <td>0</td>\n      <td>1</td>\n      <td>0</td>\n    </tr>\n    <tr>\n      <th>4</th>\n      <td>2008-02-25</td>\n      <td>425000</td>\n      <td>2800016</td>\n      <td>2008-02-01</td>\n      <td>418400</td>\n      <td>0.961397</td>\n      <td>442065.0</td>\n      <td>1</td>\n      <td>8618</td>\n      <td>3200</td>\n      <td>...</td>\n      <td>1966</td>\n      <td>0</td>\n      <td>0</td>\n      <td>104000</td>\n      <td>229000</td>\n      <td>98168</td>\n      <td>0</td>\n      <td>0</td>\n      <td>1</td>\n      <td>0</td>\n    </tr>\n    <tr>\n      <th>5</th>\n      <td>2013-03-29</td>\n      <td>240000</td>\n      <td>2800024</td>\n      <td>2013-03-01</td>\n      <td>351600</td>\n      <td>0.807904</td>\n      <td>297065.0</td>\n      <td>1</td>\n      <td>8620</td>\n      <td>1720</td>\n      <td>...</td>\n      <td>1948</td>\n      <td>0</td>\n      <td>0</td>\n      <td>104000</td>\n      <td>205000</td>\n      <td>98168</td>\n      <td>0</td>\n      <td>0</td>\n      <td>1</td>\n      <td>0</td>\n    </tr>\n    <tr>\n      <th>...</th>\n      <td>...</td>\n      <td>...</td>\n      <td>...</td>\n      <td>...</td>\n      <td>...</td>\n      <td>...</td>\n      <td>...</td>\n      <td>...</td>\n      <td>...</td>\n      <td>...</td>\n      <td>...</td>\n      <td>...</td>\n      <td>...</td>\n      <td>...</td>\n      <td>...</td>\n      <td>...</td>\n      <td>...</td>\n      <td>...</td>\n      <td>...</td>\n      <td>...</td>\n      <td>...</td>\n    </tr>\n    <tr>\n      <th>27057</th>\n      <td>2011-04-08</td>\n      <td>325000</td>\n      <td>9842300710</td>\n      <td>2011-04-01</td>\n      <td>318700</td>\n      <td>0.732307</td>\n      <td>443803.0</td>\n      <td>1</td>\n      <td>5468</td>\n      <td>1480</td>\n      <td>...</td>\n      <td>1951</td>\n      <td>0</td>\n      <td>0</td>\n      <td>201000</td>\n      <td>172000</td>\n      <td>98126</td>\n      <td>0</td>\n      <td>0</td>\n      <td>1</td>\n      <td>0</td>\n    </tr>\n    <tr>\n      <th>27058</th>\n      <td>2007-09-28</td>\n      <td>1580000</td>\n      <td>9845500010</td>\n      <td>2007-09-01</td>\n      <td>433500</td>\n      <td>0.996094</td>\n      <td>1586196.0</td>\n      <td>1</td>\n      <td>23914</td>\n      <td>4720</td>\n      <td>...</td>\n      <td>2000</td>\n      <td>0</td>\n      <td>1</td>\n      <td>703000</td>\n      <td>951000</td>\n      <td>98040</td>\n      <td>0</td>\n      <td>0</td>\n      <td>1</td>\n      <td>0</td>\n    </tr>\n    <tr>\n      <th>27061</th>\n      <td>2012-07-09</td>\n      <td>165000</td>\n      <td>9899200010</td>\n      <td>2012-07-01</td>\n      <td>325300</td>\n      <td>0.747472</td>\n      <td>220744.0</td>\n      <td>1</td>\n      <td>11170</td>\n      <td>1070</td>\n      <td>...</td>\n      <td>1971</td>\n      <td>0</td>\n      <td>0</td>\n      <td>92000</td>\n      <td>130000</td>\n      <td>98055</td>\n      <td>0</td>\n      <td>0</td>\n      <td>1</td>\n      <td>0</td>\n    </tr>\n    <tr>\n      <th>27062</th>\n      <td>2006-05-26</td>\n      <td>315000</td>\n      <td>9900000355</td>\n      <td>2006-05-01</td>\n      <td>400600</td>\n      <td>0.920496</td>\n      <td>342207.0</td>\n      <td>1</td>\n      <td>6223</td>\n      <td>1345</td>\n      <td>...</td>\n      <td>1939</td>\n      <td>0</td>\n      <td>0</td>\n      <td>103000</td>\n      <td>212000</td>\n      <td>98166</td>\n      <td>0</td>\n      <td>0</td>\n      <td>1</td>\n      <td>0</td>\n    </tr>\n    <tr>\n      <th>27063</th>\n      <td>2007-01-09</td>\n      <td>465000</td>\n      <td>9906000035</td>\n      <td>2007-01-01</td>\n      <td>425600</td>\n      <td>0.977941</td>\n      <td>475489.0</td>\n      <td>1</td>\n      <td>4400</td>\n      <td>790</td>\n      <td>...</td>\n      <td>1928</td>\n      <td>0</td>\n      <td>0</td>\n      <td>311000</td>\n      <td>268000</td>\n      <td>98103</td>\n      <td>0</td>\n      <td>0</td>\n      <td>1</td>\n      <td>0</td>\n    </tr>\n  </tbody>\n</table>\n<p>22687 rows × 24 columns</p>\n</div>"
     },
     "execution_count": 3,
     "metadata": {},
     "output_type": "execute_result"
    }
   ],
   "source": [
    "data_without_dummies = pd.get_dummies(data,columns=['PropertyType'])\n",
    "data_without_dummies\n",
    "\n",
    "data_without_dummies['NewConstruction'] = pd.get_dummies(data['NewConstruction'],drop_first=True)\n",
    "\n",
    "data_without_dummies"
   ],
   "metadata": {
    "collapsed": false,
    "pycharm": {
     "name": "#%%\n"
    }
   }
  },
  {
   "cell_type": "code",
   "execution_count": 4,
   "outputs": [
    {
     "data": {
      "text/plain": "       SalePrice  zhvi_px  zhvi_idx  NbrLivingUnits  SqFtLot  SqFtTotLiving  \\\n1         280000   405100  0.930836               2     9373           2400   \n2        1000000   404400  0.929228               1    20156           3764   \n3         745000   425600  0.977941               1    26036           2060   \n4         425000   418400  0.961397               1     8618           3200   \n5         240000   351600  0.807904               1     8620           1720   \n...          ...      ...       ...             ...      ...            ...   \n27057     325000   318700  0.732307               1     5468           1480   \n27058    1580000   433500  0.996094               1    23914           4720   \n27061     165000   325300  0.747472               1    11170           1070   \n27062     315000   400600  0.920496               1     6223           1345   \n27063     465000   425600  0.977941               1     4400            790   \n\n       SqFtFinBasement  Bathrooms  Bedrooms  BldgGrade  YrBuilt  YrRenovated  \\\n1                    0       3.00         6          7     1991            0   \n2                 1452       3.75         4         10     2005            0   \n3                  900       1.75         4          8     1947            0   \n4                 1640       3.75         5          7     1966            0   \n5                    0       1.75         4          7     1948            0   \n...                ...        ...       ...        ...      ...          ...   \n27057              590       1.75         3          7     1951            0   \n27058              910       4.50         4         11     2000            0   \n27061                0       1.00         4          6     1971            0   \n27062                0       2.00         3          7     1939            0   \n27063                0       1.50         3          7     1928            0   \n\n       TrafficNoise  LandVal  ImpsVal  NewConstruction  \\\n1                 0    70000   229000                0   \n2                 0   203000   590000                1   \n3                 0   183000   275000                0   \n4                 0   104000   229000                0   \n5                 0   104000   205000                0   \n...             ...      ...      ...              ...   \n27057             0   201000   172000                0   \n27058             1   703000   951000                0   \n27061             0    92000   130000                0   \n27062             0   103000   212000                0   \n27063             0   311000   268000                0   \n\n       PropertyType_Multiplex  PropertyType_Single Family  \\\n1                           1                           0   \n2                           0                           1   \n3                           0                           1   \n4                           0                           1   \n5                           0                           1   \n...                       ...                         ...   \n27057                       0                           1   \n27058                       0                           1   \n27061                       0                           1   \n27062                       0                           1   \n27063                       0                           1   \n\n       PropertyType_Townhouse  \n1                           0  \n2                           0  \n3                           0  \n4                           0  \n5                           0  \n...                       ...  \n27057                       0  \n27058                       0  \n27061                       0  \n27062                       0  \n27063                       0  \n\n[22687 rows x 19 columns]",
      "text/html": "<div>\n<style scoped>\n    .dataframe tbody tr th:only-of-type {\n        vertical-align: middle;\n    }\n\n    .dataframe tbody tr th {\n        vertical-align: top;\n    }\n\n    .dataframe thead th {\n        text-align: right;\n    }\n</style>\n<table border=\"1\" class=\"dataframe\">\n  <thead>\n    <tr style=\"text-align: right;\">\n      <th></th>\n      <th>SalePrice</th>\n      <th>zhvi_px</th>\n      <th>zhvi_idx</th>\n      <th>NbrLivingUnits</th>\n      <th>SqFtLot</th>\n      <th>SqFtTotLiving</th>\n      <th>SqFtFinBasement</th>\n      <th>Bathrooms</th>\n      <th>Bedrooms</th>\n      <th>BldgGrade</th>\n      <th>YrBuilt</th>\n      <th>YrRenovated</th>\n      <th>TrafficNoise</th>\n      <th>LandVal</th>\n      <th>ImpsVal</th>\n      <th>NewConstruction</th>\n      <th>PropertyType_Multiplex</th>\n      <th>PropertyType_Single Family</th>\n      <th>PropertyType_Townhouse</th>\n    </tr>\n  </thead>\n  <tbody>\n    <tr>\n      <th>1</th>\n      <td>280000</td>\n      <td>405100</td>\n      <td>0.930836</td>\n      <td>2</td>\n      <td>9373</td>\n      <td>2400</td>\n      <td>0</td>\n      <td>3.00</td>\n      <td>6</td>\n      <td>7</td>\n      <td>1991</td>\n      <td>0</td>\n      <td>0</td>\n      <td>70000</td>\n      <td>229000</td>\n      <td>0</td>\n      <td>1</td>\n      <td>0</td>\n      <td>0</td>\n    </tr>\n    <tr>\n      <th>2</th>\n      <td>1000000</td>\n      <td>404400</td>\n      <td>0.929228</td>\n      <td>1</td>\n      <td>20156</td>\n      <td>3764</td>\n      <td>1452</td>\n      <td>3.75</td>\n      <td>4</td>\n      <td>10</td>\n      <td>2005</td>\n      <td>0</td>\n      <td>0</td>\n      <td>203000</td>\n      <td>590000</td>\n      <td>1</td>\n      <td>0</td>\n      <td>1</td>\n      <td>0</td>\n    </tr>\n    <tr>\n      <th>3</th>\n      <td>745000</td>\n      <td>425600</td>\n      <td>0.977941</td>\n      <td>1</td>\n      <td>26036</td>\n      <td>2060</td>\n      <td>900</td>\n      <td>1.75</td>\n      <td>4</td>\n      <td>8</td>\n      <td>1947</td>\n      <td>0</td>\n      <td>0</td>\n      <td>183000</td>\n      <td>275000</td>\n      <td>0</td>\n      <td>0</td>\n      <td>1</td>\n      <td>0</td>\n    </tr>\n    <tr>\n      <th>4</th>\n      <td>425000</td>\n      <td>418400</td>\n      <td>0.961397</td>\n      <td>1</td>\n      <td>8618</td>\n      <td>3200</td>\n      <td>1640</td>\n      <td>3.75</td>\n      <td>5</td>\n      <td>7</td>\n      <td>1966</td>\n      <td>0</td>\n      <td>0</td>\n      <td>104000</td>\n      <td>229000</td>\n      <td>0</td>\n      <td>0</td>\n      <td>1</td>\n      <td>0</td>\n    </tr>\n    <tr>\n      <th>5</th>\n      <td>240000</td>\n      <td>351600</td>\n      <td>0.807904</td>\n      <td>1</td>\n      <td>8620</td>\n      <td>1720</td>\n      <td>0</td>\n      <td>1.75</td>\n      <td>4</td>\n      <td>7</td>\n      <td>1948</td>\n      <td>0</td>\n      <td>0</td>\n      <td>104000</td>\n      <td>205000</td>\n      <td>0</td>\n      <td>0</td>\n      <td>1</td>\n      <td>0</td>\n    </tr>\n    <tr>\n      <th>...</th>\n      <td>...</td>\n      <td>...</td>\n      <td>...</td>\n      <td>...</td>\n      <td>...</td>\n      <td>...</td>\n      <td>...</td>\n      <td>...</td>\n      <td>...</td>\n      <td>...</td>\n      <td>...</td>\n      <td>...</td>\n      <td>...</td>\n      <td>...</td>\n      <td>...</td>\n      <td>...</td>\n      <td>...</td>\n      <td>...</td>\n      <td>...</td>\n    </tr>\n    <tr>\n      <th>27057</th>\n      <td>325000</td>\n      <td>318700</td>\n      <td>0.732307</td>\n      <td>1</td>\n      <td>5468</td>\n      <td>1480</td>\n      <td>590</td>\n      <td>1.75</td>\n      <td>3</td>\n      <td>7</td>\n      <td>1951</td>\n      <td>0</td>\n      <td>0</td>\n      <td>201000</td>\n      <td>172000</td>\n      <td>0</td>\n      <td>0</td>\n      <td>1</td>\n      <td>0</td>\n    </tr>\n    <tr>\n      <th>27058</th>\n      <td>1580000</td>\n      <td>433500</td>\n      <td>0.996094</td>\n      <td>1</td>\n      <td>23914</td>\n      <td>4720</td>\n      <td>910</td>\n      <td>4.50</td>\n      <td>4</td>\n      <td>11</td>\n      <td>2000</td>\n      <td>0</td>\n      <td>1</td>\n      <td>703000</td>\n      <td>951000</td>\n      <td>0</td>\n      <td>0</td>\n      <td>1</td>\n      <td>0</td>\n    </tr>\n    <tr>\n      <th>27061</th>\n      <td>165000</td>\n      <td>325300</td>\n      <td>0.747472</td>\n      <td>1</td>\n      <td>11170</td>\n      <td>1070</td>\n      <td>0</td>\n      <td>1.00</td>\n      <td>4</td>\n      <td>6</td>\n      <td>1971</td>\n      <td>0</td>\n      <td>0</td>\n      <td>92000</td>\n      <td>130000</td>\n      <td>0</td>\n      <td>0</td>\n      <td>1</td>\n      <td>0</td>\n    </tr>\n    <tr>\n      <th>27062</th>\n      <td>315000</td>\n      <td>400600</td>\n      <td>0.920496</td>\n      <td>1</td>\n      <td>6223</td>\n      <td>1345</td>\n      <td>0</td>\n      <td>2.00</td>\n      <td>3</td>\n      <td>7</td>\n      <td>1939</td>\n      <td>0</td>\n      <td>0</td>\n      <td>103000</td>\n      <td>212000</td>\n      <td>0</td>\n      <td>0</td>\n      <td>1</td>\n      <td>0</td>\n    </tr>\n    <tr>\n      <th>27063</th>\n      <td>465000</td>\n      <td>425600</td>\n      <td>0.977941</td>\n      <td>1</td>\n      <td>4400</td>\n      <td>790</td>\n      <td>0</td>\n      <td>1.50</td>\n      <td>3</td>\n      <td>7</td>\n      <td>1928</td>\n      <td>0</td>\n      <td>0</td>\n      <td>311000</td>\n      <td>268000</td>\n      <td>0</td>\n      <td>0</td>\n      <td>1</td>\n      <td>0</td>\n    </tr>\n  </tbody>\n</table>\n<p>22687 rows × 19 columns</p>\n</div>"
     },
     "execution_count": 4,
     "metadata": {},
     "output_type": "execute_result"
    }
   ],
   "source": [
    "cleaned_data = data_without_dummies.drop(['DocumentDate','ym','AdjSalePrice','PropertyID','ZipCode'],axis=1)\n",
    "cleaned_data"
   ],
   "metadata": {
    "collapsed": false,
    "pycharm": {
     "name": "#%%\n"
    }
   }
  },
  {
   "cell_type": "code",
   "execution_count": 5,
   "outputs": [
    {
     "data": {
      "text/plain": "array([ 1.07241884e+00, -1.45006882e+00, -3.32291522e-06,  2.79560961e+03,\n        1.68564694e-02,  2.08869185e+00, -7.79341291e-01, -5.41986826e+02,\n       -4.03869018e+02,  5.62459949e+02, -3.39883262e+01, -1.77676086e-02,\n        1.07769949e+02,  4.08222421e-02,  3.16066201e-02, -1.47359839e+03,\n       -1.68285141e+03, -3.38972678e+02,  2.02182409e+03])"
     },
     "execution_count": 5,
     "metadata": {},
     "output_type": "execute_result"
    }
   ],
   "source": [
    "model = LinearRegression()\n",
    "\n",
    "model.fit(cleaned_data,data['AdjSalePrice'])\n",
    "\n",
    "model.coef_"
   ],
   "metadata": {
    "collapsed": false,
    "pycharm": {
     "name": "#%%\n"
    }
   }
  },
  {
   "cell_type": "code",
   "execution_count": 6,
   "outputs": [],
   "source": [
    "# Factor variables con muchos niveles\n",
    "\n",
    "# Zip code y building grade (bldggrade)"
   ],
   "metadata": {
    "collapsed": false,
    "pycharm": {
     "name": "#%%\n"
    }
   }
  },
  {
   "cell_type": "code",
   "execution_count": 7,
   "outputs": [
    {
     "data": {
      "text/plain": "98038    788\n98103    671\n98042    641\n98115    620\n98117    619\n        ... \n98288      4\n98224      3\n98068      1\n98113      1\n98043      1\nName: ZipCode, Length: 80, dtype: int64"
     },
     "execution_count": 7,
     "metadata": {},
     "output_type": "execute_result"
    }
   ],
   "source": [
    "data['ZipCode'].value_counts()"
   ],
   "metadata": {
    "collapsed": false,
    "pycharm": {
     "name": "#%%\n"
    }
   }
  },
  {
   "cell_type": "code",
   "execution_count": 8,
   "outputs": [
    {
     "data": {
      "text/plain": "       ZipCode  puntajeZipCode\n1        98002     7467.163327\n2        98166    -7758.394335\n3        98166    -7508.757846\n4        98168    11348.927433\n5        98168   -31646.147612\n...        ...             ...\n27057    98126   -25975.427128\n27058    98040  -113741.248016\n27061    98055   -60559.814174\n27062    98166     4186.784643\n27063    98103     3141.770505\n\n[22687 rows x 2 columns]",
      "text/html": "<div>\n<style scoped>\n    .dataframe tbody tr th:only-of-type {\n        vertical-align: middle;\n    }\n\n    .dataframe tbody tr th {\n        vertical-align: top;\n    }\n\n    .dataframe thead th {\n        text-align: right;\n    }\n</style>\n<table border=\"1\" class=\"dataframe\">\n  <thead>\n    <tr style=\"text-align: right;\">\n      <th></th>\n      <th>ZipCode</th>\n      <th>puntajeZipCode</th>\n    </tr>\n  </thead>\n  <tbody>\n    <tr>\n      <th>1</th>\n      <td>98002</td>\n      <td>7467.163327</td>\n    </tr>\n    <tr>\n      <th>2</th>\n      <td>98166</td>\n      <td>-7758.394335</td>\n    </tr>\n    <tr>\n      <th>3</th>\n      <td>98166</td>\n      <td>-7508.757846</td>\n    </tr>\n    <tr>\n      <th>4</th>\n      <td>98168</td>\n      <td>11348.927433</td>\n    </tr>\n    <tr>\n      <th>5</th>\n      <td>98168</td>\n      <td>-31646.147612</td>\n    </tr>\n    <tr>\n      <th>...</th>\n      <td>...</td>\n      <td>...</td>\n    </tr>\n    <tr>\n      <th>27057</th>\n      <td>98126</td>\n      <td>-25975.427128</td>\n    </tr>\n    <tr>\n      <th>27058</th>\n      <td>98040</td>\n      <td>-113741.248016</td>\n    </tr>\n    <tr>\n      <th>27061</th>\n      <td>98055</td>\n      <td>-60559.814174</td>\n    </tr>\n    <tr>\n      <th>27062</th>\n      <td>98166</td>\n      <td>4186.784643</td>\n    </tr>\n    <tr>\n      <th>27063</th>\n      <td>98103</td>\n      <td>3141.770505</td>\n    </tr>\n  </tbody>\n</table>\n<p>22687 rows × 2 columns</p>\n</div>"
     },
     "execution_count": 8,
     "metadata": {},
     "output_type": "execute_result"
    }
   ],
   "source": [
    "zipcode_df = pd.DataFrame({\n",
    "    'ZipCode': data['ZipCode'],\n",
    "    'puntajeZipCode': data['AdjSalePrice'] - model.predict(cleaned_data)\n",
    "})\n",
    "zipcode_df"
   ],
   "metadata": {
    "collapsed": false,
    "pycharm": {
     "name": "#%%\n"
    }
   }
  },
  {
   "cell_type": "code",
   "execution_count": 9,
   "outputs": [
    {
     "data": {
      "text/plain": "    ZipCode  Count  Residual_avg\n77    98224      3  23077.301518\n55    98113      1  39398.712620\n36    98057      4  49591.922685\n40    98068      1  54926.098656\n27    98043      1  57229.578757\n..      ...    ...           ...\n66    98144    332  98144.000000\n67    98146    287  98146.000000\n69    98155    358  98155.000000\n72    98177    216  98177.000000\n76    98199    393  98199.000000\n\n[80 rows x 3 columns]",
      "text/html": "<div>\n<style scoped>\n    .dataframe tbody tr th:only-of-type {\n        vertical-align: middle;\n    }\n\n    .dataframe tbody tr th {\n        vertical-align: top;\n    }\n\n    .dataframe thead th {\n        text-align: right;\n    }\n</style>\n<table border=\"1\" class=\"dataframe\">\n  <thead>\n    <tr style=\"text-align: right;\">\n      <th></th>\n      <th>ZipCode</th>\n      <th>Count</th>\n      <th>Residual_avg</th>\n    </tr>\n  </thead>\n  <tbody>\n    <tr>\n      <th>77</th>\n      <td>98224</td>\n      <td>3</td>\n      <td>23077.301518</td>\n    </tr>\n    <tr>\n      <th>55</th>\n      <td>98113</td>\n      <td>1</td>\n      <td>39398.712620</td>\n    </tr>\n    <tr>\n      <th>36</th>\n      <td>98057</td>\n      <td>4</td>\n      <td>49591.922685</td>\n    </tr>\n    <tr>\n      <th>40</th>\n      <td>98068</td>\n      <td>1</td>\n      <td>54926.098656</td>\n    </tr>\n    <tr>\n      <th>27</th>\n      <td>98043</td>\n      <td>1</td>\n      <td>57229.578757</td>\n    </tr>\n    <tr>\n      <th>...</th>\n      <td>...</td>\n      <td>...</td>\n      <td>...</td>\n    </tr>\n    <tr>\n      <th>66</th>\n      <td>98144</td>\n      <td>332</td>\n      <td>98144.000000</td>\n    </tr>\n    <tr>\n      <th>67</th>\n      <td>98146</td>\n      <td>287</td>\n      <td>98146.000000</td>\n    </tr>\n    <tr>\n      <th>69</th>\n      <td>98155</td>\n      <td>358</td>\n      <td>98155.000000</td>\n    </tr>\n    <tr>\n      <th>72</th>\n      <td>98177</td>\n      <td>216</td>\n      <td>98177.000000</td>\n    </tr>\n    <tr>\n      <th>76</th>\n      <td>98199</td>\n      <td>393</td>\n      <td>98199.000000</td>\n    </tr>\n  </tbody>\n</table>\n<p>80 rows × 3 columns</p>\n</div>"
     },
     "execution_count": 9,
     "metadata": {},
     "output_type": "execute_result"
    }
   ],
   "source": [
    "grouped = pd.DataFrame([{\n",
    "    'ZipCode':row[0],\n",
    "    'Count':len(row[1]),\n",
    "    'Residual_avg': np.percentile(np.array(row[1]),50)\n",
    "} for row in zipcode_df.groupby(['ZipCode'])]).sort_values('Residual_avg')\n",
    "\n",
    "grouped"
   ],
   "metadata": {
    "collapsed": false,
    "pycharm": {
     "name": "#%%\n"
    }
   }
  },
  {
   "cell_type": "code",
   "execution_count": 10,
   "outputs": [
    {
     "data": {
      "text/plain": "77        3\n55        4\n36        8\n40        9\n27       10\n      ...  \n66    21433\n67    21720\n69    22078\n72    22294\n76    22687\nName: Count, Length: 80, dtype: int64"
     },
     "execution_count": 10,
     "metadata": {},
     "output_type": "execute_result"
    }
   ],
   "source": [
    "np.cumsum(grouped['Count'])"
   ],
   "metadata": {
    "collapsed": false,
    "pycharm": {
     "name": "#%%\n"
    }
   }
  },
  {
   "cell_type": "code",
   "execution_count": 11,
   "outputs": [],
   "source": [
    "# Agregar el valor de los grupos al cleaned_data\n",
    "grouped['ZipGroup'] = pd.qcut(np.cumsum(grouped['Count']),5,labels=False,retbins=False)"
   ],
   "metadata": {
    "collapsed": false,
    "pycharm": {
     "name": "#%%\n"
    }
   }
  },
  {
   "cell_type": "code",
   "execution_count": 12,
   "outputs": [
    {
     "data": {
      "text/plain": "    ZipCode  Count  Residual_avg  ZipGroup\n77    98224      3  23077.301518         0\n55    98113      1  39398.712620         0\n36    98057      4  49591.922685         0\n40    98068      1  54926.098656         0\n27    98043      1  57229.578757         0\n..      ...    ...           ...       ...\n66    98144    332  98144.000000         4\n67    98146    287  98146.000000         4\n69    98155    358  98155.000000         4\n72    98177    216  98177.000000         4\n76    98199    393  98199.000000         4\n\n[80 rows x 4 columns]",
      "text/html": "<div>\n<style scoped>\n    .dataframe tbody tr th:only-of-type {\n        vertical-align: middle;\n    }\n\n    .dataframe tbody tr th {\n        vertical-align: top;\n    }\n\n    .dataframe thead th {\n        text-align: right;\n    }\n</style>\n<table border=\"1\" class=\"dataframe\">\n  <thead>\n    <tr style=\"text-align: right;\">\n      <th></th>\n      <th>ZipCode</th>\n      <th>Count</th>\n      <th>Residual_avg</th>\n      <th>ZipGroup</th>\n    </tr>\n  </thead>\n  <tbody>\n    <tr>\n      <th>77</th>\n      <td>98224</td>\n      <td>3</td>\n      <td>23077.301518</td>\n      <td>0</td>\n    </tr>\n    <tr>\n      <th>55</th>\n      <td>98113</td>\n      <td>1</td>\n      <td>39398.712620</td>\n      <td>0</td>\n    </tr>\n    <tr>\n      <th>36</th>\n      <td>98057</td>\n      <td>4</td>\n      <td>49591.922685</td>\n      <td>0</td>\n    </tr>\n    <tr>\n      <th>40</th>\n      <td>98068</td>\n      <td>1</td>\n      <td>54926.098656</td>\n      <td>0</td>\n    </tr>\n    <tr>\n      <th>27</th>\n      <td>98043</td>\n      <td>1</td>\n      <td>57229.578757</td>\n      <td>0</td>\n    </tr>\n    <tr>\n      <th>...</th>\n      <td>...</td>\n      <td>...</td>\n      <td>...</td>\n      <td>...</td>\n    </tr>\n    <tr>\n      <th>66</th>\n      <td>98144</td>\n      <td>332</td>\n      <td>98144.000000</td>\n      <td>4</td>\n    </tr>\n    <tr>\n      <th>67</th>\n      <td>98146</td>\n      <td>287</td>\n      <td>98146.000000</td>\n      <td>4</td>\n    </tr>\n    <tr>\n      <th>69</th>\n      <td>98155</td>\n      <td>358</td>\n      <td>98155.000000</td>\n      <td>4</td>\n    </tr>\n    <tr>\n      <th>72</th>\n      <td>98177</td>\n      <td>216</td>\n      <td>98177.000000</td>\n      <td>4</td>\n    </tr>\n    <tr>\n      <th>76</th>\n      <td>98199</td>\n      <td>393</td>\n      <td>98199.000000</td>\n      <td>4</td>\n    </tr>\n  </tbody>\n</table>\n<p>80 rows × 4 columns</p>\n</div>"
     },
     "execution_count": 12,
     "metadata": {},
     "output_type": "execute_result"
    }
   ],
   "source": [
    "grouped"
   ],
   "metadata": {
    "collapsed": false,
    "pycharm": {
     "name": "#%%\n"
    }
   }
  },
  {
   "cell_type": "code",
   "execution_count": 13,
   "outputs": [],
   "source": [
    "join = grouped[['ZipCode','ZipGroup']].set_index('ZipCode')"
   ],
   "metadata": {
    "collapsed": false,
    "pycharm": {
     "name": "#%%\n"
    }
   }
  },
  {
   "cell_type": "code",
   "execution_count": 14,
   "outputs": [
    {
     "data": {
      "text/plain": "         ZipGroup\nZipCode          \n98224           0\n98113           0\n98057           0\n98068           0\n98043           0\n...           ...\n98144           4\n98146           4\n98155           4\n98177           4\n98199           4\n\n[80 rows x 1 columns]",
      "text/html": "<div>\n<style scoped>\n    .dataframe tbody tr th:only-of-type {\n        vertical-align: middle;\n    }\n\n    .dataframe tbody tr th {\n        vertical-align: top;\n    }\n\n    .dataframe thead th {\n        text-align: right;\n    }\n</style>\n<table border=\"1\" class=\"dataframe\">\n  <thead>\n    <tr style=\"text-align: right;\">\n      <th></th>\n      <th>ZipGroup</th>\n    </tr>\n    <tr>\n      <th>ZipCode</th>\n      <th></th>\n    </tr>\n  </thead>\n  <tbody>\n    <tr>\n      <th>98224</th>\n      <td>0</td>\n    </tr>\n    <tr>\n      <th>98113</th>\n      <td>0</td>\n    </tr>\n    <tr>\n      <th>98057</th>\n      <td>0</td>\n    </tr>\n    <tr>\n      <th>98068</th>\n      <td>0</td>\n    </tr>\n    <tr>\n      <th>98043</th>\n      <td>0</td>\n    </tr>\n    <tr>\n      <th>...</th>\n      <td>...</td>\n    </tr>\n    <tr>\n      <th>98144</th>\n      <td>4</td>\n    </tr>\n    <tr>\n      <th>98146</th>\n      <td>4</td>\n    </tr>\n    <tr>\n      <th>98155</th>\n      <td>4</td>\n    </tr>\n    <tr>\n      <th>98177</th>\n      <td>4</td>\n    </tr>\n    <tr>\n      <th>98199</th>\n      <td>4</td>\n    </tr>\n  </tbody>\n</table>\n<p>80 rows × 1 columns</p>\n</div>"
     },
     "execution_count": 14,
     "metadata": {},
     "output_type": "execute_result"
    }
   ],
   "source": [
    "join"
   ],
   "metadata": {
    "collapsed": false,
    "pycharm": {
     "name": "#%%\n"
    }
   }
  },
  {
   "cell_type": "code",
   "execution_count": 15,
   "outputs": [
    {
     "data": {
      "text/plain": "       SalePrice  zhvi_px  zhvi_idx  NbrLivingUnits  SqFtLot  SqFtTotLiving  \\\n1         280000   405100  0.930836               2     9373           2400   \n2        1000000   404400  0.929228               1    20156           3764   \n3         745000   425600  0.977941               1    26036           2060   \n4         425000   418400  0.961397               1     8618           3200   \n5         240000   351600  0.807904               1     8620           1720   \n...          ...      ...       ...             ...      ...            ...   \n27057     325000   318700  0.732307               1     5468           1480   \n27058    1580000   433500  0.996094               1    23914           4720   \n27061     165000   325300  0.747472               1    11170           1070   \n27062     315000   400600  0.920496               1     6223           1345   \n27063     465000   425600  0.977941               1     4400            790   \n\n       SqFtFinBasement  Bathrooms  Bedrooms  BldgGrade  ...  YrRenovated  \\\n1                    0       3.00         6          7  ...            0   \n2                 1452       3.75         4         10  ...            0   \n3                  900       1.75         4          8  ...            0   \n4                 1640       3.75         5          7  ...            0   \n5                    0       1.75         4          7  ...            0   \n...                ...        ...       ...        ...  ...          ...   \n27057              590       1.75         3          7  ...            0   \n27058              910       4.50         4         11  ...            0   \n27061                0       1.00         4          6  ...            0   \n27062                0       2.00         3          7  ...            0   \n27063                0       1.50         3          7  ...            0   \n\n       TrafficNoise  LandVal  ImpsVal  NewConstruction  \\\n1                 0    70000   229000                0   \n2                 0   203000   590000                1   \n3                 0   183000   275000                0   \n4                 0   104000   229000                0   \n5                 0   104000   205000                0   \n...             ...      ...      ...              ...   \n27057             0   201000   172000                0   \n27058             1   703000   951000                0   \n27061             0    92000   130000                0   \n27062             0   103000   212000                0   \n27063             0   311000   268000                0   \n\n       PropertyType_Multiplex  PropertyType_Single Family  \\\n1                           1                           0   \n2                           0                           1   \n3                           0                           1   \n4                           0                           1   \n5                           0                           1   \n...                       ...                         ...   \n27057                       0                           1   \n27058                       0                           1   \n27061                       0                           1   \n27062                       0                           1   \n27063                       0                           1   \n\n       PropertyType_Townhouse  ZipCode  ZipGroup  \n1                           0    98002         1  \n2                           0    98166         1  \n3                           0    98166         1  \n4                           0    98168         1  \n5                           0    98168         1  \n...                       ...      ...       ...  \n27057                       0    98126         2  \n27058                       0    98040         3  \n27061                       0    98055         1  \n27062                       0    98166         1  \n27063                       0    98103         3  \n\n[22687 rows x 21 columns]",
      "text/html": "<div>\n<style scoped>\n    .dataframe tbody tr th:only-of-type {\n        vertical-align: middle;\n    }\n\n    .dataframe tbody tr th {\n        vertical-align: top;\n    }\n\n    .dataframe thead th {\n        text-align: right;\n    }\n</style>\n<table border=\"1\" class=\"dataframe\">\n  <thead>\n    <tr style=\"text-align: right;\">\n      <th></th>\n      <th>SalePrice</th>\n      <th>zhvi_px</th>\n      <th>zhvi_idx</th>\n      <th>NbrLivingUnits</th>\n      <th>SqFtLot</th>\n      <th>SqFtTotLiving</th>\n      <th>SqFtFinBasement</th>\n      <th>Bathrooms</th>\n      <th>Bedrooms</th>\n      <th>BldgGrade</th>\n      <th>...</th>\n      <th>YrRenovated</th>\n      <th>TrafficNoise</th>\n      <th>LandVal</th>\n      <th>ImpsVal</th>\n      <th>NewConstruction</th>\n      <th>PropertyType_Multiplex</th>\n      <th>PropertyType_Single Family</th>\n      <th>PropertyType_Townhouse</th>\n      <th>ZipCode</th>\n      <th>ZipGroup</th>\n    </tr>\n  </thead>\n  <tbody>\n    <tr>\n      <th>1</th>\n      <td>280000</td>\n      <td>405100</td>\n      <td>0.930836</td>\n      <td>2</td>\n      <td>9373</td>\n      <td>2400</td>\n      <td>0</td>\n      <td>3.00</td>\n      <td>6</td>\n      <td>7</td>\n      <td>...</td>\n      <td>0</td>\n      <td>0</td>\n      <td>70000</td>\n      <td>229000</td>\n      <td>0</td>\n      <td>1</td>\n      <td>0</td>\n      <td>0</td>\n      <td>98002</td>\n      <td>1</td>\n    </tr>\n    <tr>\n      <th>2</th>\n      <td>1000000</td>\n      <td>404400</td>\n      <td>0.929228</td>\n      <td>1</td>\n      <td>20156</td>\n      <td>3764</td>\n      <td>1452</td>\n      <td>3.75</td>\n      <td>4</td>\n      <td>10</td>\n      <td>...</td>\n      <td>0</td>\n      <td>0</td>\n      <td>203000</td>\n      <td>590000</td>\n      <td>1</td>\n      <td>0</td>\n      <td>1</td>\n      <td>0</td>\n      <td>98166</td>\n      <td>1</td>\n    </tr>\n    <tr>\n      <th>3</th>\n      <td>745000</td>\n      <td>425600</td>\n      <td>0.977941</td>\n      <td>1</td>\n      <td>26036</td>\n      <td>2060</td>\n      <td>900</td>\n      <td>1.75</td>\n      <td>4</td>\n      <td>8</td>\n      <td>...</td>\n      <td>0</td>\n      <td>0</td>\n      <td>183000</td>\n      <td>275000</td>\n      <td>0</td>\n      <td>0</td>\n      <td>1</td>\n      <td>0</td>\n      <td>98166</td>\n      <td>1</td>\n    </tr>\n    <tr>\n      <th>4</th>\n      <td>425000</td>\n      <td>418400</td>\n      <td>0.961397</td>\n      <td>1</td>\n      <td>8618</td>\n      <td>3200</td>\n      <td>1640</td>\n      <td>3.75</td>\n      <td>5</td>\n      <td>7</td>\n      <td>...</td>\n      <td>0</td>\n      <td>0</td>\n      <td>104000</td>\n      <td>229000</td>\n      <td>0</td>\n      <td>0</td>\n      <td>1</td>\n      <td>0</td>\n      <td>98168</td>\n      <td>1</td>\n    </tr>\n    <tr>\n      <th>5</th>\n      <td>240000</td>\n      <td>351600</td>\n      <td>0.807904</td>\n      <td>1</td>\n      <td>8620</td>\n      <td>1720</td>\n      <td>0</td>\n      <td>1.75</td>\n      <td>4</td>\n      <td>7</td>\n      <td>...</td>\n      <td>0</td>\n      <td>0</td>\n      <td>104000</td>\n      <td>205000</td>\n      <td>0</td>\n      <td>0</td>\n      <td>1</td>\n      <td>0</td>\n      <td>98168</td>\n      <td>1</td>\n    </tr>\n    <tr>\n      <th>...</th>\n      <td>...</td>\n      <td>...</td>\n      <td>...</td>\n      <td>...</td>\n      <td>...</td>\n      <td>...</td>\n      <td>...</td>\n      <td>...</td>\n      <td>...</td>\n      <td>...</td>\n      <td>...</td>\n      <td>...</td>\n      <td>...</td>\n      <td>...</td>\n      <td>...</td>\n      <td>...</td>\n      <td>...</td>\n      <td>...</td>\n      <td>...</td>\n      <td>...</td>\n      <td>...</td>\n    </tr>\n    <tr>\n      <th>27057</th>\n      <td>325000</td>\n      <td>318700</td>\n      <td>0.732307</td>\n      <td>1</td>\n      <td>5468</td>\n      <td>1480</td>\n      <td>590</td>\n      <td>1.75</td>\n      <td>3</td>\n      <td>7</td>\n      <td>...</td>\n      <td>0</td>\n      <td>0</td>\n      <td>201000</td>\n      <td>172000</td>\n      <td>0</td>\n      <td>0</td>\n      <td>1</td>\n      <td>0</td>\n      <td>98126</td>\n      <td>2</td>\n    </tr>\n    <tr>\n      <th>27058</th>\n      <td>1580000</td>\n      <td>433500</td>\n      <td>0.996094</td>\n      <td>1</td>\n      <td>23914</td>\n      <td>4720</td>\n      <td>910</td>\n      <td>4.50</td>\n      <td>4</td>\n      <td>11</td>\n      <td>...</td>\n      <td>0</td>\n      <td>1</td>\n      <td>703000</td>\n      <td>951000</td>\n      <td>0</td>\n      <td>0</td>\n      <td>1</td>\n      <td>0</td>\n      <td>98040</td>\n      <td>3</td>\n    </tr>\n    <tr>\n      <th>27061</th>\n      <td>165000</td>\n      <td>325300</td>\n      <td>0.747472</td>\n      <td>1</td>\n      <td>11170</td>\n      <td>1070</td>\n      <td>0</td>\n      <td>1.00</td>\n      <td>4</td>\n      <td>6</td>\n      <td>...</td>\n      <td>0</td>\n      <td>0</td>\n      <td>92000</td>\n      <td>130000</td>\n      <td>0</td>\n      <td>0</td>\n      <td>1</td>\n      <td>0</td>\n      <td>98055</td>\n      <td>1</td>\n    </tr>\n    <tr>\n      <th>27062</th>\n      <td>315000</td>\n      <td>400600</td>\n      <td>0.920496</td>\n      <td>1</td>\n      <td>6223</td>\n      <td>1345</td>\n      <td>0</td>\n      <td>2.00</td>\n      <td>3</td>\n      <td>7</td>\n      <td>...</td>\n      <td>0</td>\n      <td>0</td>\n      <td>103000</td>\n      <td>212000</td>\n      <td>0</td>\n      <td>0</td>\n      <td>1</td>\n      <td>0</td>\n      <td>98166</td>\n      <td>1</td>\n    </tr>\n    <tr>\n      <th>27063</th>\n      <td>465000</td>\n      <td>425600</td>\n      <td>0.977941</td>\n      <td>1</td>\n      <td>4400</td>\n      <td>790</td>\n      <td>0</td>\n      <td>1.50</td>\n      <td>3</td>\n      <td>7</td>\n      <td>...</td>\n      <td>0</td>\n      <td>0</td>\n      <td>311000</td>\n      <td>268000</td>\n      <td>0</td>\n      <td>0</td>\n      <td>1</td>\n      <td>0</td>\n      <td>98103</td>\n      <td>3</td>\n    </tr>\n  </tbody>\n</table>\n<p>22687 rows × 21 columns</p>\n</div>"
     },
     "execution_count": 15,
     "metadata": {},
     "output_type": "execute_result"
    }
   ],
   "source": [
    "cleaned_data['ZipCode'] = data['ZipCode']\n",
    "\n",
    "cleaned_data = cleaned_data.join(join,on='ZipCode')\n",
    "\n",
    "cleaned_data"
   ],
   "metadata": {
    "collapsed": false,
    "pycharm": {
     "name": "#%%\n"
    }
   }
  },
  {
   "cell_type": "code",
   "execution_count": 16,
   "outputs": [
    {
     "data": {
      "text/plain": "SalePrice                        int64\nzhvi_px                          int64\nzhvi_idx                       float64\nNbrLivingUnits                   int64\nSqFtLot                          int64\nSqFtTotLiving                    int64\nSqFtFinBasement                  int64\nBathrooms                      float64\nBedrooms                         int64\nBldgGrade                        int64\nYrBuilt                          int64\nYrRenovated                      int64\nTrafficNoise                     int64\nLandVal                          int64\nImpsVal                          int64\nNewConstruction                  uint8\nPropertyType_Multiplex           uint8\nPropertyType_Single Family       uint8\nPropertyType_Townhouse           uint8\nZipCode                          int64\nZipGroup                      category\ndtype: object"
     },
     "execution_count": 16,
     "metadata": {},
     "output_type": "execute_result"
    }
   ],
   "source": [
    "cleaned_data['ZipGroup'] = cleaned_data['ZipGroup'].astype('category')\n",
    "\n",
    "cleaned_data.dtypes"
   ],
   "metadata": {
    "collapsed": false,
    "pycharm": {
     "name": "#%%\n"
    }
   }
  },
  {
   "cell_type": "code",
   "execution_count": 18,
   "outputs": [],
   "source": [
    "cleaned_data.drop(['ZipCode'], axis=1,inplace=True)"
   ],
   "metadata": {
    "collapsed": false,
    "pycharm": {
     "name": "#%%\n"
    }
   }
  },
  {
   "cell_type": "code",
   "execution_count": 19,
   "outputs": [
    {
     "data": {
      "text/plain": "       SalePrice  zhvi_px  zhvi_idx  NbrLivingUnits  SqFtLot  SqFtTotLiving  \\\n1         280000   405100  0.930836               2     9373           2400   \n2        1000000   404400  0.929228               1    20156           3764   \n3         745000   425600  0.977941               1    26036           2060   \n4         425000   418400  0.961397               1     8618           3200   \n5         240000   351600  0.807904               1     8620           1720   \n...          ...      ...       ...             ...      ...            ...   \n27057     325000   318700  0.732307               1     5468           1480   \n27058    1580000   433500  0.996094               1    23914           4720   \n27061     165000   325300  0.747472               1    11170           1070   \n27062     315000   400600  0.920496               1     6223           1345   \n27063     465000   425600  0.977941               1     4400            790   \n\n       SqFtFinBasement  Bathrooms  Bedrooms  BldgGrade  YrBuilt  YrRenovated  \\\n1                    0       3.00         6          7     1991            0   \n2                 1452       3.75         4         10     2005            0   \n3                  900       1.75         4          8     1947            0   \n4                 1640       3.75         5          7     1966            0   \n5                    0       1.75         4          7     1948            0   \n...                ...        ...       ...        ...      ...          ...   \n27057              590       1.75         3          7     1951            0   \n27058              910       4.50         4         11     2000            0   \n27061                0       1.00         4          6     1971            0   \n27062                0       2.00         3          7     1939            0   \n27063                0       1.50         3          7     1928            0   \n\n       TrafficNoise  LandVal  ImpsVal  NewConstruction  \\\n1                 0    70000   229000                0   \n2                 0   203000   590000                1   \n3                 0   183000   275000                0   \n4                 0   104000   229000                0   \n5                 0   104000   205000                0   \n...             ...      ...      ...              ...   \n27057             0   201000   172000                0   \n27058             1   703000   951000                0   \n27061             0    92000   130000                0   \n27062             0   103000   212000                0   \n27063             0   311000   268000                0   \n\n       PropertyType_Multiplex  PropertyType_Single Family  \\\n1                           1                           0   \n2                           0                           1   \n3                           0                           1   \n4                           0                           1   \n5                           0                           1   \n...                       ...                         ...   \n27057                       0                           1   \n27058                       0                           1   \n27061                       0                           1   \n27062                       0                           1   \n27063                       0                           1   \n\n       PropertyType_Townhouse ZipGroup  \n1                           0        1  \n2                           0        1  \n3                           0        1  \n4                           0        1  \n5                           0        1  \n...                       ...      ...  \n27057                       0        2  \n27058                       0        3  \n27061                       0        1  \n27062                       0        1  \n27063                       0        3  \n\n[22687 rows x 20 columns]",
      "text/html": "<div>\n<style scoped>\n    .dataframe tbody tr th:only-of-type {\n        vertical-align: middle;\n    }\n\n    .dataframe tbody tr th {\n        vertical-align: top;\n    }\n\n    .dataframe thead th {\n        text-align: right;\n    }\n</style>\n<table border=\"1\" class=\"dataframe\">\n  <thead>\n    <tr style=\"text-align: right;\">\n      <th></th>\n      <th>SalePrice</th>\n      <th>zhvi_px</th>\n      <th>zhvi_idx</th>\n      <th>NbrLivingUnits</th>\n      <th>SqFtLot</th>\n      <th>SqFtTotLiving</th>\n      <th>SqFtFinBasement</th>\n      <th>Bathrooms</th>\n      <th>Bedrooms</th>\n      <th>BldgGrade</th>\n      <th>YrBuilt</th>\n      <th>YrRenovated</th>\n      <th>TrafficNoise</th>\n      <th>LandVal</th>\n      <th>ImpsVal</th>\n      <th>NewConstruction</th>\n      <th>PropertyType_Multiplex</th>\n      <th>PropertyType_Single Family</th>\n      <th>PropertyType_Townhouse</th>\n      <th>ZipGroup</th>\n    </tr>\n  </thead>\n  <tbody>\n    <tr>\n      <th>1</th>\n      <td>280000</td>\n      <td>405100</td>\n      <td>0.930836</td>\n      <td>2</td>\n      <td>9373</td>\n      <td>2400</td>\n      <td>0</td>\n      <td>3.00</td>\n      <td>6</td>\n      <td>7</td>\n      <td>1991</td>\n      <td>0</td>\n      <td>0</td>\n      <td>70000</td>\n      <td>229000</td>\n      <td>0</td>\n      <td>1</td>\n      <td>0</td>\n      <td>0</td>\n      <td>1</td>\n    </tr>\n    <tr>\n      <th>2</th>\n      <td>1000000</td>\n      <td>404400</td>\n      <td>0.929228</td>\n      <td>1</td>\n      <td>20156</td>\n      <td>3764</td>\n      <td>1452</td>\n      <td>3.75</td>\n      <td>4</td>\n      <td>10</td>\n      <td>2005</td>\n      <td>0</td>\n      <td>0</td>\n      <td>203000</td>\n      <td>590000</td>\n      <td>1</td>\n      <td>0</td>\n      <td>1</td>\n      <td>0</td>\n      <td>1</td>\n    </tr>\n    <tr>\n      <th>3</th>\n      <td>745000</td>\n      <td>425600</td>\n      <td>0.977941</td>\n      <td>1</td>\n      <td>26036</td>\n      <td>2060</td>\n      <td>900</td>\n      <td>1.75</td>\n      <td>4</td>\n      <td>8</td>\n      <td>1947</td>\n      <td>0</td>\n      <td>0</td>\n      <td>183000</td>\n      <td>275000</td>\n      <td>0</td>\n      <td>0</td>\n      <td>1</td>\n      <td>0</td>\n      <td>1</td>\n    </tr>\n    <tr>\n      <th>4</th>\n      <td>425000</td>\n      <td>418400</td>\n      <td>0.961397</td>\n      <td>1</td>\n      <td>8618</td>\n      <td>3200</td>\n      <td>1640</td>\n      <td>3.75</td>\n      <td>5</td>\n      <td>7</td>\n      <td>1966</td>\n      <td>0</td>\n      <td>0</td>\n      <td>104000</td>\n      <td>229000</td>\n      <td>0</td>\n      <td>0</td>\n      <td>1</td>\n      <td>0</td>\n      <td>1</td>\n    </tr>\n    <tr>\n      <th>5</th>\n      <td>240000</td>\n      <td>351600</td>\n      <td>0.807904</td>\n      <td>1</td>\n      <td>8620</td>\n      <td>1720</td>\n      <td>0</td>\n      <td>1.75</td>\n      <td>4</td>\n      <td>7</td>\n      <td>1948</td>\n      <td>0</td>\n      <td>0</td>\n      <td>104000</td>\n      <td>205000</td>\n      <td>0</td>\n      <td>0</td>\n      <td>1</td>\n      <td>0</td>\n      <td>1</td>\n    </tr>\n    <tr>\n      <th>...</th>\n      <td>...</td>\n      <td>...</td>\n      <td>...</td>\n      <td>...</td>\n      <td>...</td>\n      <td>...</td>\n      <td>...</td>\n      <td>...</td>\n      <td>...</td>\n      <td>...</td>\n      <td>...</td>\n      <td>...</td>\n      <td>...</td>\n      <td>...</td>\n      <td>...</td>\n      <td>...</td>\n      <td>...</td>\n      <td>...</td>\n      <td>...</td>\n      <td>...</td>\n    </tr>\n    <tr>\n      <th>27057</th>\n      <td>325000</td>\n      <td>318700</td>\n      <td>0.732307</td>\n      <td>1</td>\n      <td>5468</td>\n      <td>1480</td>\n      <td>590</td>\n      <td>1.75</td>\n      <td>3</td>\n      <td>7</td>\n      <td>1951</td>\n      <td>0</td>\n      <td>0</td>\n      <td>201000</td>\n      <td>172000</td>\n      <td>0</td>\n      <td>0</td>\n      <td>1</td>\n      <td>0</td>\n      <td>2</td>\n    </tr>\n    <tr>\n      <th>27058</th>\n      <td>1580000</td>\n      <td>433500</td>\n      <td>0.996094</td>\n      <td>1</td>\n      <td>23914</td>\n      <td>4720</td>\n      <td>910</td>\n      <td>4.50</td>\n      <td>4</td>\n      <td>11</td>\n      <td>2000</td>\n      <td>0</td>\n      <td>1</td>\n      <td>703000</td>\n      <td>951000</td>\n      <td>0</td>\n      <td>0</td>\n      <td>1</td>\n      <td>0</td>\n      <td>3</td>\n    </tr>\n    <tr>\n      <th>27061</th>\n      <td>165000</td>\n      <td>325300</td>\n      <td>0.747472</td>\n      <td>1</td>\n      <td>11170</td>\n      <td>1070</td>\n      <td>0</td>\n      <td>1.00</td>\n      <td>4</td>\n      <td>6</td>\n      <td>1971</td>\n      <td>0</td>\n      <td>0</td>\n      <td>92000</td>\n      <td>130000</td>\n      <td>0</td>\n      <td>0</td>\n      <td>1</td>\n      <td>0</td>\n      <td>1</td>\n    </tr>\n    <tr>\n      <th>27062</th>\n      <td>315000</td>\n      <td>400600</td>\n      <td>0.920496</td>\n      <td>1</td>\n      <td>6223</td>\n      <td>1345</td>\n      <td>0</td>\n      <td>2.00</td>\n      <td>3</td>\n      <td>7</td>\n      <td>1939</td>\n      <td>0</td>\n      <td>0</td>\n      <td>103000</td>\n      <td>212000</td>\n      <td>0</td>\n      <td>0</td>\n      <td>1</td>\n      <td>0</td>\n      <td>1</td>\n    </tr>\n    <tr>\n      <th>27063</th>\n      <td>465000</td>\n      <td>425600</td>\n      <td>0.977941</td>\n      <td>1</td>\n      <td>4400</td>\n      <td>790</td>\n      <td>0</td>\n      <td>1.50</td>\n      <td>3</td>\n      <td>7</td>\n      <td>1928</td>\n      <td>0</td>\n      <td>0</td>\n      <td>311000</td>\n      <td>268000</td>\n      <td>0</td>\n      <td>0</td>\n      <td>1</td>\n      <td>0</td>\n      <td>3</td>\n    </tr>\n  </tbody>\n</table>\n<p>22687 rows × 20 columns</p>\n</div>"
     },
     "execution_count": 19,
     "metadata": {},
     "output_type": "execute_result"
    }
   ],
   "source": [
    "cleaned_data"
   ],
   "metadata": {
    "collapsed": false,
    "pycharm": {
     "name": "#%%\n"
    }
   }
  },
  {
   "cell_type": "code",
   "execution_count": 23,
   "outputs": [
    {
     "name": "stdout",
     "output_type": "stream",
     "text": [
      "zhvi_px: -0.1674596603447117\n",
      "zhvi_idx: -5.489577539208312e-07\n",
      "NbrLivingUnits: 20973.51800381115\n",
      "SqFtLot: 0.41933844955362076\n",
      "SqFtTotLiving: 41.480635058408055\n",
      "SqFtFinBasement: -9.94470184861002\n",
      "Bathrooms: 1605.208855167008\n",
      "Bedrooms: -8242.127779719687\n",
      "BldgGrade: 8496.073694646082\n",
      "YrBuilt: -125.66563872036288\n",
      "YrRenovated: -13.69250574213767\n",
      "TrafficNoise: -480.89328939949297\n",
      "LandVal: 1.0583014705894835\n",
      "ImpsVal: 0.7884254472132797\n",
      "NewConstruction: 21832.562902306236\n",
      "PropertyType_Multiplex: -14071.663114277962\n",
      "PropertyType_Single Family: 2255.010491304594\n",
      "PropertyType_Townhouse: 11816.652622973337\n",
      "ZipGroup: -5133.76801345548\n"
     ]
    }
   ],
   "source": [
    "model = LinearRegression()\n",
    "model_cleaned_data = cleaned_data.drop(['SalePrice'],axis=1)\n",
    "model.fit(model_cleaned_data,data['AdjSalePrice'])\n",
    "\n",
    "for name,coef in zip(model_cleaned_data.columns,model.coef_):\n",
    "    print(f'{name}: {coef}')"
   ],
   "metadata": {
    "collapsed": false,
    "pycharm": {
     "name": "#%%\n"
    }
   }
  },
  {
   "cell_type": "code",
   "execution_count": null,
   "outputs": [],
   "source": [],
   "metadata": {
    "collapsed": false,
    "pycharm": {
     "name": "#%%\n"
    }
   }
  }
 ],
 "metadata": {
  "kernelspec": {
   "display_name": "Python 3",
   "language": "python",
   "name": "python3"
  },
  "language_info": {
   "codemirror_mode": {
    "name": "ipython",
    "version": 2
   },
   "file_extension": ".py",
   "mimetype": "text/x-python",
   "name": "python",
   "nbconvert_exporter": "python",
   "pygments_lexer": "ipython2",
   "version": "2.7.6"
  }
 },
 "nbformat": 4,
 "nbformat_minor": 0
}