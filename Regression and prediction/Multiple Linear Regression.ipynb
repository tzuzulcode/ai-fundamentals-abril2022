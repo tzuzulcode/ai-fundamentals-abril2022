{
 "cells": [
  {
   "cell_type": "markdown",
   "metadata": {
    "collapsed": true,
    "pycharm": {
     "name": "#%% md\n"
    }
   },
   "source": [
    "# Multiple Linear Regression\n",
    "- Root mean squared error (RMSE): La raiz cuadrada de la media del error al cuadrado. Métrica para comparar modelos de regresión\n",
    "- Residual standard error (RSE): Los mismo que RMSE, solo que ajustado a los grados de libertad.\n",
    "- R-squared (coefficient of determination, r2): La proporción de la varianza explicada por el modelo, rango entre 0 y 1\n",
    "- t-statistic: El coeficiente para un predictor, dividido por el error estándar del coeficiente. Nos da una métrica para comparar la importancia de las variables en el modelo.\n",
    "- Weighted regression: La regresión con los registros teniendo diferentes pesos."
   ]
  },
  {
   "cell_type": "code",
   "execution_count": 12,
   "outputs": [],
   "source": [
    "import numpy as np\n",
    "import pandas as pd\n",
    "from sklearn.linear_model import LinearRegression\n",
    "from sklearn.metrics import mean_squared_error,r2_score"
   ],
   "metadata": {
    "collapsed": false,
    "pycharm": {
     "name": "#%%\n"
    }
   }
  },
  {
   "cell_type": "markdown",
   "source": [],
   "metadata": {
    "collapsed": false
   }
  },
  {
   "cell_type": "code",
   "execution_count": 4,
   "outputs": [],
   "source": [
    "data = pd.read_csv(\"../Datasets/house_sales.csv\",delimiter=\"\\t\")"
   ],
   "metadata": {
    "collapsed": false,
    "pycharm": {
     "name": "#%%\n"
    }
   }
  },
  {
   "cell_type": "code",
   "execution_count": 5,
   "outputs": [
    {
     "data": {
      "text/plain": "      DocumentDate  SalePrice  PropertyID   PropertyType          ym  zhvi_px  \\\n1       2014-09-16     280000     1000102      Multiplex  2014-09-01   405100   \n2       2006-06-16    1000000     1200013  Single Family  2006-06-01   404400   \n3       2007-01-29     745000     1200019  Single Family  2007-01-01   425600   \n4       2008-02-25     425000     2800016  Single Family  2008-02-01   418400   \n5       2013-03-29     240000     2800024  Single Family  2013-03-01   351600   \n...            ...        ...         ...            ...         ...      ...   \n27057   2011-04-08     325000  9842300710  Single Family  2011-04-01   318700   \n27058   2007-09-28    1580000  9845500010  Single Family  2007-09-01   433500   \n27061   2012-07-09     165000  9899200010  Single Family  2012-07-01   325300   \n27062   2006-05-26     315000  9900000355  Single Family  2006-05-01   400600   \n27063   2007-01-09     465000  9906000035  Single Family  2007-01-01   425600   \n\n       zhvi_idx  AdjSalePrice  NbrLivingUnits  SqFtLot  ...  Bathrooms  \\\n1      0.930836      300805.0               2     9373  ...       3.00   \n2      0.929228     1076162.0               1    20156  ...       3.75   \n3      0.977941      761805.0               1    26036  ...       1.75   \n4      0.961397      442065.0               1     8618  ...       3.75   \n5      0.807904      297065.0               1     8620  ...       1.75   \n...         ...           ...             ...      ...  ...        ...   \n27057  0.732307      443803.0               1     5468  ...       1.75   \n27058  0.996094     1586196.0               1    23914  ...       4.50   \n27061  0.747472      220744.0               1    11170  ...       1.00   \n27062  0.920496      342207.0               1     6223  ...       2.00   \n27063  0.977941      475489.0               1     4400  ...       1.50   \n\n       Bedrooms  BldgGrade  YrBuilt  YrRenovated  TrafficNoise  LandVal  \\\n1             6          7     1991            0             0    70000   \n2             4         10     2005            0             0   203000   \n3             4          8     1947            0             0   183000   \n4             5          7     1966            0             0   104000   \n5             4          7     1948            0             0   104000   \n...         ...        ...      ...          ...           ...      ...   \n27057         3          7     1951            0             0   201000   \n27058         4         11     2000            0             1   703000   \n27061         4          6     1971            0             0    92000   \n27062         3          7     1939            0             0   103000   \n27063         3          7     1928            0             0   311000   \n\n       ImpsVal  ZipCode  NewConstruction  \n1       229000    98002            False  \n2       590000    98166             True  \n3       275000    98166            False  \n4       229000    98168            False  \n5       205000    98168            False  \n...        ...      ...              ...  \n27057   172000    98126            False  \n27058   951000    98040            False  \n27061   130000    98055            False  \n27062   212000    98166            False  \n27063   268000    98103            False  \n\n[22687 rows x 22 columns]",
      "text/html": "<div>\n<style scoped>\n    .dataframe tbody tr th:only-of-type {\n        vertical-align: middle;\n    }\n\n    .dataframe tbody tr th {\n        vertical-align: top;\n    }\n\n    .dataframe thead th {\n        text-align: right;\n    }\n</style>\n<table border=\"1\" class=\"dataframe\">\n  <thead>\n    <tr style=\"text-align: right;\">\n      <th></th>\n      <th>DocumentDate</th>\n      <th>SalePrice</th>\n      <th>PropertyID</th>\n      <th>PropertyType</th>\n      <th>ym</th>\n      <th>zhvi_px</th>\n      <th>zhvi_idx</th>\n      <th>AdjSalePrice</th>\n      <th>NbrLivingUnits</th>\n      <th>SqFtLot</th>\n      <th>...</th>\n      <th>Bathrooms</th>\n      <th>Bedrooms</th>\n      <th>BldgGrade</th>\n      <th>YrBuilt</th>\n      <th>YrRenovated</th>\n      <th>TrafficNoise</th>\n      <th>LandVal</th>\n      <th>ImpsVal</th>\n      <th>ZipCode</th>\n      <th>NewConstruction</th>\n    </tr>\n  </thead>\n  <tbody>\n    <tr>\n      <th>1</th>\n      <td>2014-09-16</td>\n      <td>280000</td>\n      <td>1000102</td>\n      <td>Multiplex</td>\n      <td>2014-09-01</td>\n      <td>405100</td>\n      <td>0.930836</td>\n      <td>300805.0</td>\n      <td>2</td>\n      <td>9373</td>\n      <td>...</td>\n      <td>3.00</td>\n      <td>6</td>\n      <td>7</td>\n      <td>1991</td>\n      <td>0</td>\n      <td>0</td>\n      <td>70000</td>\n      <td>229000</td>\n      <td>98002</td>\n      <td>False</td>\n    </tr>\n    <tr>\n      <th>2</th>\n      <td>2006-06-16</td>\n      <td>1000000</td>\n      <td>1200013</td>\n      <td>Single Family</td>\n      <td>2006-06-01</td>\n      <td>404400</td>\n      <td>0.929228</td>\n      <td>1076162.0</td>\n      <td>1</td>\n      <td>20156</td>\n      <td>...</td>\n      <td>3.75</td>\n      <td>4</td>\n      <td>10</td>\n      <td>2005</td>\n      <td>0</td>\n      <td>0</td>\n      <td>203000</td>\n      <td>590000</td>\n      <td>98166</td>\n      <td>True</td>\n    </tr>\n    <tr>\n      <th>3</th>\n      <td>2007-01-29</td>\n      <td>745000</td>\n      <td>1200019</td>\n      <td>Single Family</td>\n      <td>2007-01-01</td>\n      <td>425600</td>\n      <td>0.977941</td>\n      <td>761805.0</td>\n      <td>1</td>\n      <td>26036</td>\n      <td>...</td>\n      <td>1.75</td>\n      <td>4</td>\n      <td>8</td>\n      <td>1947</td>\n      <td>0</td>\n      <td>0</td>\n      <td>183000</td>\n      <td>275000</td>\n      <td>98166</td>\n      <td>False</td>\n    </tr>\n    <tr>\n      <th>4</th>\n      <td>2008-02-25</td>\n      <td>425000</td>\n      <td>2800016</td>\n      <td>Single Family</td>\n      <td>2008-02-01</td>\n      <td>418400</td>\n      <td>0.961397</td>\n      <td>442065.0</td>\n      <td>1</td>\n      <td>8618</td>\n      <td>...</td>\n      <td>3.75</td>\n      <td>5</td>\n      <td>7</td>\n      <td>1966</td>\n      <td>0</td>\n      <td>0</td>\n      <td>104000</td>\n      <td>229000</td>\n      <td>98168</td>\n      <td>False</td>\n    </tr>\n    <tr>\n      <th>5</th>\n      <td>2013-03-29</td>\n      <td>240000</td>\n      <td>2800024</td>\n      <td>Single Family</td>\n      <td>2013-03-01</td>\n      <td>351600</td>\n      <td>0.807904</td>\n      <td>297065.0</td>\n      <td>1</td>\n      <td>8620</td>\n      <td>...</td>\n      <td>1.75</td>\n      <td>4</td>\n      <td>7</td>\n      <td>1948</td>\n      <td>0</td>\n      <td>0</td>\n      <td>104000</td>\n      <td>205000</td>\n      <td>98168</td>\n      <td>False</td>\n    </tr>\n    <tr>\n      <th>...</th>\n      <td>...</td>\n      <td>...</td>\n      <td>...</td>\n      <td>...</td>\n      <td>...</td>\n      <td>...</td>\n      <td>...</td>\n      <td>...</td>\n      <td>...</td>\n      <td>...</td>\n      <td>...</td>\n      <td>...</td>\n      <td>...</td>\n      <td>...</td>\n      <td>...</td>\n      <td>...</td>\n      <td>...</td>\n      <td>...</td>\n      <td>...</td>\n      <td>...</td>\n      <td>...</td>\n    </tr>\n    <tr>\n      <th>27057</th>\n      <td>2011-04-08</td>\n      <td>325000</td>\n      <td>9842300710</td>\n      <td>Single Family</td>\n      <td>2011-04-01</td>\n      <td>318700</td>\n      <td>0.732307</td>\n      <td>443803.0</td>\n      <td>1</td>\n      <td>5468</td>\n      <td>...</td>\n      <td>1.75</td>\n      <td>3</td>\n      <td>7</td>\n      <td>1951</td>\n      <td>0</td>\n      <td>0</td>\n      <td>201000</td>\n      <td>172000</td>\n      <td>98126</td>\n      <td>False</td>\n    </tr>\n    <tr>\n      <th>27058</th>\n      <td>2007-09-28</td>\n      <td>1580000</td>\n      <td>9845500010</td>\n      <td>Single Family</td>\n      <td>2007-09-01</td>\n      <td>433500</td>\n      <td>0.996094</td>\n      <td>1586196.0</td>\n      <td>1</td>\n      <td>23914</td>\n      <td>...</td>\n      <td>4.50</td>\n      <td>4</td>\n      <td>11</td>\n      <td>2000</td>\n      <td>0</td>\n      <td>1</td>\n      <td>703000</td>\n      <td>951000</td>\n      <td>98040</td>\n      <td>False</td>\n    </tr>\n    <tr>\n      <th>27061</th>\n      <td>2012-07-09</td>\n      <td>165000</td>\n      <td>9899200010</td>\n      <td>Single Family</td>\n      <td>2012-07-01</td>\n      <td>325300</td>\n      <td>0.747472</td>\n      <td>220744.0</td>\n      <td>1</td>\n      <td>11170</td>\n      <td>...</td>\n      <td>1.00</td>\n      <td>4</td>\n      <td>6</td>\n      <td>1971</td>\n      <td>0</td>\n      <td>0</td>\n      <td>92000</td>\n      <td>130000</td>\n      <td>98055</td>\n      <td>False</td>\n    </tr>\n    <tr>\n      <th>27062</th>\n      <td>2006-05-26</td>\n      <td>315000</td>\n      <td>9900000355</td>\n      <td>Single Family</td>\n      <td>2006-05-01</td>\n      <td>400600</td>\n      <td>0.920496</td>\n      <td>342207.0</td>\n      <td>1</td>\n      <td>6223</td>\n      <td>...</td>\n      <td>2.00</td>\n      <td>3</td>\n      <td>7</td>\n      <td>1939</td>\n      <td>0</td>\n      <td>0</td>\n      <td>103000</td>\n      <td>212000</td>\n      <td>98166</td>\n      <td>False</td>\n    </tr>\n    <tr>\n      <th>27063</th>\n      <td>2007-01-09</td>\n      <td>465000</td>\n      <td>9906000035</td>\n      <td>Single Family</td>\n      <td>2007-01-01</td>\n      <td>425600</td>\n      <td>0.977941</td>\n      <td>475489.0</td>\n      <td>1</td>\n      <td>4400</td>\n      <td>...</td>\n      <td>1.50</td>\n      <td>3</td>\n      <td>7</td>\n      <td>1928</td>\n      <td>0</td>\n      <td>0</td>\n      <td>311000</td>\n      <td>268000</td>\n      <td>98103</td>\n      <td>False</td>\n    </tr>\n  </tbody>\n</table>\n<p>22687 rows × 22 columns</p>\n</div>"
     },
     "execution_count": 5,
     "metadata": {},
     "output_type": "execute_result"
    }
   ],
   "source": [
    "data"
   ],
   "metadata": {
    "collapsed": false,
    "pycharm": {
     "name": "#%%\n"
    }
   }
  },
  {
   "cell_type": "code",
   "execution_count": 7,
   "outputs": [
    {
     "data": {
      "text/plain": "       AdjSalePrice  SqFtTotLiving  SqFtLot  Bathrooms  Bedrooms\n1          300805.0           2400     9373       3.00         6\n2         1076162.0           3764    20156       3.75         4\n3          761805.0           2060    26036       1.75         4\n4          442065.0           3200     8618       3.75         5\n5          297065.0           1720     8620       1.75         4\n...             ...            ...      ...        ...       ...\n27057      443803.0           1480     5468       1.75         3\n27058     1586196.0           4720    23914       4.50         4\n27061      220744.0           1070    11170       1.00         4\n27062      342207.0           1345     6223       2.00         3\n27063      475489.0            790     4400       1.50         3\n\n[22687 rows x 5 columns]",
      "text/html": "<div>\n<style scoped>\n    .dataframe tbody tr th:only-of-type {\n        vertical-align: middle;\n    }\n\n    .dataframe tbody tr th {\n        vertical-align: top;\n    }\n\n    .dataframe thead th {\n        text-align: right;\n    }\n</style>\n<table border=\"1\" class=\"dataframe\">\n  <thead>\n    <tr style=\"text-align: right;\">\n      <th></th>\n      <th>AdjSalePrice</th>\n      <th>SqFtTotLiving</th>\n      <th>SqFtLot</th>\n      <th>Bathrooms</th>\n      <th>Bedrooms</th>\n    </tr>\n  </thead>\n  <tbody>\n    <tr>\n      <th>1</th>\n      <td>300805.0</td>\n      <td>2400</td>\n      <td>9373</td>\n      <td>3.00</td>\n      <td>6</td>\n    </tr>\n    <tr>\n      <th>2</th>\n      <td>1076162.0</td>\n      <td>3764</td>\n      <td>20156</td>\n      <td>3.75</td>\n      <td>4</td>\n    </tr>\n    <tr>\n      <th>3</th>\n      <td>761805.0</td>\n      <td>2060</td>\n      <td>26036</td>\n      <td>1.75</td>\n      <td>4</td>\n    </tr>\n    <tr>\n      <th>4</th>\n      <td>442065.0</td>\n      <td>3200</td>\n      <td>8618</td>\n      <td>3.75</td>\n      <td>5</td>\n    </tr>\n    <tr>\n      <th>5</th>\n      <td>297065.0</td>\n      <td>1720</td>\n      <td>8620</td>\n      <td>1.75</td>\n      <td>4</td>\n    </tr>\n    <tr>\n      <th>...</th>\n      <td>...</td>\n      <td>...</td>\n      <td>...</td>\n      <td>...</td>\n      <td>...</td>\n    </tr>\n    <tr>\n      <th>27057</th>\n      <td>443803.0</td>\n      <td>1480</td>\n      <td>5468</td>\n      <td>1.75</td>\n      <td>3</td>\n    </tr>\n    <tr>\n      <th>27058</th>\n      <td>1586196.0</td>\n      <td>4720</td>\n      <td>23914</td>\n      <td>4.50</td>\n      <td>4</td>\n    </tr>\n    <tr>\n      <th>27061</th>\n      <td>220744.0</td>\n      <td>1070</td>\n      <td>11170</td>\n      <td>1.00</td>\n      <td>4</td>\n    </tr>\n    <tr>\n      <th>27062</th>\n      <td>342207.0</td>\n      <td>1345</td>\n      <td>6223</td>\n      <td>2.00</td>\n      <td>3</td>\n    </tr>\n    <tr>\n      <th>27063</th>\n      <td>475489.0</td>\n      <td>790</td>\n      <td>4400</td>\n      <td>1.50</td>\n      <td>3</td>\n    </tr>\n  </tbody>\n</table>\n<p>22687 rows × 5 columns</p>\n</div>"
     },
     "execution_count": 7,
     "metadata": {},
     "output_type": "execute_result"
    }
   ],
   "source": [
    "subset = ['AdjSalePrice','SqFtTotLiving','SqFtLot','Bathrooms','Bedrooms']\n",
    "data = data[subset]\n",
    "data"
   ],
   "metadata": {
    "collapsed": false,
    "pycharm": {
     "name": "#%%\n"
    }
   }
  },
  {
   "cell_type": "code",
   "execution_count": 9,
   "outputs": [
    {
     "data": {
      "text/plain": "LinearRegression()"
     },
     "execution_count": 9,
     "metadata": {},
     "output_type": "execute_result"
    }
   ],
   "source": [
    "predictors = ['SqFtTotLiving','SqFtLot','Bathrooms','Bedrooms']\n",
    "outcome = 'AdjSalePrice'\n",
    "\n",
    "house_lm = LinearRegression()\n",
    "house_lm.fit(data[predictors],data[outcome])"
   ],
   "metadata": {
    "collapsed": false,
    "pycharm": {
     "name": "#%%\n"
    }
   }
  },
  {
   "cell_type": "code",
   "execution_count": 10,
   "outputs": [
    {
     "name": "stdout",
     "output_type": "stream",
     "text": [
      "Intercept 96960.38147619145\n",
      "SqFtTotLiving 327.82525951863136\n",
      "SqFtLot -0.08468587956200668\n",
      "Bathrooms 13256.963751401256\n",
      "Bedrooms -71714.7853048912\n"
     ]
    }
   ],
   "source": [
    "print('Intercept',house_lm.intercept_)\n",
    "for name, coef in zip(predictors,house_lm.coef_):\n",
    "    print(name,coef)"
   ],
   "metadata": {
    "collapsed": false,
    "pycharm": {
     "name": "#%%\n"
    }
   }
  },
  {
   "cell_type": "code",
   "execution_count": 17,
   "outputs": [
    {
     "name": "stdout",
     "output_type": "stream",
     "text": [
      "272275.5661481364\n",
      "272305.5745868494\n"
     ]
    }
   ],
   "source": [
    "fitted = house_lm.predict(data[predictors])\n",
    "\n",
    "#mean_squared_error\n",
    "RMSE = np.sqrt(mean_squared_error(data[outcome],fitted))\n",
    "\n",
    "#r2 = r2_score(data[outcome],fitted)\n",
    "\n",
    "RSE = np.sqrt(np.sum((data[outcome]-fitted)**2)/(data[outcome].size-1-len(predictors)))\n",
    "print(RMSE)\n",
    "print(RSE)\n",
    "#print(r2)"
   ],
   "metadata": {
    "collapsed": false,
    "pycharm": {
     "name": "#%%\n"
    }
   }
  },
  {
   "cell_type": "code",
   "execution_count": null,
   "outputs": [],
   "source": [
    "# Predecir el valor de una casa con estas carateristicas:\n",
    "# SqFtTotLiving: 2000\n",
    "# 'SqFtLot': 9000\n",
    "# 'Bathrooms': 4\n",
    "# 'Bedrooms: 5"
   ],
   "metadata": {
    "collapsed": false,
    "pycharm": {
     "name": "#%%\n"
    }
   }
  }
 ],
 "metadata": {
  "kernelspec": {
   "display_name": "Python 3",
   "language": "python",
   "name": "python3"
  },
  "language_info": {
   "codemirror_mode": {
    "name": "ipython",
    "version": 2
   },
   "file_extension": ".py",
   "mimetype": "text/x-python",
   "name": "python",
   "nbconvert_exporter": "python",
   "pygments_lexer": "ipython2",
   "version": "2.7.6"
  }
 },
 "nbformat": 4,
 "nbformat_minor": 0
}