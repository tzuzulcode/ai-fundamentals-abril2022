{
 "cells": [
  {
   "cell_type": "code",
   "execution_count": 2,
   "outputs": [
    {
     "name": "stdout",
     "output_type": "stream",
     "text": [
      "no display found. Using non-interactive Agg backend\n"
     ]
    }
   ],
   "source": [
    "import pandas as pd\n",
    "import statsmodels.api as sm\n",
    "from sklearn.linear_model import LinearRegression\n",
    "\n",
    "from dmba.featureSelection import stepwise_selection\n",
    "\n",
    "from dmba.metric import AIC_score"
   ],
   "metadata": {
    "collapsed": false,
    "pycharm": {
     "name": "#%%\n"
    }
   }
  },
  {
   "cell_type": "code",
   "execution_count": 21,
   "outputs": [
    {
     "data": {
      "text/plain": "       PropertyID  zhvi_px  zhvi_idx  AdjSalePrice  NbrLivingUnits  SqFtLot  \\\n1         1000102   405100  0.930836      300805.0               2     9373   \n2         1200013   404400  0.929228     1076162.0               1    20156   \n3         1200019   425600  0.977941      761805.0               1    26036   \n4         2800016   418400  0.961397      442065.0               1     8618   \n5         2800024   351600  0.807904      297065.0               1     8620   \n...           ...      ...       ...           ...             ...      ...   \n27057  9842300710   318700  0.732307      443803.0               1     5468   \n27058  9845500010   433500  0.996094     1586196.0               1    23914   \n27061  9899200010   325300  0.747472      220744.0               1    11170   \n27062  9900000355   400600  0.920496      342207.0               1     6223   \n27063  9906000035   425600  0.977941      475489.0               1     4400   \n\n       SqFtTotLiving  SqFtFinBasement  Bathrooms  Bedrooms  BldgGrade  \\\n1               2400                0       3.00         6          7   \n2               3764             1452       3.75         4         10   \n3               2060              900       1.75         4          8   \n4               3200             1640       3.75         5          7   \n5               1720                0       1.75         4          7   \n...              ...              ...        ...       ...        ...   \n27057           1480              590       1.75         3          7   \n27058           4720              910       4.50         4         11   \n27061           1070                0       1.00         4          6   \n27062           1345                0       2.00         3          7   \n27063            790                0       1.50         3          7   \n\n       YrBuilt  YrRenovated  TrafficNoise  LandVal  ImpsVal  ZipCode  \\\n1         1991            0             0    70000   229000    98002   \n2         2005            0             0   203000   590000    98166   \n3         1947            0             0   183000   275000    98166   \n4         1966            0             0   104000   229000    98168   \n5         1948            0             0   104000   205000    98168   \n...        ...          ...           ...      ...      ...      ...   \n27057     1951            0             0   201000   172000    98126   \n27058     2000            0             1   703000   951000    98040   \n27061     1971            0             0    92000   130000    98055   \n27062     1939            0             0   103000   212000    98166   \n27063     1928            0             0   311000   268000    98103   \n\n       NewConstruction  \n1                False  \n2                 True  \n3                False  \n4                False  \n5                False  \n...                ...  \n27057            False  \n27058            False  \n27061            False  \n27062            False  \n27063            False  \n\n[22687 rows x 18 columns]",
      "text/html": "<div>\n<style scoped>\n    .dataframe tbody tr th:only-of-type {\n        vertical-align: middle;\n    }\n\n    .dataframe tbody tr th {\n        vertical-align: top;\n    }\n\n    .dataframe thead th {\n        text-align: right;\n    }\n</style>\n<table border=\"1\" class=\"dataframe\">\n  <thead>\n    <tr style=\"text-align: right;\">\n      <th></th>\n      <th>PropertyID</th>\n      <th>zhvi_px</th>\n      <th>zhvi_idx</th>\n      <th>AdjSalePrice</th>\n      <th>NbrLivingUnits</th>\n      <th>SqFtLot</th>\n      <th>SqFtTotLiving</th>\n      <th>SqFtFinBasement</th>\n      <th>Bathrooms</th>\n      <th>Bedrooms</th>\n      <th>BldgGrade</th>\n      <th>YrBuilt</th>\n      <th>YrRenovated</th>\n      <th>TrafficNoise</th>\n      <th>LandVal</th>\n      <th>ImpsVal</th>\n      <th>ZipCode</th>\n      <th>NewConstruction</th>\n    </tr>\n  </thead>\n  <tbody>\n    <tr>\n      <th>1</th>\n      <td>1000102</td>\n      <td>405100</td>\n      <td>0.930836</td>\n      <td>300805.0</td>\n      <td>2</td>\n      <td>9373</td>\n      <td>2400</td>\n      <td>0</td>\n      <td>3.00</td>\n      <td>6</td>\n      <td>7</td>\n      <td>1991</td>\n      <td>0</td>\n      <td>0</td>\n      <td>70000</td>\n      <td>229000</td>\n      <td>98002</td>\n      <td>False</td>\n    </tr>\n    <tr>\n      <th>2</th>\n      <td>1200013</td>\n      <td>404400</td>\n      <td>0.929228</td>\n      <td>1076162.0</td>\n      <td>1</td>\n      <td>20156</td>\n      <td>3764</td>\n      <td>1452</td>\n      <td>3.75</td>\n      <td>4</td>\n      <td>10</td>\n      <td>2005</td>\n      <td>0</td>\n      <td>0</td>\n      <td>203000</td>\n      <td>590000</td>\n      <td>98166</td>\n      <td>True</td>\n    </tr>\n    <tr>\n      <th>3</th>\n      <td>1200019</td>\n      <td>425600</td>\n      <td>0.977941</td>\n      <td>761805.0</td>\n      <td>1</td>\n      <td>26036</td>\n      <td>2060</td>\n      <td>900</td>\n      <td>1.75</td>\n      <td>4</td>\n      <td>8</td>\n      <td>1947</td>\n      <td>0</td>\n      <td>0</td>\n      <td>183000</td>\n      <td>275000</td>\n      <td>98166</td>\n      <td>False</td>\n    </tr>\n    <tr>\n      <th>4</th>\n      <td>2800016</td>\n      <td>418400</td>\n      <td>0.961397</td>\n      <td>442065.0</td>\n      <td>1</td>\n      <td>8618</td>\n      <td>3200</td>\n      <td>1640</td>\n      <td>3.75</td>\n      <td>5</td>\n      <td>7</td>\n      <td>1966</td>\n      <td>0</td>\n      <td>0</td>\n      <td>104000</td>\n      <td>229000</td>\n      <td>98168</td>\n      <td>False</td>\n    </tr>\n    <tr>\n      <th>5</th>\n      <td>2800024</td>\n      <td>351600</td>\n      <td>0.807904</td>\n      <td>297065.0</td>\n      <td>1</td>\n      <td>8620</td>\n      <td>1720</td>\n      <td>0</td>\n      <td>1.75</td>\n      <td>4</td>\n      <td>7</td>\n      <td>1948</td>\n      <td>0</td>\n      <td>0</td>\n      <td>104000</td>\n      <td>205000</td>\n      <td>98168</td>\n      <td>False</td>\n    </tr>\n    <tr>\n      <th>...</th>\n      <td>...</td>\n      <td>...</td>\n      <td>...</td>\n      <td>...</td>\n      <td>...</td>\n      <td>...</td>\n      <td>...</td>\n      <td>...</td>\n      <td>...</td>\n      <td>...</td>\n      <td>...</td>\n      <td>...</td>\n      <td>...</td>\n      <td>...</td>\n      <td>...</td>\n      <td>...</td>\n      <td>...</td>\n      <td>...</td>\n    </tr>\n    <tr>\n      <th>27057</th>\n      <td>9842300710</td>\n      <td>318700</td>\n      <td>0.732307</td>\n      <td>443803.0</td>\n      <td>1</td>\n      <td>5468</td>\n      <td>1480</td>\n      <td>590</td>\n      <td>1.75</td>\n      <td>3</td>\n      <td>7</td>\n      <td>1951</td>\n      <td>0</td>\n      <td>0</td>\n      <td>201000</td>\n      <td>172000</td>\n      <td>98126</td>\n      <td>False</td>\n    </tr>\n    <tr>\n      <th>27058</th>\n      <td>9845500010</td>\n      <td>433500</td>\n      <td>0.996094</td>\n      <td>1586196.0</td>\n      <td>1</td>\n      <td>23914</td>\n      <td>4720</td>\n      <td>910</td>\n      <td>4.50</td>\n      <td>4</td>\n      <td>11</td>\n      <td>2000</td>\n      <td>0</td>\n      <td>1</td>\n      <td>703000</td>\n      <td>951000</td>\n      <td>98040</td>\n      <td>False</td>\n    </tr>\n    <tr>\n      <th>27061</th>\n      <td>9899200010</td>\n      <td>325300</td>\n      <td>0.747472</td>\n      <td>220744.0</td>\n      <td>1</td>\n      <td>11170</td>\n      <td>1070</td>\n      <td>0</td>\n      <td>1.00</td>\n      <td>4</td>\n      <td>6</td>\n      <td>1971</td>\n      <td>0</td>\n      <td>0</td>\n      <td>92000</td>\n      <td>130000</td>\n      <td>98055</td>\n      <td>False</td>\n    </tr>\n    <tr>\n      <th>27062</th>\n      <td>9900000355</td>\n      <td>400600</td>\n      <td>0.920496</td>\n      <td>342207.0</td>\n      <td>1</td>\n      <td>6223</td>\n      <td>1345</td>\n      <td>0</td>\n      <td>2.00</td>\n      <td>3</td>\n      <td>7</td>\n      <td>1939</td>\n      <td>0</td>\n      <td>0</td>\n      <td>103000</td>\n      <td>212000</td>\n      <td>98166</td>\n      <td>False</td>\n    </tr>\n    <tr>\n      <th>27063</th>\n      <td>9906000035</td>\n      <td>425600</td>\n      <td>0.977941</td>\n      <td>475489.0</td>\n      <td>1</td>\n      <td>4400</td>\n      <td>790</td>\n      <td>0</td>\n      <td>1.50</td>\n      <td>3</td>\n      <td>7</td>\n      <td>1928</td>\n      <td>0</td>\n      <td>0</td>\n      <td>311000</td>\n      <td>268000</td>\n      <td>98103</td>\n      <td>False</td>\n    </tr>\n  </tbody>\n</table>\n<p>22687 rows × 18 columns</p>\n</div>"
     },
     "execution_count": 21,
     "metadata": {},
     "output_type": "execute_result"
    }
   ],
   "source": [
    "csv = pd.read_csv(\"../Datasets/house_sales.csv\",delimiter=\"\\t\")\n",
    "data = csv.drop([\"DocumentDate\",\"ym\",\"PropertyType\",\"SalePrice\"], axis=1)\n",
    "data"
   ],
   "metadata": {
    "collapsed": false,
    "pycharm": {
     "name": "#%%\n"
    }
   }
  },
  {
   "cell_type": "code",
   "execution_count": 5,
   "outputs": [],
   "source": [
    "predictors = ['SqFtLot','Bedrooms','SqFtFinBasement','Bathrooms','NewConstruction']\n",
    "outcome='AdjSalePrice'"
   ],
   "metadata": {
    "collapsed": false,
    "pycharm": {
     "name": "#%%\n"
    }
   }
  },
  {
   "cell_type": "code",
   "execution_count": 6,
   "outputs": [
    {
     "data": {
      "text/plain": "       SqFtLot  Bedrooms  SqFtFinBasement  Bathrooms  NewConstruction\n1         9373         6                0       3.00            False\n2        20156         4             1452       3.75             True\n3        26036         4              900       1.75            False\n4         8618         5             1640       3.75            False\n5         8620         4                0       1.75            False\n...        ...       ...              ...        ...              ...\n27057     5468         3              590       1.75            False\n27058    23914         4              910       4.50            False\n27061    11170         4                0       1.00            False\n27062     6223         3                0       2.00            False\n27063     4400         3                0       1.50            False\n\n[22687 rows x 5 columns]",
      "text/html": "<div>\n<style scoped>\n    .dataframe tbody tr th:only-of-type {\n        vertical-align: middle;\n    }\n\n    .dataframe tbody tr th {\n        vertical-align: top;\n    }\n\n    .dataframe thead th {\n        text-align: right;\n    }\n</style>\n<table border=\"1\" class=\"dataframe\">\n  <thead>\n    <tr style=\"text-align: right;\">\n      <th></th>\n      <th>SqFtLot</th>\n      <th>Bedrooms</th>\n      <th>SqFtFinBasement</th>\n      <th>Bathrooms</th>\n      <th>NewConstruction</th>\n    </tr>\n  </thead>\n  <tbody>\n    <tr>\n      <th>1</th>\n      <td>9373</td>\n      <td>6</td>\n      <td>0</td>\n      <td>3.00</td>\n      <td>False</td>\n    </tr>\n    <tr>\n      <th>2</th>\n      <td>20156</td>\n      <td>4</td>\n      <td>1452</td>\n      <td>3.75</td>\n      <td>True</td>\n    </tr>\n    <tr>\n      <th>3</th>\n      <td>26036</td>\n      <td>4</td>\n      <td>900</td>\n      <td>1.75</td>\n      <td>False</td>\n    </tr>\n    <tr>\n      <th>4</th>\n      <td>8618</td>\n      <td>5</td>\n      <td>1640</td>\n      <td>3.75</td>\n      <td>False</td>\n    </tr>\n    <tr>\n      <th>5</th>\n      <td>8620</td>\n      <td>4</td>\n      <td>0</td>\n      <td>1.75</td>\n      <td>False</td>\n    </tr>\n    <tr>\n      <th>...</th>\n      <td>...</td>\n      <td>...</td>\n      <td>...</td>\n      <td>...</td>\n      <td>...</td>\n    </tr>\n    <tr>\n      <th>27057</th>\n      <td>5468</td>\n      <td>3</td>\n      <td>590</td>\n      <td>1.75</td>\n      <td>False</td>\n    </tr>\n    <tr>\n      <th>27058</th>\n      <td>23914</td>\n      <td>4</td>\n      <td>910</td>\n      <td>4.50</td>\n      <td>False</td>\n    </tr>\n    <tr>\n      <th>27061</th>\n      <td>11170</td>\n      <td>4</td>\n      <td>0</td>\n      <td>1.00</td>\n      <td>False</td>\n    </tr>\n    <tr>\n      <th>27062</th>\n      <td>6223</td>\n      <td>3</td>\n      <td>0</td>\n      <td>2.00</td>\n      <td>False</td>\n    </tr>\n    <tr>\n      <th>27063</th>\n      <td>4400</td>\n      <td>3</td>\n      <td>0</td>\n      <td>1.50</td>\n      <td>False</td>\n    </tr>\n  </tbody>\n</table>\n<p>22687 rows × 5 columns</p>\n</div>"
     },
     "execution_count": 6,
     "metadata": {},
     "output_type": "execute_result"
    }
   ],
   "source": [
    "data[predictors]"
   ],
   "metadata": {
    "collapsed": false,
    "pycharm": {
     "name": "#%%\n"
    }
   }
  },
  {
   "cell_type": "code",
   "execution_count": 7,
   "outputs": [
    {
     "data": {
      "text/plain": "       SqFtLot  Bedrooms  SqFtFinBasement  Bathrooms  NewConstruction\n1         9373         6                0       3.00            False\n2        20156         4             1452       3.75             True\n3        26036         4              900       1.75            False\n4         8618         5             1640       3.75            False\n5         8620         4                0       1.75            False\n...        ...       ...              ...        ...              ...\n27057     5468         3              590       1.75            False\n27058    23914         4              910       4.50            False\n27061    11170         4                0       1.00            False\n27062     6223         3                0       2.00            False\n27063     4400         3                0       1.50            False\n\n[22687 rows x 5 columns]",
      "text/html": "<div>\n<style scoped>\n    .dataframe tbody tr th:only-of-type {\n        vertical-align: middle;\n    }\n\n    .dataframe tbody tr th {\n        vertical-align: top;\n    }\n\n    .dataframe thead th {\n        text-align: right;\n    }\n</style>\n<table border=\"1\" class=\"dataframe\">\n  <thead>\n    <tr style=\"text-align: right;\">\n      <th></th>\n      <th>SqFtLot</th>\n      <th>Bedrooms</th>\n      <th>SqFtFinBasement</th>\n      <th>Bathrooms</th>\n      <th>NewConstruction</th>\n    </tr>\n  </thead>\n  <tbody>\n    <tr>\n      <th>1</th>\n      <td>9373</td>\n      <td>6</td>\n      <td>0</td>\n      <td>3.00</td>\n      <td>False</td>\n    </tr>\n    <tr>\n      <th>2</th>\n      <td>20156</td>\n      <td>4</td>\n      <td>1452</td>\n      <td>3.75</td>\n      <td>True</td>\n    </tr>\n    <tr>\n      <th>3</th>\n      <td>26036</td>\n      <td>4</td>\n      <td>900</td>\n      <td>1.75</td>\n      <td>False</td>\n    </tr>\n    <tr>\n      <th>4</th>\n      <td>8618</td>\n      <td>5</td>\n      <td>1640</td>\n      <td>3.75</td>\n      <td>False</td>\n    </tr>\n    <tr>\n      <th>5</th>\n      <td>8620</td>\n      <td>4</td>\n      <td>0</td>\n      <td>1.75</td>\n      <td>False</td>\n    </tr>\n    <tr>\n      <th>...</th>\n      <td>...</td>\n      <td>...</td>\n      <td>...</td>\n      <td>...</td>\n      <td>...</td>\n    </tr>\n    <tr>\n      <th>27057</th>\n      <td>5468</td>\n      <td>3</td>\n      <td>590</td>\n      <td>1.75</td>\n      <td>False</td>\n    </tr>\n    <tr>\n      <th>27058</th>\n      <td>23914</td>\n      <td>4</td>\n      <td>910</td>\n      <td>4.50</td>\n      <td>False</td>\n    </tr>\n    <tr>\n      <th>27061</th>\n      <td>11170</td>\n      <td>4</td>\n      <td>0</td>\n      <td>1.00</td>\n      <td>False</td>\n    </tr>\n    <tr>\n      <th>27062</th>\n      <td>6223</td>\n      <td>3</td>\n      <td>0</td>\n      <td>2.00</td>\n      <td>False</td>\n    </tr>\n    <tr>\n      <th>27063</th>\n      <td>4400</td>\n      <td>3</td>\n      <td>0</td>\n      <td>1.50</td>\n      <td>False</td>\n    </tr>\n  </tbody>\n</table>\n<p>22687 rows × 5 columns</p>\n</div>"
     },
     "execution_count": 7,
     "metadata": {},
     "output_type": "execute_result"
    }
   ],
   "source": [
    "data_without_dummies = pd.get_dummies(data[predictors],drop_first=True)\n",
    "data_without_dummies"
   ],
   "metadata": {
    "collapsed": false,
    "pycharm": {
     "name": "#%%\n"
    }
   }
  },
  {
   "cell_type": "code",
   "execution_count": 8,
   "outputs": [
    {
     "data": {
      "text/plain": "       SqFtLot  Bedrooms  SqFtFinBasement  Bathrooms  NewConstruction\n1         9373         6                0       3.00                0\n2        20156         4             1452       3.75                1\n3        26036         4              900       1.75                0\n4         8618         5             1640       3.75                0\n5         8620         4                0       1.75                0\n...        ...       ...              ...        ...              ...\n27057     5468         3              590       1.75                0\n27058    23914         4              910       4.50                0\n27061    11170         4                0       1.00                0\n27062     6223         3                0       2.00                0\n27063     4400         3                0       1.50                0\n\n[22687 rows x 5 columns]",
      "text/html": "<div>\n<style scoped>\n    .dataframe tbody tr th:only-of-type {\n        vertical-align: middle;\n    }\n\n    .dataframe tbody tr th {\n        vertical-align: top;\n    }\n\n    .dataframe thead th {\n        text-align: right;\n    }\n</style>\n<table border=\"1\" class=\"dataframe\">\n  <thead>\n    <tr style=\"text-align: right;\">\n      <th></th>\n      <th>SqFtLot</th>\n      <th>Bedrooms</th>\n      <th>SqFtFinBasement</th>\n      <th>Bathrooms</th>\n      <th>NewConstruction</th>\n    </tr>\n  </thead>\n  <tbody>\n    <tr>\n      <th>1</th>\n      <td>9373</td>\n      <td>6</td>\n      <td>0</td>\n      <td>3.00</td>\n      <td>0</td>\n    </tr>\n    <tr>\n      <th>2</th>\n      <td>20156</td>\n      <td>4</td>\n      <td>1452</td>\n      <td>3.75</td>\n      <td>1</td>\n    </tr>\n    <tr>\n      <th>3</th>\n      <td>26036</td>\n      <td>4</td>\n      <td>900</td>\n      <td>1.75</td>\n      <td>0</td>\n    </tr>\n    <tr>\n      <th>4</th>\n      <td>8618</td>\n      <td>5</td>\n      <td>1640</td>\n      <td>3.75</td>\n      <td>0</td>\n    </tr>\n    <tr>\n      <th>5</th>\n      <td>8620</td>\n      <td>4</td>\n      <td>0</td>\n      <td>1.75</td>\n      <td>0</td>\n    </tr>\n    <tr>\n      <th>...</th>\n      <td>...</td>\n      <td>...</td>\n      <td>...</td>\n      <td>...</td>\n      <td>...</td>\n    </tr>\n    <tr>\n      <th>27057</th>\n      <td>5468</td>\n      <td>3</td>\n      <td>590</td>\n      <td>1.75</td>\n      <td>0</td>\n    </tr>\n    <tr>\n      <th>27058</th>\n      <td>23914</td>\n      <td>4</td>\n      <td>910</td>\n      <td>4.50</td>\n      <td>0</td>\n    </tr>\n    <tr>\n      <th>27061</th>\n      <td>11170</td>\n      <td>4</td>\n      <td>0</td>\n      <td>1.00</td>\n      <td>0</td>\n    </tr>\n    <tr>\n      <th>27062</th>\n      <td>6223</td>\n      <td>3</td>\n      <td>0</td>\n      <td>2.00</td>\n      <td>0</td>\n    </tr>\n    <tr>\n      <th>27063</th>\n      <td>4400</td>\n      <td>3</td>\n      <td>0</td>\n      <td>1.50</td>\n      <td>0</td>\n    </tr>\n  </tbody>\n</table>\n<p>22687 rows × 5 columns</p>\n</div>"
     },
     "execution_count": 8,
     "metadata": {},
     "output_type": "execute_result"
    }
   ],
   "source": [
    "data_without_dummies['NewConstruction'] = [1 if d else 0 for d in data_without_dummies['NewConstruction']]\n",
    "data_without_dummies"
   ],
   "metadata": {
    "collapsed": false,
    "pycharm": {
     "name": "#%%\n"
    }
   }
  },
  {
   "cell_type": "code",
   "execution_count": 11,
   "outputs": [
    {
     "data": {
      "text/plain": "<class 'statsmodels.iolib.summary.Summary'>\n\"\"\"\n                            OLS Regression Results                            \n==============================================================================\nDep. Variable:           AdjSalePrice   R-squared:                       0.313\nModel:                            OLS   Adj. R-squared:                  0.312\nMethod:                 Least Squares   F-statistic:                     2063.\nDate:                Mon, 09 May 2022   Prob (F-statistic):               0.00\nTime:                        18:21:53   Log-Likelihood:            -3.1974e+05\nNo. Observations:               22687   AIC:                         6.395e+05\nDf Residuals:                   22681   BIC:                         6.395e+05\nDf Model:                           5                                         \nCovariance Type:            nonrobust                                         \n===================================================================================\n                      coef    std err          t      P>|t|      [0.025      0.975]\n-----------------------------------------------------------------------------------\nSqFtLot             1.0293      0.074     13.936      0.000       0.885       1.174\nBedrooms        -1790.1275   2852.539     -0.628      0.530   -7381.299    3801.044\nSqFtFinBasement   140.5929      5.192     27.079      0.000     130.416     150.769\nBathrooms        2.436e+05   3428.979     71.047      0.000    2.37e+05     2.5e+05\nNewConstruction  -3.92e+04   7211.965     -5.435      0.000   -5.33e+04   -2.51e+04\nconst           -8159.1692   8558.826     -0.953      0.340   -2.49e+04    8616.717\n==============================================================================\nOmnibus:                    25897.944   Durbin-Watson:                   1.205\nProb(Omnibus):                  0.000   Jarque-Bera (JB):          7339792.177\nSkew:                           5.561   Prob(JB):                         0.00\nKurtosis:                      90.412   Cond. No.                     1.30e+05\n==============================================================================\n\nNotes:\n[1] Standard Errors assume that the covariance matrix of the errors is correctly specified.\n[2] The condition number is large, 1.3e+05. This might indicate that there are\nstrong multicollinearity or other numerical problems.\n\"\"\"",
      "text/html": "<table class=\"simpletable\">\n<caption>OLS Regression Results</caption>\n<tr>\n  <th>Dep. Variable:</th>      <td>AdjSalePrice</td>   <th>  R-squared:         </th>  <td>   0.313</td>  \n</tr>\n<tr>\n  <th>Model:</th>                   <td>OLS</td>       <th>  Adj. R-squared:    </th>  <td>   0.312</td>  \n</tr>\n<tr>\n  <th>Method:</th>             <td>Least Squares</td>  <th>  F-statistic:       </th>  <td>   2063.</td>  \n</tr>\n<tr>\n  <th>Date:</th>             <td>Mon, 09 May 2022</td> <th>  Prob (F-statistic):</th>   <td>  0.00</td>   \n</tr>\n<tr>\n  <th>Time:</th>                 <td>18:21:53</td>     <th>  Log-Likelihood:    </th> <td>-3.1974e+05</td>\n</tr>\n<tr>\n  <th>No. Observations:</th>      <td> 22687</td>      <th>  AIC:               </th>  <td>6.395e+05</td> \n</tr>\n<tr>\n  <th>Df Residuals:</th>          <td> 22681</td>      <th>  BIC:               </th>  <td>6.395e+05</td> \n</tr>\n<tr>\n  <th>Df Model:</th>              <td>     5</td>      <th>                     </th>      <td> </td>     \n</tr>\n<tr>\n  <th>Covariance Type:</th>      <td>nonrobust</td>    <th>                     </th>      <td> </td>     \n</tr>\n</table>\n<table class=\"simpletable\">\n<tr>\n         <td></td>            <th>coef</th>     <th>std err</th>      <th>t</th>      <th>P>|t|</th>  <th>[0.025</th>    <th>0.975]</th>  \n</tr>\n<tr>\n  <th>SqFtLot</th>         <td>    1.0293</td> <td>    0.074</td> <td>   13.936</td> <td> 0.000</td> <td>    0.885</td> <td>    1.174</td>\n</tr>\n<tr>\n  <th>Bedrooms</th>        <td>-1790.1275</td> <td> 2852.539</td> <td>   -0.628</td> <td> 0.530</td> <td>-7381.299</td> <td> 3801.044</td>\n</tr>\n<tr>\n  <th>SqFtFinBasement</th> <td>  140.5929</td> <td>    5.192</td> <td>   27.079</td> <td> 0.000</td> <td>  130.416</td> <td>  150.769</td>\n</tr>\n<tr>\n  <th>Bathrooms</th>       <td> 2.436e+05</td> <td> 3428.979</td> <td>   71.047</td> <td> 0.000</td> <td> 2.37e+05</td> <td>  2.5e+05</td>\n</tr>\n<tr>\n  <th>NewConstruction</th> <td> -3.92e+04</td> <td> 7211.965</td> <td>   -5.435</td> <td> 0.000</td> <td>-5.33e+04</td> <td>-2.51e+04</td>\n</tr>\n<tr>\n  <th>const</th>           <td>-8159.1692</td> <td> 8558.826</td> <td>   -0.953</td> <td> 0.340</td> <td>-2.49e+04</td> <td> 8616.717</td>\n</tr>\n</table>\n<table class=\"simpletable\">\n<tr>\n  <th>Omnibus:</th>       <td>25897.944</td> <th>  Durbin-Watson:     </th>  <td>   1.205</td>  \n</tr>\n<tr>\n  <th>Prob(Omnibus):</th>  <td> 0.000</td>   <th>  Jarque-Bera (JB):  </th> <td>7339792.177</td>\n</tr>\n<tr>\n  <th>Skew:</th>           <td> 5.561</td>   <th>  Prob(JB):          </th>  <td>    0.00</td>  \n</tr>\n<tr>\n  <th>Kurtosis:</th>       <td>90.412</td>   <th>  Cond. No.          </th>  <td>1.30e+05</td>  \n</tr>\n</table><br/><br/>Notes:<br/>[1] Standard Errors assume that the covariance matrix of the errors is correctly specified.<br/>[2] The condition number is large, 1.3e+05. This might indicate that there are<br/>strong multicollinearity or other numerical problems."
     },
     "execution_count": 11,
     "metadata": {},
     "output_type": "execute_result"
    }
   ],
   "source": [
    "# Entrenamiento con los datos\n",
    "model = sm.OLS(data[outcome],data_without_dummies.assign(const=1))\n",
    "results = model.fit()\n",
    "\n",
    "results.summary()"
   ],
   "metadata": {
    "collapsed": false,
    "pycharm": {
     "name": "#%%\n"
    }
   }
  },
  {
   "cell_type": "code",
   "execution_count": 36,
   "outputs": [
    {
     "name": "stdout",
     "output_type": "stream",
     "text": [
      "Variables: PropertyID, zhvi_px, zhvi_idx, NbrLivingUnits, SqFtLot, SqFtTotLiving, SqFtFinBasement, Bathrooms, Bedrooms, BldgGrade, YrBuilt, YrRenovated, TrafficNoise, LandVal, ImpsVal, ZipCode, NewConstruction\n",
      "Start: score=602059.55, constant\n",
      "Step: score=602053.71, remove YrBuilt\n",
      "Step: score=602050.15, remove TrafficNoise\n",
      "Step: score=602047.79, remove Bathrooms\n",
      "Step: score=602045.79, remove zhvi_idx\n",
      "Step: score=602044.08, remove PropertyID\n",
      "Step: score=602044.08, unchanged None\n"
     ]
    },
    {
     "data": {
      "text/plain": "['zhvi_px',\n 'NbrLivingUnits',\n 'SqFtLot',\n 'SqFtTotLiving',\n 'SqFtFinBasement',\n 'Bedrooms',\n 'BldgGrade',\n 'YrRenovated',\n 'LandVal',\n 'ImpsVal',\n 'ZipCode',\n 'NewConstruction']"
     },
     "execution_count": 36,
     "metadata": {},
     "output_type": "execute_result"
    }
   ],
   "source": [
    "# Stepwise selection\n",
    "\n",
    "data_stepwise = data.drop(['AdjSalePrice'],axis=1)\n",
    "def train(variables):\n",
    "    if len(variables)==0:\n",
    "        return None\n",
    "    model = LinearRegression()\n",
    "    model.fit(data_stepwise[variables],data[outcome],sample_weight=weighted_data['Weight'])\n",
    "    return model\n",
    "\n",
    "def score_model(model,variables):\n",
    "    if len(variables)==0:\n",
    "        return None # Como obtener el AIC_score cuando no hay variables\n",
    "\n",
    "    aic = AIC_score(data[outcome],model.predict(data_stepwise[variables]),model)\n",
    "    return aic\n",
    "\n",
    "model,variables = stepwise_selection(data_stepwise.columns,train_model=train,score_model=score_model,verbose=True,direction='backward')\n",
    "\n",
    "variables"
   ],
   "metadata": {
    "collapsed": false,
    "pycharm": {
     "name": "#%%\n"
    }
   }
  },
  {
   "cell_type": "code",
   "execution_count": 39,
   "outputs": [
    {
     "name": "stdout",
     "output_type": "stream",
     "text": [
      "                            OLS Regression Results                            \n",
      "==============================================================================\n",
      "Dep. Variable:           AdjSalePrice   R-squared:                       0.871\n",
      "Model:                            OLS   Adj. R-squared:                  0.871\n",
      "Method:                 Least Squares   F-statistic:                 1.280e+04\n",
      "Date:                Mon, 09 May 2022   Prob (F-statistic):               0.00\n",
      "Time:                        18:57:03   Log-Likelihood:            -3.0073e+05\n",
      "No. Observations:               22687   AIC:                         6.015e+05\n",
      "Df Residuals:                   22674   BIC:                         6.016e+05\n",
      "Df Model:                          12                                         \n",
      "Covariance Type:            nonrobust                                         \n",
      "===================================================================================\n",
      "                      coef    std err          t      P>|t|      [0.025      0.975]\n",
      "-----------------------------------------------------------------------------------\n",
      "zhvi_px            -0.1629      0.025     -6.432      0.000      -0.212      -0.113\n",
      "NbrLivingUnits    1.28e+04   5903.557      2.168      0.030    1229.012    2.44e+04\n",
      "SqFtLot             0.4280      0.033     13.081      0.000       0.364       0.492\n",
      "SqFtTotLiving      42.5066      2.298     18.497      0.000      38.002      47.011\n",
      "SqFtFinBasement   -10.3311      2.541     -4.066      0.000     -15.312      -5.350\n",
      "Bedrooms        -7824.4326   1330.637     -5.880      0.000   -1.04e+04   -5216.293\n",
      "BldgGrade        8027.7766   1428.140      5.621      0.000    5228.525    1.08e+04\n",
      "YrRenovated       -12.8248      2.125     -6.035      0.000     -16.990      -8.659\n",
      "LandVal             1.0554      0.006    166.638      0.000       1.043       1.068\n",
      "ImpsVal             0.7822      0.008    104.013      0.000       0.767       0.797\n",
      "ZipCode            45.9507     19.167      2.397      0.017       8.383      83.519\n",
      "NewConstruction  2.101e+04   3141.132      6.690      0.000    1.49e+04    2.72e+04\n",
      "const           -4.485e+06   1.88e+06     -2.384      0.017   -8.17e+06   -7.98e+05\n",
      "==============================================================================\n",
      "Omnibus:                     8652.179   Durbin-Watson:                   1.890\n",
      "Prob(Omnibus):                  0.000   Jarque-Bera (JB):          6543546.078\n",
      "Skew:                          -0.189   Prob(JB):                         0.00\n",
      "Kurtosis:                      86.199   Cond. No.                     1.19e+09\n",
      "==============================================================================\n",
      "\n",
      "Notes:\n",
      "[1] Standard Errors assume that the covariance matrix of the errors is correctly specified.\n",
      "[2] The condition number is large, 1.19e+09. This might indicate that there are\n",
      "strong multicollinearity or other numerical problems.\n"
     ]
    },
    {
     "name": "stderr",
     "output_type": "stream",
     "text": [
      "/var/folders/64/58xw9w1s67b6hb_zqj11t8480000gn/T/ipykernel_9848/1068640581.py:2: SettingWithCopyWarning: \n",
      "A value is trying to be set on a copy of a slice from a DataFrame.\n",
      "Try using .loc[row_indexer,col_indexer] = value instead\n",
      "\n",
      "See the caveats in the documentation: https://pandas.pydata.org/pandas-docs/stable/user_guide/indexing.html#returning-a-view-versus-a-copy\n",
      "  selected_data['NewConstruction'] = [1 if d else 0 for d in selected_data['NewConstruction']]\n"
     ]
    }
   ],
   "source": [
    "selected_data = data[variables]\n",
    "selected_data['NewConstruction'] = [1 if d else 0 for d in selected_data['NewConstruction']]\n",
    "\n",
    "model = sm.OLS(data[outcome],selected_data.assign(const=1))\n",
    "results = model.fit()\n",
    "\n",
    "print(results.summary())"
   ],
   "metadata": {
    "collapsed": false,
    "pycharm": {
     "name": "#%%\n"
    }
   }
  },
  {
   "cell_type": "code",
   "execution_count": 24,
   "outputs": [
    {
     "data": {
      "text/plain": "      DocumentDate  PropertyID  zhvi_px  zhvi_idx  AdjSalePrice  \\\n1       2014-09-16     1000102   405100  0.930836      300805.0   \n2       2006-06-16     1200013   404400  0.929228     1076162.0   \n3       2007-01-29     1200019   425600  0.977941      761805.0   \n4       2008-02-25     2800016   418400  0.961397      442065.0   \n5       2013-03-29     2800024   351600  0.807904      297065.0   \n...            ...         ...      ...       ...           ...   \n27057   2011-04-08  9842300710   318700  0.732307      443803.0   \n27058   2007-09-28  9845500010   433500  0.996094     1586196.0   \n27061   2012-07-09  9899200010   325300  0.747472      220744.0   \n27062   2006-05-26  9900000355   400600  0.920496      342207.0   \n27063   2007-01-09  9906000035   425600  0.977941      475489.0   \n\n       NbrLivingUnits  SqFtLot  SqFtTotLiving  SqFtFinBasement  Bathrooms  \\\n1                   2     9373           2400                0       3.00   \n2                   1    20156           3764             1452       3.75   \n3                   1    26036           2060              900       1.75   \n4                   1     8618           3200             1640       3.75   \n5                   1     8620           1720                0       1.75   \n...               ...      ...            ...              ...        ...   \n27057               1     5468           1480              590       1.75   \n27058               1    23914           4720              910       4.50   \n27061               1    11170           1070                0       1.00   \n27062               1     6223           1345                0       2.00   \n27063               1     4400            790                0       1.50   \n\n       Bedrooms  BldgGrade  YrRenovated  TrafficNoise  LandVal  ImpsVal  \\\n1             6          7            0             0    70000   229000   \n2             4         10            0             0   203000   590000   \n3             4          8            0             0   183000   275000   \n4             5          7            0             0   104000   229000   \n5             4          7            0             0   104000   205000   \n...         ...        ...          ...           ...      ...      ...   \n27057         3          7            0             0   201000   172000   \n27058         4         11            0             1   703000   951000   \n27061         4          6            0             0    92000   130000   \n27062         3          7            0             0   103000   212000   \n27063         3          7            0             0   311000   268000   \n\n       ZipCode  NewConstruction  \n1        98002            False  \n2        98166             True  \n3        98166            False  \n4        98168            False  \n5        98168            False  \n...        ...              ...  \n27057    98126            False  \n27058    98040            False  \n27061    98055            False  \n27062    98166            False  \n27063    98103            False  \n\n[22687 rows x 18 columns]",
      "text/html": "<div>\n<style scoped>\n    .dataframe tbody tr th:only-of-type {\n        vertical-align: middle;\n    }\n\n    .dataframe tbody tr th {\n        vertical-align: top;\n    }\n\n    .dataframe thead th {\n        text-align: right;\n    }\n</style>\n<table border=\"1\" class=\"dataframe\">\n  <thead>\n    <tr style=\"text-align: right;\">\n      <th></th>\n      <th>DocumentDate</th>\n      <th>PropertyID</th>\n      <th>zhvi_px</th>\n      <th>zhvi_idx</th>\n      <th>AdjSalePrice</th>\n      <th>NbrLivingUnits</th>\n      <th>SqFtLot</th>\n      <th>SqFtTotLiving</th>\n      <th>SqFtFinBasement</th>\n      <th>Bathrooms</th>\n      <th>Bedrooms</th>\n      <th>BldgGrade</th>\n      <th>YrRenovated</th>\n      <th>TrafficNoise</th>\n      <th>LandVal</th>\n      <th>ImpsVal</th>\n      <th>ZipCode</th>\n      <th>NewConstruction</th>\n    </tr>\n  </thead>\n  <tbody>\n    <tr>\n      <th>1</th>\n      <td>2014-09-16</td>\n      <td>1000102</td>\n      <td>405100</td>\n      <td>0.930836</td>\n      <td>300805.0</td>\n      <td>2</td>\n      <td>9373</td>\n      <td>2400</td>\n      <td>0</td>\n      <td>3.00</td>\n      <td>6</td>\n      <td>7</td>\n      <td>0</td>\n      <td>0</td>\n      <td>70000</td>\n      <td>229000</td>\n      <td>98002</td>\n      <td>False</td>\n    </tr>\n    <tr>\n      <th>2</th>\n      <td>2006-06-16</td>\n      <td>1200013</td>\n      <td>404400</td>\n      <td>0.929228</td>\n      <td>1076162.0</td>\n      <td>1</td>\n      <td>20156</td>\n      <td>3764</td>\n      <td>1452</td>\n      <td>3.75</td>\n      <td>4</td>\n      <td>10</td>\n      <td>0</td>\n      <td>0</td>\n      <td>203000</td>\n      <td>590000</td>\n      <td>98166</td>\n      <td>True</td>\n    </tr>\n    <tr>\n      <th>3</th>\n      <td>2007-01-29</td>\n      <td>1200019</td>\n      <td>425600</td>\n      <td>0.977941</td>\n      <td>761805.0</td>\n      <td>1</td>\n      <td>26036</td>\n      <td>2060</td>\n      <td>900</td>\n      <td>1.75</td>\n      <td>4</td>\n      <td>8</td>\n      <td>0</td>\n      <td>0</td>\n      <td>183000</td>\n      <td>275000</td>\n      <td>98166</td>\n      <td>False</td>\n    </tr>\n    <tr>\n      <th>4</th>\n      <td>2008-02-25</td>\n      <td>2800016</td>\n      <td>418400</td>\n      <td>0.961397</td>\n      <td>442065.0</td>\n      <td>1</td>\n      <td>8618</td>\n      <td>3200</td>\n      <td>1640</td>\n      <td>3.75</td>\n      <td>5</td>\n      <td>7</td>\n      <td>0</td>\n      <td>0</td>\n      <td>104000</td>\n      <td>229000</td>\n      <td>98168</td>\n      <td>False</td>\n    </tr>\n    <tr>\n      <th>5</th>\n      <td>2013-03-29</td>\n      <td>2800024</td>\n      <td>351600</td>\n      <td>0.807904</td>\n      <td>297065.0</td>\n      <td>1</td>\n      <td>8620</td>\n      <td>1720</td>\n      <td>0</td>\n      <td>1.75</td>\n      <td>4</td>\n      <td>7</td>\n      <td>0</td>\n      <td>0</td>\n      <td>104000</td>\n      <td>205000</td>\n      <td>98168</td>\n      <td>False</td>\n    </tr>\n    <tr>\n      <th>...</th>\n      <td>...</td>\n      <td>...</td>\n      <td>...</td>\n      <td>...</td>\n      <td>...</td>\n      <td>...</td>\n      <td>...</td>\n      <td>...</td>\n      <td>...</td>\n      <td>...</td>\n      <td>...</td>\n      <td>...</td>\n      <td>...</td>\n      <td>...</td>\n      <td>...</td>\n      <td>...</td>\n      <td>...</td>\n      <td>...</td>\n    </tr>\n    <tr>\n      <th>27057</th>\n      <td>2011-04-08</td>\n      <td>9842300710</td>\n      <td>318700</td>\n      <td>0.732307</td>\n      <td>443803.0</td>\n      <td>1</td>\n      <td>5468</td>\n      <td>1480</td>\n      <td>590</td>\n      <td>1.75</td>\n      <td>3</td>\n      <td>7</td>\n      <td>0</td>\n      <td>0</td>\n      <td>201000</td>\n      <td>172000</td>\n      <td>98126</td>\n      <td>False</td>\n    </tr>\n    <tr>\n      <th>27058</th>\n      <td>2007-09-28</td>\n      <td>9845500010</td>\n      <td>433500</td>\n      <td>0.996094</td>\n      <td>1586196.0</td>\n      <td>1</td>\n      <td>23914</td>\n      <td>4720</td>\n      <td>910</td>\n      <td>4.50</td>\n      <td>4</td>\n      <td>11</td>\n      <td>0</td>\n      <td>1</td>\n      <td>703000</td>\n      <td>951000</td>\n      <td>98040</td>\n      <td>False</td>\n    </tr>\n    <tr>\n      <th>27061</th>\n      <td>2012-07-09</td>\n      <td>9899200010</td>\n      <td>325300</td>\n      <td>0.747472</td>\n      <td>220744.0</td>\n      <td>1</td>\n      <td>11170</td>\n      <td>1070</td>\n      <td>0</td>\n      <td>1.00</td>\n      <td>4</td>\n      <td>6</td>\n      <td>0</td>\n      <td>0</td>\n      <td>92000</td>\n      <td>130000</td>\n      <td>98055</td>\n      <td>False</td>\n    </tr>\n    <tr>\n      <th>27062</th>\n      <td>2006-05-26</td>\n      <td>9900000355</td>\n      <td>400600</td>\n      <td>0.920496</td>\n      <td>342207.0</td>\n      <td>1</td>\n      <td>6223</td>\n      <td>1345</td>\n      <td>0</td>\n      <td>2.00</td>\n      <td>3</td>\n      <td>7</td>\n      <td>0</td>\n      <td>0</td>\n      <td>103000</td>\n      <td>212000</td>\n      <td>98166</td>\n      <td>False</td>\n    </tr>\n    <tr>\n      <th>27063</th>\n      <td>2007-01-09</td>\n      <td>9906000035</td>\n      <td>425600</td>\n      <td>0.977941</td>\n      <td>475489.0</td>\n      <td>1</td>\n      <td>4400</td>\n      <td>790</td>\n      <td>0</td>\n      <td>1.50</td>\n      <td>3</td>\n      <td>7</td>\n      <td>0</td>\n      <td>0</td>\n      <td>311000</td>\n      <td>268000</td>\n      <td>98103</td>\n      <td>False</td>\n    </tr>\n  </tbody>\n</table>\n<p>22687 rows × 18 columns</p>\n</div>"
     },
     "execution_count": 24,
     "metadata": {},
     "output_type": "execute_result"
    }
   ],
   "source": [
    "# weighted regression\n",
    "# A partir de los años\n",
    "weighted_data = csv.drop([\"ym\",\"PropertyType\",\"SalePrice\",\"YrBuilt\"], axis=1)\n",
    "weighted_data"
   ],
   "metadata": {
    "collapsed": false,
    "pycharm": {
     "name": "#%%\n"
    }
   }
  },
  {
   "cell_type": "code",
   "execution_count": 40,
   "outputs": [
    {
     "data": {
      "text/plain": "1        9\n2        1\n3        2\n4        3\n5        8\n        ..\n27057    6\n27058    2\n27061    7\n27062    1\n27063    2\nName: Weight, Length: 22687, dtype: int64"
     },
     "execution_count": 40,
     "metadata": {},
     "output_type": "execute_result"
    }
   ],
   "source": [
    "weighted_data['Year'] = [ int(date.split('-')[0]) for date in weighted_data['DocumentDate']]\n",
    "\n",
    "min_year = weighted_data['Year'].min()-1\n",
    "\n",
    "weighted_data['Weight'] = weighted_data['Year']-min_year\n",
    "\n",
    "weighted_data['Weight']"
   ],
   "metadata": {
    "collapsed": false,
    "pycharm": {
     "name": "#%%\n"
    }
   }
  },
  {
   "cell_type": "code",
   "execution_count": 31,
   "outputs": [
    {
     "data": {
      "text/plain": "LinearRegression()"
     },
     "execution_count": 31,
     "metadata": {},
     "output_type": "execute_result"
    }
   ],
   "source": [
    "weighted_model = LinearRegression()\n",
    "\n",
    "weighted_model.fit(weighted_data[variables],weighted_data[outcome],sample_weight=weighted_data['Weight'])"
   ],
   "metadata": {
    "collapsed": false,
    "pycharm": {
     "name": "#%%\n"
    }
   }
  },
  {
   "cell_type": "code",
   "execution_count": 37,
   "outputs": [
    {
     "name": "stdout",
     "output_type": "stream",
     "text": [
      "Intercept 1.979060471057892e-09\n",
      "zhvi_px 6.186181839854168e-22\n",
      "NbrLivingUnits 8.881784197001252e-16\n",
      "SqFtLot 1.6189948517291047e-16\n",
      "SqFtTotLiving 1.0000000000000013\n",
      "SqFtFinBasement 3.7153481143290574e-11\n",
      "Bedrooms -1.5560335201987795e-16\n",
      "BldgGrade 4.167894444503079e-15\n",
      "YrRenovated -8.260507395417508e-15\n",
      "LandVal -6.283070901710702e-12\n",
      "ImpsVal -2.3794066691069184e-13\n",
      "ZipCode 2.3065776064879474e-12\n",
      "NewConstruction 1.973331464280985e-15\n"
     ]
    }
   ],
   "source": [
    "print('Intercept',weighted_model.intercept_)\n",
    "for name, coef in zip(variables,weighted_model.coef_):\n",
    "    print(name,coef)"
   ],
   "metadata": {
    "collapsed": false,
    "pycharm": {
     "name": "#%%\n"
    }
   }
  },
  {
   "cell_type": "code",
   "execution_count": null,
   "outputs": [],
   "source": [],
   "metadata": {
    "collapsed": false,
    "pycharm": {
     "name": "#%%\n"
    }
   }
  }
 ],
 "metadata": {
  "kernelspec": {
   "display_name": "Python 3",
   "language": "python",
   "name": "python3"
  },
  "language_info": {
   "codemirror_mode": {
    "name": "ipython",
    "version": 2
   },
   "file_extension": ".py",
   "mimetype": "text/x-python",
   "name": "python",
   "nbconvert_exporter": "python",
   "pygments_lexer": "ipython2",
   "version": "2.7.6"
  }
 },
 "nbformat": 4,
 "nbformat_minor": 0
}