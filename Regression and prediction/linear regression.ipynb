{
 "cells": [
  {
   "cell_type": "markdown",
   "metadata": {
    "collapsed": true,
    "pycharm": {
     "name": "#%% md\n"
    }
   },
   "source": [
    "- Response(dependent variable, Y variable, target, outcome): variable que tratamos de predecir.\n",
    "- Independent variable(X variable, feature, attribute, predictor): La variable que usamos para predecir la respuesta\n",
    "- Record(row, case, instance, example): El vector de variables predictoras y los valores de salida de un individuo especifico o caso\n",
    "- Intercept(b0): La interseccioón de la línea de regresión, es decir, el valor pronosticado cuando X=0\n",
    "- regression coefficient(slope,b1, weights, parameter stimates ): La pendiente de la línea de regresión.\n",
    "- Fitted values (predicted values): Los estimados obtenidos de la línea de regresión\n",
    "- Residuals (errors): La diferencia entre los valores observados y los valores ajustados(fitted values)\n",
    "- Least squares(Mínimos cuadrados): El método de ajustar una regresión minimizando la suma de los residuos al cuadrado."
   ]
  },
  {
   "cell_type": "code",
   "execution_count": 3,
   "outputs": [],
   "source": [
    "import pandas as pd"
   ],
   "metadata": {
    "collapsed": false,
    "pycharm": {
     "name": "#%%\n"
    }
   }
  },
  {
   "cell_type": "code",
   "execution_count": 4,
   "outputs": [
    {
     "data": {
      "text/plain": "     PEFR  Exposure\n0     390         0\n1     410         0\n2     430         0\n3     460         0\n4     420         1\n..    ...       ...\n117   450        22\n118   490        22\n119   500        22\n120   370        23\n121   390        23\n\n[122 rows x 2 columns]",
      "text/html": "<div>\n<style scoped>\n    .dataframe tbody tr th:only-of-type {\n        vertical-align: middle;\n    }\n\n    .dataframe tbody tr th {\n        vertical-align: top;\n    }\n\n    .dataframe thead th {\n        text-align: right;\n    }\n</style>\n<table border=\"1\" class=\"dataframe\">\n  <thead>\n    <tr style=\"text-align: right;\">\n      <th></th>\n      <th>PEFR</th>\n      <th>Exposure</th>\n    </tr>\n  </thead>\n  <tbody>\n    <tr>\n      <th>0</th>\n      <td>390</td>\n      <td>0</td>\n    </tr>\n    <tr>\n      <th>1</th>\n      <td>410</td>\n      <td>0</td>\n    </tr>\n    <tr>\n      <th>2</th>\n      <td>430</td>\n      <td>0</td>\n    </tr>\n    <tr>\n      <th>3</th>\n      <td>460</td>\n      <td>0</td>\n    </tr>\n    <tr>\n      <th>4</th>\n      <td>420</td>\n      <td>1</td>\n    </tr>\n    <tr>\n      <th>...</th>\n      <td>...</td>\n      <td>...</td>\n    </tr>\n    <tr>\n      <th>117</th>\n      <td>450</td>\n      <td>22</td>\n    </tr>\n    <tr>\n      <th>118</th>\n      <td>490</td>\n      <td>22</td>\n    </tr>\n    <tr>\n      <th>119</th>\n      <td>500</td>\n      <td>22</td>\n    </tr>\n    <tr>\n      <th>120</th>\n      <td>370</td>\n      <td>23</td>\n    </tr>\n    <tr>\n      <th>121</th>\n      <td>390</td>\n      <td>23</td>\n    </tr>\n  </tbody>\n</table>\n<p>122 rows × 2 columns</p>\n</div>"
     },
     "execution_count": 4,
     "metadata": {},
     "output_type": "execute_result"
    }
   ],
   "source": [
    "data = pd.read_csv(\"../Datasets/LungDisease.csv\")\n",
    "\n",
    "data"
   ],
   "metadata": {
    "collapsed": false,
    "pycharm": {
     "name": "#%%\n"
    }
   }
  },
  {
   "cell_type": "code",
   "execution_count": 4,
   "outputs": [],
   "source": [],
   "metadata": {
    "collapsed": false,
    "pycharm": {
     "name": "#%%\n"
    }
   }
  }
 ],
 "metadata": {
  "kernelspec": {
   "display_name": "Python 3",
   "language": "python",
   "name": "python3"
  },
  "language_info": {
   "codemirror_mode": {
    "name": "ipython",
    "version": 2
   },
   "file_extension": ".py",
   "mimetype": "text/x-python",
   "name": "python",
   "nbconvert_exporter": "python",
   "pygments_lexer": "ipython2",
   "version": "2.7.6"
  }
 },
 "nbformat": 4,
 "nbformat_minor": 0
}