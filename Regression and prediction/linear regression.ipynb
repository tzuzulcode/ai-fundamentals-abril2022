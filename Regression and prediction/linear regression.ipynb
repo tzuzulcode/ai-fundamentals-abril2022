{
 "cells": [
  {
   "cell_type": "markdown",
   "metadata": {
    "collapsed": true,
    "pycharm": {
     "name": "#%% md\n"
    }
   },
   "source": [
    "- Response(dependent variable, Y variable, target, outcome): variable que tratamos de predecir.\n",
    "- Independent variable(X variable, feature, attribute, predictor): La variable que usamos para predecir la respuesta\n",
    "- Record(row, case, instance, example): El vector de variables predictoras y los valores de salida de un individuo especifico o caso\n",
    "- Intercept(b0): La interseccioón de la línea de regresión, es decir, el valor pronosticado cuando X=0\n",
    "- regression coefficient(slope,b1, weights, parameter stimates ): La pendiente de la línea de regresión.\n",
    "- Fitted values (predicted values): Los estimados obtenidos de la línea de regresión\n",
    "- Residuals (errors, prediction errors): La diferencia entre los valores observados y los valores ajustados(fitted values)\n",
    "- Least squares(Mínimos cuadrados): El método de ajustar una regresión minimizando la suma de los residuos al cuadrado."
   ]
  },
  {
   "cell_type": "code",
   "execution_count": 1,
   "outputs": [],
   "source": [
    "import pandas as pd\n",
    "import matplotlib.pyplot as plt\n",
    "from sklearn import linear_model\n",
    "import numpy as np"
   ],
   "metadata": {
    "collapsed": false,
    "pycharm": {
     "name": "#%%\n"
    }
   }
  },
  {
   "cell_type": "code",
   "execution_count": 2,
   "outputs": [
    {
     "data": {
      "text/plain": "     PEFR  Exposure\n0     390         0\n1     410         0\n2     430         0\n3     460         0\n4     420         1\n..    ...       ...\n117   450        22\n118   490        22\n119   500        22\n120   370        23\n121   390        23\n\n[122 rows x 2 columns]",
      "text/html": "<div>\n<style scoped>\n    .dataframe tbody tr th:only-of-type {\n        vertical-align: middle;\n    }\n\n    .dataframe tbody tr th {\n        vertical-align: top;\n    }\n\n    .dataframe thead th {\n        text-align: right;\n    }\n</style>\n<table border=\"1\" class=\"dataframe\">\n  <thead>\n    <tr style=\"text-align: right;\">\n      <th></th>\n      <th>PEFR</th>\n      <th>Exposure</th>\n    </tr>\n  </thead>\n  <tbody>\n    <tr>\n      <th>0</th>\n      <td>390</td>\n      <td>0</td>\n    </tr>\n    <tr>\n      <th>1</th>\n      <td>410</td>\n      <td>0</td>\n    </tr>\n    <tr>\n      <th>2</th>\n      <td>430</td>\n      <td>0</td>\n    </tr>\n    <tr>\n      <th>3</th>\n      <td>460</td>\n      <td>0</td>\n    </tr>\n    <tr>\n      <th>4</th>\n      <td>420</td>\n      <td>1</td>\n    </tr>\n    <tr>\n      <th>...</th>\n      <td>...</td>\n      <td>...</td>\n    </tr>\n    <tr>\n      <th>117</th>\n      <td>450</td>\n      <td>22</td>\n    </tr>\n    <tr>\n      <th>118</th>\n      <td>490</td>\n      <td>22</td>\n    </tr>\n    <tr>\n      <th>119</th>\n      <td>500</td>\n      <td>22</td>\n    </tr>\n    <tr>\n      <th>120</th>\n      <td>370</td>\n      <td>23</td>\n    </tr>\n    <tr>\n      <th>121</th>\n      <td>390</td>\n      <td>23</td>\n    </tr>\n  </tbody>\n</table>\n<p>122 rows × 2 columns</p>\n</div>"
     },
     "execution_count": 2,
     "metadata": {},
     "output_type": "execute_result"
    }
   ],
   "source": [
    "data = pd.read_csv(\"../Datasets/LungDisease.csv\")\n",
    "\n",
    "data"
   ],
   "metadata": {
    "collapsed": false,
    "pycharm": {
     "name": "#%%\n"
    }
   }
  },
  {
   "cell_type": "code",
   "execution_count": 2,
   "outputs": [],
   "source": [],
   "metadata": {
    "collapsed": false,
    "pycharm": {
     "name": "#%%\n"
    }
   }
  },
  {
   "cell_type": "code",
   "execution_count": 3,
   "outputs": [
    {
     "data": {
      "text/plain": "<matplotlib.collections.PathCollection at 0x14781dc40>"
     },
     "execution_count": 3,
     "metadata": {},
     "output_type": "execute_result"
    },
    {
     "data": {
      "text/plain": "<Figure size 432x288 with 1 Axes>",
      "image/png": "[encoded data removed]"
     },
     "metadata": {
      "needs_background": "light"
     },
     "output_type": "display_data"
    }
   ],
   "source": [
    "plt.scatter(data.Exposure,data.PEFR)"
   ],
   "metadata": {
    "collapsed": false,
    "pycharm": {
     "name": "#%%\n"
    }
   }
  },
  {
   "cell_type": "code",
   "execution_count": 4,
   "outputs": [
    {
     "data": {
      "text/plain": "LinearRegression()"
     },
     "execution_count": 4,
     "metadata": {},
     "output_type": "execute_result"
    }
   ],
   "source": [
    "model = linear_model.LinearRegression()\n",
    "\n",
    "model.fit(data[['Exposure']],data['PEFR'])"
   ],
   "metadata": {
    "collapsed": false,
    "pycharm": {
     "name": "#%%\n"
    }
   }
  },
  {
   "cell_type": "code",
   "execution_count": 5,
   "outputs": [
    {
     "data": {
      "text/plain": "     Exposure\n0           0\n1           0\n2           0\n3           0\n4           1\n..        ...\n117        22\n118        22\n119        22\n120        23\n121        23\n\n[122 rows x 1 columns]",
      "text/html": "<div>\n<style scoped>\n    .dataframe tbody tr th:only-of-type {\n        vertical-align: middle;\n    }\n\n    .dataframe tbody tr th {\n        vertical-align: top;\n    }\n\n    .dataframe thead th {\n        text-align: right;\n    }\n</style>\n<table border=\"1\" class=\"dataframe\">\n  <thead>\n    <tr style=\"text-align: right;\">\n      <th></th>\n      <th>Exposure</th>\n    </tr>\n  </thead>\n  <tbody>\n    <tr>\n      <th>0</th>\n      <td>0</td>\n    </tr>\n    <tr>\n      <th>1</th>\n      <td>0</td>\n    </tr>\n    <tr>\n      <th>2</th>\n      <td>0</td>\n    </tr>\n    <tr>\n      <th>3</th>\n      <td>0</td>\n    </tr>\n    <tr>\n      <th>4</th>\n      <td>1</td>\n    </tr>\n    <tr>\n      <th>...</th>\n      <td>...</td>\n    </tr>\n    <tr>\n      <th>117</th>\n      <td>22</td>\n    </tr>\n    <tr>\n      <th>118</th>\n      <td>22</td>\n    </tr>\n    <tr>\n      <th>119</th>\n      <td>22</td>\n    </tr>\n    <tr>\n      <th>120</th>\n      <td>23</td>\n    </tr>\n    <tr>\n      <th>121</th>\n      <td>23</td>\n    </tr>\n  </tbody>\n</table>\n<p>122 rows × 1 columns</p>\n</div>"
     },
     "execution_count": 5,
     "metadata": {},
     "output_type": "execute_result"
    }
   ],
   "source": [
    "data[['Exposure']]"
   ],
   "metadata": {
    "collapsed": false,
    "pycharm": {
     "name": "#%%\n"
    }
   }
  },
  {
   "cell_type": "code",
   "execution_count": 6,
   "outputs": [
    {
     "name": "stdout",
     "output_type": "stream",
     "text": [
      "Intercept:  424.582806573957\n",
      "Coefficient:  -4.1845764854614425\n"
     ]
    }
   ],
   "source": [
    "print(\"Intercept: \",model.intercept_)\n",
    "print(\"Coefficient: \",model.coef_[0])"
   ],
   "metadata": {
    "collapsed": false,
    "pycharm": {
     "name": "#%%\n"
    }
   }
  },
  {
   "cell_type": "code",
   "execution_count": 7,
   "outputs": [
    {
     "data": {
      "text/plain": "array([-4.18457649])"
     },
     "execution_count": 7,
     "metadata": {},
     "output_type": "execute_result"
    }
   ],
   "source": [
    "model.coef_"
   ],
   "metadata": {
    "collapsed": false,
    "pycharm": {
     "name": "#%%\n"
    }
   }
  },
  {
   "cell_type": "code",
   "execution_count": 8,
   "outputs": [
    {
     "data": {
      "text/plain": "array([ 0,  1,  2,  3,  4,  5,  6,  7,  8,  9, 10, 11, 12, 13, 14, 15, 16,\n       17, 18, 19, 20, 21, 22, 23, 24, 25])"
     },
     "execution_count": 8,
     "metadata": {},
     "output_type": "execute_result"
    }
   ],
   "source": [
    "X = [i for i in range(26)]\n",
    "X = np.array(X)\n",
    "X"
   ],
   "metadata": {
    "collapsed": false,
    "pycharm": {
     "name": "#%%\n"
    }
   }
  },
  {
   "cell_type": "code",
   "execution_count": 9,
   "outputs": [
    {
     "data": {
      "text/plain": "array([424.58280657, 420.39823009, 416.2136536 , 412.02907712,\n       407.84450063, 403.65992415, 399.47534766, 395.29077118,\n       391.10619469, 386.9216182 , 382.73704172, 378.55246523,\n       374.36788875, 370.18331226, 365.99873578, 361.81415929,\n       357.62958281, 353.44500632, 349.26042984, 345.07585335,\n       340.89127686, 336.70670038, 332.52212389, 328.33754741,\n       324.15297092, 319.96839444])"
     },
     "execution_count": 9,
     "metadata": {},
     "output_type": "execute_result"
    }
   ],
   "source": [
    "intercept = model.intercept_\n",
    "coef = model.coef_[0]\n",
    "\n",
    "# UFuncs de numpy\n",
    "Y = intercept + coef*X\n",
    "Y"
   ],
   "metadata": {
    "collapsed": false,
    "pycharm": {
     "name": "#%%\n"
    }
   }
  },
  {
   "cell_type": "code",
   "execution_count": 10,
   "outputs": [
    {
     "data": {
      "text/plain": "[<matplotlib.lines.Line2D at 0x1479565e0>]"
     },
     "execution_count": 10,
     "metadata": {},
     "output_type": "execute_result"
    },
    {
     "data": {
      "text/plain": "<Figure size 432x288 with 1 Axes>",
      "image/png": "[encoded data removed]"
     },
     "metadata": {
      "needs_background": "light"
     },
     "output_type": "display_data"
    }
   ],
   "source": [
    "plt.plot(Y)"
   ],
   "metadata": {
    "collapsed": false,
    "pycharm": {
     "name": "#%%\n"
    }
   }
  },
  {
   "cell_type": "code",
   "execution_count": 11,
   "outputs": [],
   "source": [
    "# Feature vector\n",
    "x = data['Exposure']\n",
    "\n",
    "# Response vector\n",
    "y = data['PEFR']"
   ],
   "metadata": {
    "collapsed": false,
    "pycharm": {
     "name": "#%%\n"
    }
   }
  },
  {
   "cell_type": "code",
   "execution_count": 12,
   "outputs": [
    {
     "data": {
      "text/plain": "0       0\n1       0\n2       0\n3       0\n4       1\n       ..\n117    22\n118    22\n119    22\n120    23\n121    23\nName: Exposure, Length: 122, dtype: int64"
     },
     "execution_count": 12,
     "metadata": {},
     "output_type": "execute_result"
    }
   ],
   "source": [
    "x"
   ],
   "metadata": {
    "collapsed": false,
    "pycharm": {
     "name": "#%%\n"
    }
   }
  },
  {
   "cell_type": "code",
   "execution_count": 13,
   "outputs": [
    {
     "data": {
      "text/plain": "0      390\n1      410\n2      430\n3      460\n4      420\n      ... \n117    450\n118    490\n119    500\n120    370\n121    390\nName: PEFR, Length: 122, dtype: int64"
     },
     "execution_count": 13,
     "metadata": {},
     "output_type": "execute_result"
    }
   ],
   "source": [
    "y"
   ],
   "metadata": {
    "collapsed": false,
    "pycharm": {
     "name": "#%%\n"
    }
   }
  },
  {
   "cell_type": "code",
   "execution_count": 14,
   "outputs": [],
   "source": [
    "def calculate_regression_coef(x,y):\n",
    "\n",
    "    mean_x = np.mean(x)\n",
    "    mean_y = np.mean(y)\n",
    "\n",
    "    SSxy = np.sum((mean_x - x) * (mean_y - y))\n",
    "\n",
    "    SSxx = np.sum((mean_x-x)*(mean_x-x))\n",
    "\n",
    "    b1 = SSxy/SSxx\n",
    "    b0 = mean_y - b1 * mean_x\n",
    "\n",
    "    return (b0,b1)"
   ],
   "metadata": {
    "collapsed": false,
    "pycharm": {
     "name": "#%%\n"
    }
   }
  },
  {
   "cell_type": "code",
   "execution_count": 15,
   "outputs": [],
   "source": [
    "b0,b1 = calculate_regression_coef(x,y)"
   ],
   "metadata": {
    "collapsed": false,
    "pycharm": {
     "name": "#%%\n"
    }
   }
  },
  {
   "cell_type": "code",
   "execution_count": 16,
   "outputs": [
    {
     "name": "stdout",
     "output_type": "stream",
     "text": [
      "424.582806573957\n",
      "-4.18457648546144\n"
     ]
    }
   ],
   "source": [
    "print(b0)\n",
    "print(b1)"
   ],
   "metadata": {
    "collapsed": false,
    "pycharm": {
     "name": "#%%\n"
    }
   }
  },
  {
   "cell_type": "code",
   "execution_count": 20,
   "outputs": [
    {
     "data": {
      "text/plain": "array([424.58280657, 424.58280657, 424.58280657, 424.58280657,\n       420.39823009, 416.2136536 , 416.2136536 , 416.2136536 ,\n       412.02907712, 412.02907712, 412.02907712, 412.02907712,\n       412.02907712, 412.02907712, 407.84450063, 407.84450063,\n       407.84450063, 407.84450063, 407.84450063, 407.84450063,\n       403.65992415, 399.47534766, 399.47534766, 399.47534766,\n       399.47534766, 399.47534766, 395.29077118, 395.29077118,\n       395.29077118, 395.29077118, 395.29077118, 395.29077118,\n       395.29077118, 391.10619469, 386.9216182 , 382.73704172,\n       382.73704172, 382.73704172, 374.36788875, 374.36788875,\n       370.18331226, 370.18331226, 370.18331226, 370.18331226,\n       370.18331226, 370.18331226, 370.18331226, 370.18331226,\n       365.99873578, 365.99873578, 365.99873578, 365.99873578,\n       365.99873578, 365.99873578, 361.81415929, 361.81415929,\n       361.81415929, 357.62958281, 357.62958281, 353.44500632,\n       353.44500632, 353.44500632, 353.44500632, 353.44500632,\n       353.44500632, 349.26042984, 349.26042984, 349.26042984,\n       349.26042984, 345.07585335, 345.07585335, 345.07585335,\n       345.07585335, 345.07585335, 345.07585335, 345.07585335,\n       345.07585335, 345.07585335, 345.07585335, 345.07585335,\n       345.07585335, 345.07585335, 340.89127686, 340.89127686,\n       340.89127686, 340.89127686, 340.89127686, 340.89127686,\n       340.89127686, 340.89127686, 340.89127686, 340.89127686,\n       340.89127686, 340.89127686, 340.89127686, 340.89127686,\n       340.89127686, 340.89127686, 340.89127686, 340.89127686,\n       340.89127686, 340.89127686, 340.89127686, 340.89127686,\n       336.70670038, 336.70670038, 336.70670038, 336.70670038,\n       336.70670038, 336.70670038, 336.70670038, 336.70670038,\n       336.70670038, 336.70670038, 332.52212389, 332.52212389,\n       332.52212389, 332.52212389, 332.52212389, 332.52212389,\n       328.33754741, 328.33754741])"
     },
     "execution_count": 20,
     "metadata": {},
     "output_type": "execute_result"
    }
   ],
   "source": [
    "fitted = model.predict(data[['Exposure']])\n",
    "\n",
    "fitted"
   ],
   "metadata": {
    "collapsed": false,
    "pycharm": {
     "name": "#%%\n"
    }
   }
  },
  {
   "cell_type": "code",
   "execution_count": 22,
   "outputs": [
    {
     "data": {
      "text/plain": "0      -34.582807\n1      -14.582807\n2        5.417193\n3       35.417193\n4       -0.398230\n          ...    \n117    117.477876\n118    157.477876\n119    167.477876\n120     41.662453\n121     61.662453\nName: PEFR, Length: 122, dtype: float64"
     },
     "execution_count": 22,
     "metadata": {},
     "output_type": "execute_result"
    }
   ],
   "source": [
    "residuals = data['PEFR'] - fitted\n",
    "\n",
    "residuals"
   ],
   "metadata": {
    "collapsed": false,
    "pycharm": {
     "name": "#%%\n"
    }
   }
  },
  {
   "cell_type": "code",
   "execution_count": 24,
   "outputs": [
    {
     "data": {
      "text/plain": "<Figure size 432x288 with 1 Axes>",
      "image/png": "[encoded data removed]"
     },
     "metadata": {
      "needs_background": "light"
     },
     "output_type": "display_data"
    }
   ],
   "source": [
    "fig = plt.figure()\n",
    "plt.scatter(data.Exposure,data.PEFR)\n",
    "plt.plot(Y,color=\"red\")\n",
    "plt.show()"
   ],
   "metadata": {
    "collapsed": false,
    "pycharm": {
     "name": "#%%\n"
    }
   }
  },
  {
   "cell_type": "code",
   "execution_count": null,
   "outputs": [],
   "source": [],
   "metadata": {
    "collapsed": false,
    "pycharm": {
     "name": "#%%\n"
    }
   }
  }
 ],
 "metadata": {
  "kernelspec": {
   "display_name": "Python 3",
   "language": "python",
   "name": "python3"
  },
  "language_info": {
   "codemirror_mode": {
    "name": "ipython",
    "version": 2
   },
   "file_extension": ".py",
   "mimetype": "text/x-python",
   "name": "python",
   "nbconvert_exporter": "python",
   "pygments_lexer": "ipython2",
   "version": "2.7.6"
  }
 },
 "nbformat": 4,
 "nbformat_minor": 0
}